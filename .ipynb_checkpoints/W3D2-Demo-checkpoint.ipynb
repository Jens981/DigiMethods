{
 "cells": [
  {
   "cell_type": "markdown",
   "metadata": {},
   "source": [
    "# Demo 4: APIs and Functions II \n",
    "\n",
    "## 4.1 Twitter API\n"
   ]
  },
  {
   "cell_type": "markdown",
   "metadata": {},
   "source": [
    "**4.1.1 Installing and importing new modules:** Before we can interact with the Twitter API, we need to install the `tweepy` module. We would usually install modules outside our Jupyter Notebooks using the command line. However, we can actually also interact with the command line from within our Notebooks using the `!` operator. Now, uncomment the cell below and run it."
   ]
  },
  {
   "cell_type": "code",
   "execution_count": 2,
   "metadata": {},
   "outputs": [
    {
     "name": "stdout",
     "output_type": "stream",
     "text": [
      "Collecting package metadata (current_repodata.json): ...working... done\n",
      "Solving environment: ...working... done\n",
      "\n",
      "## Package Plan ##\n",
      "\n",
      "  environment location: C:\\Users\\JeNiE\\Anaconda3\n",
      "\n",
      "  added / updated specs:\n",
      "    - tweepy\n",
      "\n",
      "\n",
      "The following packages will be downloaded:\n",
      "\n",
      "    package                    |            build\n",
      "    ---------------------------|-----------------\n",
      "    blinker-1.4                |             py_1          13 KB  conda-forge\n",
      "    conda-4.8.2                |           py37_0         3.0 MB  conda-forge\n",
      "    oauthlib-3.0.1             |             py_0          82 KB  conda-forge\n",
      "    pyjwt-1.7.1                |             py_0          17 KB  conda-forge\n",
      "    requests-oauthlib-1.2.0    |             py_0          19 KB  conda-forge\n",
      "    tweepy-3.8.0               |             py_0          26 KB  conda-forge\n",
      "    ------------------------------------------------------------\n",
      "                                           Total:         3.2 MB\n",
      "\n",
      "The following NEW packages will be INSTALLED:\n",
      "\n",
      "  blinker            conda-forge/noarch::blinker-1.4-py_1\n",
      "  oauthlib           conda-forge/noarch::oauthlib-3.0.1-py_0\n",
      "  pyjwt              conda-forge/noarch::pyjwt-1.7.1-py_0\n",
      "  requests-oauthlib  conda-forge/noarch::requests-oauthlib-1.2.0-py_0\n",
      "  tweepy             conda-forge/noarch::tweepy-3.8.0-py_0\n",
      "\n",
      "The following packages will be UPDATED:\n",
      "\n",
      "  conda                      pkgs/main::conda-4.7.12-py37_0 --> conda-forge::conda-4.8.2-py37_0\n",
      "\n",
      "\n",
      "\n",
      "Downloading and Extracting Packages\n",
      "\n",
      "blinker-1.4          | 13 KB     |            |   0% \n",
      "blinker-1.4          | 13 KB     | ########## | 100% \n",
      "\n",
      "conda-4.8.2          | 3.0 MB    |            |   0% \n",
      "conda-4.8.2          | 3.0 MB    | ##         |  21% \n",
      "conda-4.8.2          | 3.0 MB    | ######3    |  63% \n",
      "conda-4.8.2          | 3.0 MB    | ########## | 100% \n",
      "\n",
      "pyjwt-1.7.1          | 17 KB     |            |   0% \n",
      "pyjwt-1.7.1          | 17 KB     | ########## | 100% \n",
      "\n",
      "requests-oauthlib-1. | 19 KB     |            |   0% \n",
      "requests-oauthlib-1. | 19 KB     | ########## | 100% \n",
      "\n",
      "oauthlib-3.0.1       | 82 KB     |            |   0% \n",
      "oauthlib-3.0.1       | 82 KB     | ########## | 100% \n",
      "\n",
      "tweepy-3.8.0         | 26 KB     |            |   0% \n",
      "tweepy-3.8.0         | 26 KB     | ########## | 100% \n",
      "Preparing transaction: ...working... done\n",
      "Verifying transaction: ...working... done\n",
      "Executing transaction: ...working... done\n"
     ]
    },
    {
     "name": "stderr",
     "output_type": "stream",
     "text": [
      "\n",
      "\n",
      "==> WARNING: A newer version of conda exists. <==\n",
      "  current version: 4.7.12\n",
      "  latest version: 4.8.2\n",
      "\n",
      "Please update conda by running\n",
      "\n",
      "    $ conda update -n base -c defaults conda\n",
      "\n",
      "\n"
     ]
    }
   ],
   "source": [
    "# # BEFORE WE CAN USE THE TWEEPY LIBRARY, WE NEED DO INSTALL IT\n",
    "# # THAT IS, UNCOMMENT AND EXECUTE THIS CELL ONCE\n",
    "# # need to use sys.prefix to install from within jupyter notebook\n",
    "# # following: https://jakevdp.github.io/blog/2017/12/05/installing-python-packages-from-jupyter/\n",
    "import sys\n",
    "! conda install --yes --prefix {sys.prefix} -c conda-forge tweepy"
   ]
  },
  {
   "cell_type": "markdown",
   "metadata": {},
   "source": [
    "After you have run the above cell, make sure everything worked as expected and that you have successfully installed `tweepy` by importing the module and checking it's version using the commands in the cell below."
   ]
  },
  {
   "cell_type": "code",
   "execution_count": 1,
   "metadata": {},
   "outputs": [
    {
     "name": "stdout",
     "output_type": "stream",
     "text": [
      "3.8.0\n"
     ]
    }
   ],
   "source": [
    "import tweepy\n",
    "print(tweepy.__version__)"
   ]
  },
  {
   "cell_type": "markdown",
   "metadata": {},
   "source": [
    "**4.1.2 Loading credentials and authenticating to the API**: Now that we have installed and imported the `tweepy` module, we can use it to authenticate ourselves to the Twitter API. To do this, we first need to access our credentials from the file _AppCred.py_ we set up earlier in class. Running the cell below will load your Twitter developer credentials and make them available in this session of your Jupyter Notebook."
   ]
  },
  {
   "cell_type": "code",
   "execution_count": 2,
   "metadata": {},
   "outputs": [],
   "source": [
    "from AppCred import CONSUMER_KEY, CONSUMER_SECRET\n",
    "from AppCred import ACCESS_TOKEN, ACCESS_TOKEN_SECRET"
   ]
  },
  {
   "cell_type": "markdown",
   "metadata": {},
   "source": [
    "Now we can start the authentication process to access the Twitter API by passing your consumer details to the `OAuthHandler` function from the `tweepy` module."
   ]
  },
  {
   "cell_type": "code",
   "execution_count": 3,
   "metadata": {},
   "outputs": [],
   "source": [
    "auth = tweepy.OAuthHandler(CONSUMER_KEY, CONSUMER_SECRET)"
   ]
  },
  {
   "cell_type": "markdown",
   "metadata": {},
   "source": [
    "Next, we add our access details to the `auth` variable we just created."
   ]
  },
  {
   "cell_type": "code",
   "execution_count": 4,
   "metadata": {},
   "outputs": [],
   "source": [
    "auth.set_access_token(ACCESS_TOKEN, ACCESS_TOKEN_SECRET)"
   ]
  },
  {
   "cell_type": "markdown",
   "metadata": {},
   "source": [
    "Finally, we pass our `auth` variable to the `API` function provided in the `tweepy` module to generate variable that allows us to interact with Twitter API."
   ]
  },
  {
   "cell_type": "code",
   "execution_count": 5,
   "metadata": {},
   "outputs": [],
   "source": [
    "api = tweepy.API(auth)"
   ]
  },
  {
   "cell_type": "markdown",
   "metadata": {},
   "source": [
    "**4.1.3 Interacting with the Twitter API:** Now that we authenticated ourselves to the Twitter API, we can use it to post and delete tweets from our own account, favorite and retweet tweets from other accounts, and collect information from other public Twitter accounts. \n",
    "\n",
    "**4.1.3.1 Tweeting:** Let's try posting a tweet with our well known example using the `update_status` function."
   ]
  },
  {
   "cell_type": "code",
   "execution_count": 10,
   "metadata": {},
   "outputs": [
    {
     "data": {
      "text/plain": [
       "Status(_api=<tweepy.api.API object at 0x000001E324D4B1C8>, _json={'created_at': 'Fri Feb 21 11:54:05 +0000 2020', 'id': 1230822999776952320, 'id_str': '1230822999776952320', 'text': 'Hej', 'truncated': False, 'entities': {'hashtags': [], 'symbols': [], 'user_mentions': [], 'urls': []}, 'source': '<a href=\"https://data.com\" rel=\"nofollow\">Digimeth</a>', 'in_reply_to_status_id': None, 'in_reply_to_status_id_str': None, 'in_reply_to_user_id': None, 'in_reply_to_user_id_str': None, 'in_reply_to_screen_name': None, 'user': {'id': 1099070485722251264, 'id_str': '1099070485722251264', 'name': 'Jens Pedersen', 'screen_name': 'JensPed98928586', 'location': '', 'description': '', 'url': None, 'entities': {'description': {'urls': []}}, 'protected': False, 'followers_count': 0, 'friends_count': 33, 'listed_count': 0, 'created_at': 'Fri Feb 22 22:16:38 +0000 2019', 'favourites_count': 0, 'utc_offset': None, 'time_zone': None, 'geo_enabled': False, 'verified': False, 'statuses_count': 1, 'lang': None, 'contributors_enabled': False, 'is_translator': False, 'is_translation_enabled': False, 'profile_background_color': 'F5F8FA', 'profile_background_image_url': None, 'profile_background_image_url_https': None, 'profile_background_tile': False, 'profile_image_url': 'http://abs.twimg.com/sticky/default_profile_images/default_profile_normal.png', 'profile_image_url_https': 'https://abs.twimg.com/sticky/default_profile_images/default_profile_normal.png', 'profile_link_color': '1DA1F2', 'profile_sidebar_border_color': 'C0DEED', 'profile_sidebar_fill_color': 'DDEEF6', 'profile_text_color': '333333', 'profile_use_background_image': True, 'has_extended_profile': False, 'default_profile': True, 'default_profile_image': True, 'following': False, 'follow_request_sent': False, 'notifications': False, 'translator_type': 'none'}, 'geo': None, 'coordinates': None, 'place': None, 'contributors': None, 'is_quote_status': False, 'retweet_count': 0, 'favorite_count': 0, 'favorited': False, 'retweeted': False, 'lang': 'und'}, created_at=datetime.datetime(2020, 2, 21, 11, 54, 5), id=1230822999776952320, id_str='1230822999776952320', text='Hej', truncated=False, entities={'hashtags': [], 'symbols': [], 'user_mentions': [], 'urls': []}, source='Digimeth', source_url='https://data.com', in_reply_to_status_id=None, in_reply_to_status_id_str=None, in_reply_to_user_id=None, in_reply_to_user_id_str=None, in_reply_to_screen_name=None, author=User(_api=<tweepy.api.API object at 0x000001E324D4B1C8>, _json={'id': 1099070485722251264, 'id_str': '1099070485722251264', 'name': 'Jens Pedersen', 'screen_name': 'JensPed98928586', 'location': '', 'description': '', 'url': None, 'entities': {'description': {'urls': []}}, 'protected': False, 'followers_count': 0, 'friends_count': 33, 'listed_count': 0, 'created_at': 'Fri Feb 22 22:16:38 +0000 2019', 'favourites_count': 0, 'utc_offset': None, 'time_zone': None, 'geo_enabled': False, 'verified': False, 'statuses_count': 1, 'lang': None, 'contributors_enabled': False, 'is_translator': False, 'is_translation_enabled': False, 'profile_background_color': 'F5F8FA', 'profile_background_image_url': None, 'profile_background_image_url_https': None, 'profile_background_tile': False, 'profile_image_url': 'http://abs.twimg.com/sticky/default_profile_images/default_profile_normal.png', 'profile_image_url_https': 'https://abs.twimg.com/sticky/default_profile_images/default_profile_normal.png', 'profile_link_color': '1DA1F2', 'profile_sidebar_border_color': 'C0DEED', 'profile_sidebar_fill_color': 'DDEEF6', 'profile_text_color': '333333', 'profile_use_background_image': True, 'has_extended_profile': False, 'default_profile': True, 'default_profile_image': True, 'following': False, 'follow_request_sent': False, 'notifications': False, 'translator_type': 'none'}, id=1099070485722251264, id_str='1099070485722251264', name='Jens Pedersen', screen_name='JensPed98928586', location='', description='', url=None, entities={'description': {'urls': []}}, protected=False, followers_count=0, friends_count=33, listed_count=0, created_at=datetime.datetime(2019, 2, 22, 22, 16, 38), favourites_count=0, utc_offset=None, time_zone=None, geo_enabled=False, verified=False, statuses_count=1, lang=None, contributors_enabled=False, is_translator=False, is_translation_enabled=False, profile_background_color='F5F8FA', profile_background_image_url=None, profile_background_image_url_https=None, profile_background_tile=False, profile_image_url='http://abs.twimg.com/sticky/default_profile_images/default_profile_normal.png', profile_image_url_https='https://abs.twimg.com/sticky/default_profile_images/default_profile_normal.png', profile_link_color='1DA1F2', profile_sidebar_border_color='C0DEED', profile_sidebar_fill_color='DDEEF6', profile_text_color='333333', profile_use_background_image=True, has_extended_profile=False, default_profile=True, default_profile_image=True, following=False, follow_request_sent=False, notifications=False, translator_type='none'), user=User(_api=<tweepy.api.API object at 0x000001E324D4B1C8>, _json={'id': 1099070485722251264, 'id_str': '1099070485722251264', 'name': 'Jens Pedersen', 'screen_name': 'JensPed98928586', 'location': '', 'description': '', 'url': None, 'entities': {'description': {'urls': []}}, 'protected': False, 'followers_count': 0, 'friends_count': 33, 'listed_count': 0, 'created_at': 'Fri Feb 22 22:16:38 +0000 2019', 'favourites_count': 0, 'utc_offset': None, 'time_zone': None, 'geo_enabled': False, 'verified': False, 'statuses_count': 1, 'lang': None, 'contributors_enabled': False, 'is_translator': False, 'is_translation_enabled': False, 'profile_background_color': 'F5F8FA', 'profile_background_image_url': None, 'profile_background_image_url_https': None, 'profile_background_tile': False, 'profile_image_url': 'http://abs.twimg.com/sticky/default_profile_images/default_profile_normal.png', 'profile_image_url_https': 'https://abs.twimg.com/sticky/default_profile_images/default_profile_normal.png', 'profile_link_color': '1DA1F2', 'profile_sidebar_border_color': 'C0DEED', 'profile_sidebar_fill_color': 'DDEEF6', 'profile_text_color': '333333', 'profile_use_background_image': True, 'has_extended_profile': False, 'default_profile': True, 'default_profile_image': True, 'following': False, 'follow_request_sent': False, 'notifications': False, 'translator_type': 'none'}, id=1099070485722251264, id_str='1099070485722251264', name='Jens Pedersen', screen_name='JensPed98928586', location='', description='', url=None, entities={'description': {'urls': []}}, protected=False, followers_count=0, friends_count=33, listed_count=0, created_at=datetime.datetime(2019, 2, 22, 22, 16, 38), favourites_count=0, utc_offset=None, time_zone=None, geo_enabled=False, verified=False, statuses_count=1, lang=None, contributors_enabled=False, is_translator=False, is_translation_enabled=False, profile_background_color='F5F8FA', profile_background_image_url=None, profile_background_image_url_https=None, profile_background_tile=False, profile_image_url='http://abs.twimg.com/sticky/default_profile_images/default_profile_normal.png', profile_image_url_https='https://abs.twimg.com/sticky/default_profile_images/default_profile_normal.png', profile_link_color='1DA1F2', profile_sidebar_border_color='C0DEED', profile_sidebar_fill_color='DDEEF6', profile_text_color='333333', profile_use_background_image=True, has_extended_profile=False, default_profile=True, default_profile_image=True, following=False, follow_request_sent=False, notifications=False, translator_type='none'), geo=None, coordinates=None, place=None, contributors=None, is_quote_status=False, retweet_count=0, favorite_count=0, favorited=False, retweeted=False, lang='und')"
      ]
     },
     "execution_count": 10,
     "metadata": {},
     "output_type": "execute_result"
    }
   ],
   "source": [
    "api.update_status(\"Hej\")"
   ]
  },
  {
   "cell_type": "markdown",
   "metadata": {},
   "source": [
    "You just posted your first tweet using Python, how exciting! Now, go to your Twitter profile and see if you can find the tweet by going to _twitter.com/YOUR_USERNAME_.\n",
    "\n",
    "**4.1.3.2 Deleting:** In addition to posting on Twitter, we can also delete our own tweets. To do that we need to find the _tweet id_ of our post. See if you can find your tweet's id, then pass it to the function `destroy_status` below and see what happens when you execute the cell and return to your Twitter profile. "
   ]
  },
  {
   "cell_type": "code",
   "execution_count": 11,
   "metadata": {},
   "outputs": [
    {
     "ename": "TweepError",
     "evalue": "[{'code': 144, 'message': 'No status found with that ID.'}]",
     "output_type": "error",
     "traceback": [
      "\u001b[1;31m---------------------------------------------------------------------------\u001b[0m",
      "\u001b[1;31mTweepError\u001b[0m                                Traceback (most recent call last)",
      "\u001b[1;32m<ipython-input-11-8471650a4cc9>\u001b[0m in \u001b[0;36m<module>\u001b[1;34m\u001b[0m\n\u001b[1;32m----> 1\u001b[1;33m \u001b[0mapi\u001b[0m\u001b[1;33m.\u001b[0m\u001b[0mdestroy_status\u001b[0m\u001b[1;33m(\u001b[0m\u001b[1;34m\"1230822999776952320\"\u001b[0m\u001b[1;33m)\u001b[0m\u001b[1;33m\u001b[0m\u001b[1;33m\u001b[0m\u001b[0m\n\u001b[0m",
      "\u001b[1;32m~\\Anaconda3\\lib\\site-packages\\tweepy\\binder.py\u001b[0m in \u001b[0;36m_call\u001b[1;34m(*args, **kwargs)\u001b[0m\n\u001b[0;32m    248\u001b[0m                 \u001b[1;32mreturn\u001b[0m \u001b[0mmethod\u001b[0m\u001b[1;33m\u001b[0m\u001b[1;33m\u001b[0m\u001b[0m\n\u001b[0;32m    249\u001b[0m             \u001b[1;32melse\u001b[0m\u001b[1;33m:\u001b[0m\u001b[1;33m\u001b[0m\u001b[1;33m\u001b[0m\u001b[0m\n\u001b[1;32m--> 250\u001b[1;33m                 \u001b[1;32mreturn\u001b[0m \u001b[0mmethod\u001b[0m\u001b[1;33m.\u001b[0m\u001b[0mexecute\u001b[0m\u001b[1;33m(\u001b[0m\u001b[1;33m)\u001b[0m\u001b[1;33m\u001b[0m\u001b[1;33m\u001b[0m\u001b[0m\n\u001b[0m\u001b[0;32m    251\u001b[0m         \u001b[1;32mfinally\u001b[0m\u001b[1;33m:\u001b[0m\u001b[1;33m\u001b[0m\u001b[1;33m\u001b[0m\u001b[0m\n\u001b[0;32m    252\u001b[0m             \u001b[0mmethod\u001b[0m\u001b[1;33m.\u001b[0m\u001b[0msession\u001b[0m\u001b[1;33m.\u001b[0m\u001b[0mclose\u001b[0m\u001b[1;33m(\u001b[0m\u001b[1;33m)\u001b[0m\u001b[1;33m\u001b[0m\u001b[1;33m\u001b[0m\u001b[0m\n",
      "\u001b[1;32m~\\Anaconda3\\lib\\site-packages\\tweepy\\binder.py\u001b[0m in \u001b[0;36mexecute\u001b[1;34m(self)\u001b[0m\n\u001b[0;32m    231\u001b[0m                     \u001b[1;32mraise\u001b[0m \u001b[0mRateLimitError\u001b[0m\u001b[1;33m(\u001b[0m\u001b[0merror_msg\u001b[0m\u001b[1;33m,\u001b[0m \u001b[0mresp\u001b[0m\u001b[1;33m)\u001b[0m\u001b[1;33m\u001b[0m\u001b[1;33m\u001b[0m\u001b[0m\n\u001b[0;32m    232\u001b[0m                 \u001b[1;32melse\u001b[0m\u001b[1;33m:\u001b[0m\u001b[1;33m\u001b[0m\u001b[1;33m\u001b[0m\u001b[0m\n\u001b[1;32m--> 233\u001b[1;33m                     \u001b[1;32mraise\u001b[0m \u001b[0mTweepError\u001b[0m\u001b[1;33m(\u001b[0m\u001b[0merror_msg\u001b[0m\u001b[1;33m,\u001b[0m \u001b[0mresp\u001b[0m\u001b[1;33m,\u001b[0m \u001b[0mapi_code\u001b[0m\u001b[1;33m=\u001b[0m\u001b[0mapi_error_code\u001b[0m\u001b[1;33m)\u001b[0m\u001b[1;33m\u001b[0m\u001b[1;33m\u001b[0m\u001b[0m\n\u001b[0m\u001b[0;32m    234\u001b[0m \u001b[1;33m\u001b[0m\u001b[0m\n\u001b[0;32m    235\u001b[0m             \u001b[1;31m# Parse the response payload\u001b[0m\u001b[1;33m\u001b[0m\u001b[1;33m\u001b[0m\u001b[1;33m\u001b[0m\u001b[0m\n",
      "\u001b[1;31mTweepError\u001b[0m: [{'code': 144, 'message': 'No status found with that ID.'}]"
     ]
    }
   ],
   "source": [
    "api.destroy_status(\"1230822999776952320\")"
   ]
  },
  {
   "cell_type": "markdown",
   "metadata": {},
   "source": [
    "**4.1.3.3 Reading:** For many research purposes you might be more interested in collecting information such as tweets from Twitter rather than posting your own. We can also do this in Python using the Twitter API. Let's start with a simple example of accessing the complete timeline of an account I created for our class."
   ]
  },
  {
   "cell_type": "code",
   "execution_count": 6,
   "metadata": {},
   "outputs": [],
   "source": [
    "example_timeline = api.user_timeline(\"vicariousveblen\")"
   ]
  },
  {
   "cell_type": "code",
   "execution_count": 73,
   "metadata": {},
   "outputs": [
    {
     "name": "stdout",
     "output_type": "stream",
     "text": [
      "[Status(_api=<tweepy.api.API object at 0x00000251131CF708>, _json={'created_at': 'Tue Feb 18 16:49:23 +0000 2020', 'id': 1229810150904680452, 'id_str': '1229810150904680452', 'text': 'For the end of vicarious consumption is to enhance, not the fullness of life of the consumer, but the pecuniary rep… https://t.co/x2O7ALCem3', 'truncated': True, 'entities': {'hashtags': [], 'symbols': [], 'user_mentions': [], 'urls': [{'url': 'https://t.co/x2O7ALCem3', 'expanded_url': 'https://twitter.com/i/web/status/1229810150904680452', 'display_url': 'twitter.com/i/web/status/1…', 'indices': [117, 140]}]}, 'source': '<a href=\"https://google.com\" rel=\"nofollow\">DigitalMethods2020</a>', 'in_reply_to_status_id': None, 'in_reply_to_status_id_str': None, 'in_reply_to_user_id': None, 'in_reply_to_user_id_str': None, 'in_reply_to_screen_name': None, 'user': {'id': 1229786706393620480, 'id_str': '1229786706393620480', 'name': 'vicariousveblen', 'screen_name': 'vicariousveblen', 'location': 'Cato, Wisconsin', 'description': 'Living my best Veblen life, vicariously.', 'url': 'https://t.co/YyaeTc3KgO', 'entities': {'url': {'urls': [{'url': 'https://t.co/YyaeTc3KgO', 'expanded_url': 'https://en.wikipedia.org/wiki/Thorstein_Veblen', 'display_url': 'en.wikipedia.org/wiki/Thorstein…', 'indices': [0, 23]}]}, 'description': {'urls': []}}, 'protected': False, 'followers_count': 0, 'friends_count': 0, 'listed_count': 0, 'created_at': 'Tue Feb 18 15:16:58 +0000 2020', 'favourites_count': 0, 'utc_offset': None, 'time_zone': None, 'geo_enabled': False, 'verified': False, 'statuses_count': 4, 'lang': None, 'contributors_enabled': False, 'is_translator': False, 'is_translation_enabled': False, 'profile_background_color': 'F5F8FA', 'profile_background_image_url': None, 'profile_background_image_url_https': None, 'profile_background_tile': False, 'profile_image_url': 'http://pbs.twimg.com/profile_images/1229787334570336256/6X2Ueuxl_normal.jpg', 'profile_image_url_https': 'https://pbs.twimg.com/profile_images/1229787334570336256/6X2Ueuxl_normal.jpg', 'profile_link_color': '1DA1F2', 'profile_sidebar_border_color': 'C0DEED', 'profile_sidebar_fill_color': 'DDEEF6', 'profile_text_color': '333333', 'profile_use_background_image': True, 'has_extended_profile': False, 'default_profile': True, 'default_profile_image': False, 'following': False, 'follow_request_sent': False, 'notifications': False, 'translator_type': 'none'}, 'geo': None, 'coordinates': None, 'place': None, 'contributors': None, 'is_quote_status': False, 'retweet_count': 0, 'favorite_count': 0, 'favorited': False, 'retweeted': False, 'lang': 'en'}, created_at=datetime.datetime(2020, 2, 18, 16, 49, 23), id=1229810150904680452, id_str='1229810150904680452', text='For the end of vicarious consumption is to enhance, not the fullness of life of the consumer, but the pecuniary rep… https://t.co/x2O7ALCem3', truncated=True, entities={'hashtags': [], 'symbols': [], 'user_mentions': [], 'urls': [{'url': 'https://t.co/x2O7ALCem3', 'expanded_url': 'https://twitter.com/i/web/status/1229810150904680452', 'display_url': 'twitter.com/i/web/status/1…', 'indices': [117, 140]}]}, source='DigitalMethods2020', source_url='https://google.com', in_reply_to_status_id=None, in_reply_to_status_id_str=None, in_reply_to_user_id=None, in_reply_to_user_id_str=None, in_reply_to_screen_name=None, author=User(_api=<tweepy.api.API object at 0x00000251131CF708>, _json={'id': 1229786706393620480, 'id_str': '1229786706393620480', 'name': 'vicariousveblen', 'screen_name': 'vicariousveblen', 'location': 'Cato, Wisconsin', 'description': 'Living my best Veblen life, vicariously.', 'url': 'https://t.co/YyaeTc3KgO', 'entities': {'url': {'urls': [{'url': 'https://t.co/YyaeTc3KgO', 'expanded_url': 'https://en.wikipedia.org/wiki/Thorstein_Veblen', 'display_url': 'en.wikipedia.org/wiki/Thorstein…', 'indices': [0, 23]}]}, 'description': {'urls': []}}, 'protected': False, 'followers_count': 0, 'friends_count': 0, 'listed_count': 0, 'created_at': 'Tue Feb 18 15:16:58 +0000 2020', 'favourites_count': 0, 'utc_offset': None, 'time_zone': None, 'geo_enabled': False, 'verified': False, 'statuses_count': 4, 'lang': None, 'contributors_enabled': False, 'is_translator': False, 'is_translation_enabled': False, 'profile_background_color': 'F5F8FA', 'profile_background_image_url': None, 'profile_background_image_url_https': None, 'profile_background_tile': False, 'profile_image_url': 'http://pbs.twimg.com/profile_images/1229787334570336256/6X2Ueuxl_normal.jpg', 'profile_image_url_https': 'https://pbs.twimg.com/profile_images/1229787334570336256/6X2Ueuxl_normal.jpg', 'profile_link_color': '1DA1F2', 'profile_sidebar_border_color': 'C0DEED', 'profile_sidebar_fill_color': 'DDEEF6', 'profile_text_color': '333333', 'profile_use_background_image': True, 'has_extended_profile': False, 'default_profile': True, 'default_profile_image': False, 'following': False, 'follow_request_sent': False, 'notifications': False, 'translator_type': 'none'}, id=1229786706393620480, id_str='1229786706393620480', name='vicariousveblen', screen_name='vicariousveblen', location='Cato, Wisconsin', description='Living my best Veblen life, vicariously.', url='https://t.co/YyaeTc3KgO', entities={'url': {'urls': [{'url': 'https://t.co/YyaeTc3KgO', 'expanded_url': 'https://en.wikipedia.org/wiki/Thorstein_Veblen', 'display_url': 'en.wikipedia.org/wiki/Thorstein…', 'indices': [0, 23]}]}, 'description': {'urls': []}}, protected=False, followers_count=0, friends_count=0, listed_count=0, created_at=datetime.datetime(2020, 2, 18, 15, 16, 58), favourites_count=0, utc_offset=None, time_zone=None, geo_enabled=False, verified=False, statuses_count=4, lang=None, contributors_enabled=False, is_translator=False, is_translation_enabled=False, profile_background_color='F5F8FA', profile_background_image_url=None, profile_background_image_url_https=None, profile_background_tile=False, profile_image_url='http://pbs.twimg.com/profile_images/1229787334570336256/6X2Ueuxl_normal.jpg', profile_image_url_https='https://pbs.twimg.com/profile_images/1229787334570336256/6X2Ueuxl_normal.jpg', profile_link_color='1DA1F2', profile_sidebar_border_color='C0DEED', profile_sidebar_fill_color='DDEEF6', profile_text_color='333333', profile_use_background_image=True, has_extended_profile=False, default_profile=True, default_profile_image=False, following=False, follow_request_sent=False, notifications=False, translator_type='none'), user=User(_api=<tweepy.api.API object at 0x00000251131CF708>, _json={'id': 1229786706393620480, 'id_str': '1229786706393620480', 'name': 'vicariousveblen', 'screen_name': 'vicariousveblen', 'location': 'Cato, Wisconsin', 'description': 'Living my best Veblen life, vicariously.', 'url': 'https://t.co/YyaeTc3KgO', 'entities': {'url': {'urls': [{'url': 'https://t.co/YyaeTc3KgO', 'expanded_url': 'https://en.wikipedia.org/wiki/Thorstein_Veblen', 'display_url': 'en.wikipedia.org/wiki/Thorstein…', 'indices': [0, 23]}]}, 'description': {'urls': []}}, 'protected': False, 'followers_count': 0, 'friends_count': 0, 'listed_count': 0, 'created_at': 'Tue Feb 18 15:16:58 +0000 2020', 'favourites_count': 0, 'utc_offset': None, 'time_zone': None, 'geo_enabled': False, 'verified': False, 'statuses_count': 4, 'lang': None, 'contributors_enabled': False, 'is_translator': False, 'is_translation_enabled': False, 'profile_background_color': 'F5F8FA', 'profile_background_image_url': None, 'profile_background_image_url_https': None, 'profile_background_tile': False, 'profile_image_url': 'http://pbs.twimg.com/profile_images/1229787334570336256/6X2Ueuxl_normal.jpg', 'profile_image_url_https': 'https://pbs.twimg.com/profile_images/1229787334570336256/6X2Ueuxl_normal.jpg', 'profile_link_color': '1DA1F2', 'profile_sidebar_border_color': 'C0DEED', 'profile_sidebar_fill_color': 'DDEEF6', 'profile_text_color': '333333', 'profile_use_background_image': True, 'has_extended_profile': False, 'default_profile': True, 'default_profile_image': False, 'following': False, 'follow_request_sent': False, 'notifications': False, 'translator_type': 'none'}, id=1229786706393620480, id_str='1229786706393620480', name='vicariousveblen', screen_name='vicariousveblen', location='Cato, Wisconsin', description='Living my best Veblen life, vicariously.', url='https://t.co/YyaeTc3KgO', entities={'url': {'urls': [{'url': 'https://t.co/YyaeTc3KgO', 'expanded_url': 'https://en.wikipedia.org/wiki/Thorstein_Veblen', 'display_url': 'en.wikipedia.org/wiki/Thorstein…', 'indices': [0, 23]}]}, 'description': {'urls': []}}, protected=False, followers_count=0, friends_count=0, listed_count=0, created_at=datetime.datetime(2020, 2, 18, 15, 16, 58), favourites_count=0, utc_offset=None, time_zone=None, geo_enabled=False, verified=False, statuses_count=4, lang=None, contributors_enabled=False, is_translator=False, is_translation_enabled=False, profile_background_color='F5F8FA', profile_background_image_url=None, profile_background_image_url_https=None, profile_background_tile=False, profile_image_url='http://pbs.twimg.com/profile_images/1229787334570336256/6X2Ueuxl_normal.jpg', profile_image_url_https='https://pbs.twimg.com/profile_images/1229787334570336256/6X2Ueuxl_normal.jpg', profile_link_color='1DA1F2', profile_sidebar_border_color='C0DEED', profile_sidebar_fill_color='DDEEF6', profile_text_color='333333', profile_use_background_image=True, has_extended_profile=False, default_profile=True, default_profile_image=False, following=False, follow_request_sent=False, notifications=False, translator_type='none'), geo=None, coordinates=None, place=None, contributors=None, is_quote_status=False, retweet_count=0, favorite_count=0, favorited=False, retweeted=False, lang='en'), Status(_api=<tweepy.api.API object at 0x00000251131CF708>, _json={'created_at': 'Tue Feb 18 16:47:23 +0000 2020', 'id': 1229809646287933441, 'id_str': '1229809646287933441', 'text': 'As has already been indicated, the distinction between exploit and drudgery is an invidious distinction between employments.', 'truncated': False, 'entities': {'hashtags': [], 'symbols': [], 'user_mentions': [], 'urls': []}, 'source': '<a href=\"https://google.com\" rel=\"nofollow\">DigitalMethods2020</a>', 'in_reply_to_status_id': None, 'in_reply_to_status_id_str': None, 'in_reply_to_user_id': None, 'in_reply_to_user_id_str': None, 'in_reply_to_screen_name': None, 'user': {'id': 1229786706393620480, 'id_str': '1229786706393620480', 'name': 'vicariousveblen', 'screen_name': 'vicariousveblen', 'location': 'Cato, Wisconsin', 'description': 'Living my best Veblen life, vicariously.', 'url': 'https://t.co/YyaeTc3KgO', 'entities': {'url': {'urls': [{'url': 'https://t.co/YyaeTc3KgO', 'expanded_url': 'https://en.wikipedia.org/wiki/Thorstein_Veblen', 'display_url': 'en.wikipedia.org/wiki/Thorstein…', 'indices': [0, 23]}]}, 'description': {'urls': []}}, 'protected': False, 'followers_count': 0, 'friends_count': 0, 'listed_count': 0, 'created_at': 'Tue Feb 18 15:16:58 +0000 2020', 'favourites_count': 0, 'utc_offset': None, 'time_zone': None, 'geo_enabled': False, 'verified': False, 'statuses_count': 4, 'lang': None, 'contributors_enabled': False, 'is_translator': False, 'is_translation_enabled': False, 'profile_background_color': 'F5F8FA', 'profile_background_image_url': None, 'profile_background_image_url_https': None, 'profile_background_tile': False, 'profile_image_url': 'http://pbs.twimg.com/profile_images/1229787334570336256/6X2Ueuxl_normal.jpg', 'profile_image_url_https': 'https://pbs.twimg.com/profile_images/1229787334570336256/6X2Ueuxl_normal.jpg', 'profile_link_color': '1DA1F2', 'profile_sidebar_border_color': 'C0DEED', 'profile_sidebar_fill_color': 'DDEEF6', 'profile_text_color': '333333', 'profile_use_background_image': True, 'has_extended_profile': False, 'default_profile': True, 'default_profile_image': False, 'following': False, 'follow_request_sent': False, 'notifications': False, 'translator_type': 'none'}, 'geo': None, 'coordinates': None, 'place': None, 'contributors': None, 'is_quote_status': False, 'retweet_count': 0, 'favorite_count': 0, 'favorited': False, 'retweeted': False, 'lang': 'en'}, created_at=datetime.datetime(2020, 2, 18, 16, 47, 23), id=1229809646287933441, id_str='1229809646287933441', text='As has already been indicated, the distinction between exploit and drudgery is an invidious distinction between employments.', truncated=False, entities={'hashtags': [], 'symbols': [], 'user_mentions': [], 'urls': []}, source='DigitalMethods2020', source_url='https://google.com', in_reply_to_status_id=None, in_reply_to_status_id_str=None, in_reply_to_user_id=None, in_reply_to_user_id_str=None, in_reply_to_screen_name=None, author=User(_api=<tweepy.api.API object at 0x00000251131CF708>, _json={'id': 1229786706393620480, 'id_str': '1229786706393620480', 'name': 'vicariousveblen', 'screen_name': 'vicariousveblen', 'location': 'Cato, Wisconsin', 'description': 'Living my best Veblen life, vicariously.', 'url': 'https://t.co/YyaeTc3KgO', 'entities': {'url': {'urls': [{'url': 'https://t.co/YyaeTc3KgO', 'expanded_url': 'https://en.wikipedia.org/wiki/Thorstein_Veblen', 'display_url': 'en.wikipedia.org/wiki/Thorstein…', 'indices': [0, 23]}]}, 'description': {'urls': []}}, 'protected': False, 'followers_count': 0, 'friends_count': 0, 'listed_count': 0, 'created_at': 'Tue Feb 18 15:16:58 +0000 2020', 'favourites_count': 0, 'utc_offset': None, 'time_zone': None, 'geo_enabled': False, 'verified': False, 'statuses_count': 4, 'lang': None, 'contributors_enabled': False, 'is_translator': False, 'is_translation_enabled': False, 'profile_background_color': 'F5F8FA', 'profile_background_image_url': None, 'profile_background_image_url_https': None, 'profile_background_tile': False, 'profile_image_url': 'http://pbs.twimg.com/profile_images/1229787334570336256/6X2Ueuxl_normal.jpg', 'profile_image_url_https': 'https://pbs.twimg.com/profile_images/1229787334570336256/6X2Ueuxl_normal.jpg', 'profile_link_color': '1DA1F2', 'profile_sidebar_border_color': 'C0DEED', 'profile_sidebar_fill_color': 'DDEEF6', 'profile_text_color': '333333', 'profile_use_background_image': True, 'has_extended_profile': False, 'default_profile': True, 'default_profile_image': False, 'following': False, 'follow_request_sent': False, 'notifications': False, 'translator_type': 'none'}, id=1229786706393620480, id_str='1229786706393620480', name='vicariousveblen', screen_name='vicariousveblen', location='Cato, Wisconsin', description='Living my best Veblen life, vicariously.', url='https://t.co/YyaeTc3KgO', entities={'url': {'urls': [{'url': 'https://t.co/YyaeTc3KgO', 'expanded_url': 'https://en.wikipedia.org/wiki/Thorstein_Veblen', 'display_url': 'en.wikipedia.org/wiki/Thorstein…', 'indices': [0, 23]}]}, 'description': {'urls': []}}, protected=False, followers_count=0, friends_count=0, listed_count=0, created_at=datetime.datetime(2020, 2, 18, 15, 16, 58), favourites_count=0, utc_offset=None, time_zone=None, geo_enabled=False, verified=False, statuses_count=4, lang=None, contributors_enabled=False, is_translator=False, is_translation_enabled=False, profile_background_color='F5F8FA', profile_background_image_url=None, profile_background_image_url_https=None, profile_background_tile=False, profile_image_url='http://pbs.twimg.com/profile_images/1229787334570336256/6X2Ueuxl_normal.jpg', profile_image_url_https='https://pbs.twimg.com/profile_images/1229787334570336256/6X2Ueuxl_normal.jpg', profile_link_color='1DA1F2', profile_sidebar_border_color='C0DEED', profile_sidebar_fill_color='DDEEF6', profile_text_color='333333', profile_use_background_image=True, has_extended_profile=False, default_profile=True, default_profile_image=False, following=False, follow_request_sent=False, notifications=False, translator_type='none'), user=User(_api=<tweepy.api.API object at 0x00000251131CF708>, _json={'id': 1229786706393620480, 'id_str': '1229786706393620480', 'name': 'vicariousveblen', 'screen_name': 'vicariousveblen', 'location': 'Cato, Wisconsin', 'description': 'Living my best Veblen life, vicariously.', 'url': 'https://t.co/YyaeTc3KgO', 'entities': {'url': {'urls': [{'url': 'https://t.co/YyaeTc3KgO', 'expanded_url': 'https://en.wikipedia.org/wiki/Thorstein_Veblen', 'display_url': 'en.wikipedia.org/wiki/Thorstein…', 'indices': [0, 23]}]}, 'description': {'urls': []}}, 'protected': False, 'followers_count': 0, 'friends_count': 0, 'listed_count': 0, 'created_at': 'Tue Feb 18 15:16:58 +0000 2020', 'favourites_count': 0, 'utc_offset': None, 'time_zone': None, 'geo_enabled': False, 'verified': False, 'statuses_count': 4, 'lang': None, 'contributors_enabled': False, 'is_translator': False, 'is_translation_enabled': False, 'profile_background_color': 'F5F8FA', 'profile_background_image_url': None, 'profile_background_image_url_https': None, 'profile_background_tile': False, 'profile_image_url': 'http://pbs.twimg.com/profile_images/1229787334570336256/6X2Ueuxl_normal.jpg', 'profile_image_url_https': 'https://pbs.twimg.com/profile_images/1229787334570336256/6X2Ueuxl_normal.jpg', 'profile_link_color': '1DA1F2', 'profile_sidebar_border_color': 'C0DEED', 'profile_sidebar_fill_color': 'DDEEF6', 'profile_text_color': '333333', 'profile_use_background_image': True, 'has_extended_profile': False, 'default_profile': True, 'default_profile_image': False, 'following': False, 'follow_request_sent': False, 'notifications': False, 'translator_type': 'none'}, id=1229786706393620480, id_str='1229786706393620480', name='vicariousveblen', screen_name='vicariousveblen', location='Cato, Wisconsin', description='Living my best Veblen life, vicariously.', url='https://t.co/YyaeTc3KgO', entities={'url': {'urls': [{'url': 'https://t.co/YyaeTc3KgO', 'expanded_url': 'https://en.wikipedia.org/wiki/Thorstein_Veblen', 'display_url': 'en.wikipedia.org/wiki/Thorstein…', 'indices': [0, 23]}]}, 'description': {'urls': []}}, protected=False, followers_count=0, friends_count=0, listed_count=0, created_at=datetime.datetime(2020, 2, 18, 15, 16, 58), favourites_count=0, utc_offset=None, time_zone=None, geo_enabled=False, verified=False, statuses_count=4, lang=None, contributors_enabled=False, is_translator=False, is_translation_enabled=False, profile_background_color='F5F8FA', profile_background_image_url=None, profile_background_image_url_https=None, profile_background_tile=False, profile_image_url='http://pbs.twimg.com/profile_images/1229787334570336256/6X2Ueuxl_normal.jpg', profile_image_url_https='https://pbs.twimg.com/profile_images/1229787334570336256/6X2Ueuxl_normal.jpg', profile_link_color='1DA1F2', profile_sidebar_border_color='C0DEED', profile_sidebar_fill_color='DDEEF6', profile_text_color='333333', profile_use_background_image=True, has_extended_profile=False, default_profile=True, default_profile_image=False, following=False, follow_request_sent=False, notifications=False, translator_type='none'), geo=None, coordinates=None, place=None, contributors=None, is_quote_status=False, retweet_count=0, favorite_count=0, favorited=False, retweeted=False, lang='en'), Status(_api=<tweepy.api.API object at 0x00000251131CF708>, _json={'created_at': 'Tue Feb 18 16:45:22 +0000 2020', 'id': 1229809141423669250, 'id_str': '1229809141423669250', 'text': 'High-bred manners and ways of living are items of conformity to the norm of conspicuous leisure and conspicuous consumption.', 'truncated': False, 'entities': {'hashtags': [], 'symbols': [], 'user_mentions': [], 'urls': []}, 'source': '<a href=\"https://google.com\" rel=\"nofollow\">DigitalMethods2020</a>', 'in_reply_to_status_id': None, 'in_reply_to_status_id_str': None, 'in_reply_to_user_id': None, 'in_reply_to_user_id_str': None, 'in_reply_to_screen_name': None, 'user': {'id': 1229786706393620480, 'id_str': '1229786706393620480', 'name': 'vicariousveblen', 'screen_name': 'vicariousveblen', 'location': 'Cato, Wisconsin', 'description': 'Living my best Veblen life, vicariously.', 'url': 'https://t.co/YyaeTc3KgO', 'entities': {'url': {'urls': [{'url': 'https://t.co/YyaeTc3KgO', 'expanded_url': 'https://en.wikipedia.org/wiki/Thorstein_Veblen', 'display_url': 'en.wikipedia.org/wiki/Thorstein…', 'indices': [0, 23]}]}, 'description': {'urls': []}}, 'protected': False, 'followers_count': 0, 'friends_count': 0, 'listed_count': 0, 'created_at': 'Tue Feb 18 15:16:58 +0000 2020', 'favourites_count': 0, 'utc_offset': None, 'time_zone': None, 'geo_enabled': False, 'verified': False, 'statuses_count': 4, 'lang': None, 'contributors_enabled': False, 'is_translator': False, 'is_translation_enabled': False, 'profile_background_color': 'F5F8FA', 'profile_background_image_url': None, 'profile_background_image_url_https': None, 'profile_background_tile': False, 'profile_image_url': 'http://pbs.twimg.com/profile_images/1229787334570336256/6X2Ueuxl_normal.jpg', 'profile_image_url_https': 'https://pbs.twimg.com/profile_images/1229787334570336256/6X2Ueuxl_normal.jpg', 'profile_link_color': '1DA1F2', 'profile_sidebar_border_color': 'C0DEED', 'profile_sidebar_fill_color': 'DDEEF6', 'profile_text_color': '333333', 'profile_use_background_image': True, 'has_extended_profile': False, 'default_profile': True, 'default_profile_image': False, 'following': False, 'follow_request_sent': False, 'notifications': False, 'translator_type': 'none'}, 'geo': None, 'coordinates': None, 'place': None, 'contributors': None, 'is_quote_status': False, 'retweet_count': 0, 'favorite_count': 0, 'favorited': False, 'retweeted': False, 'lang': 'en'}, created_at=datetime.datetime(2020, 2, 18, 16, 45, 22), id=1229809141423669250, id_str='1229809141423669250', text='High-bred manners and ways of living are items of conformity to the norm of conspicuous leisure and conspicuous consumption.', truncated=False, entities={'hashtags': [], 'symbols': [], 'user_mentions': [], 'urls': []}, source='DigitalMethods2020', source_url='https://google.com', in_reply_to_status_id=None, in_reply_to_status_id_str=None, in_reply_to_user_id=None, in_reply_to_user_id_str=None, in_reply_to_screen_name=None, author=User(_api=<tweepy.api.API object at 0x00000251131CF708>, _json={'id': 1229786706393620480, 'id_str': '1229786706393620480', 'name': 'vicariousveblen', 'screen_name': 'vicariousveblen', 'location': 'Cato, Wisconsin', 'description': 'Living my best Veblen life, vicariously.', 'url': 'https://t.co/YyaeTc3KgO', 'entities': {'url': {'urls': [{'url': 'https://t.co/YyaeTc3KgO', 'expanded_url': 'https://en.wikipedia.org/wiki/Thorstein_Veblen', 'display_url': 'en.wikipedia.org/wiki/Thorstein…', 'indices': [0, 23]}]}, 'description': {'urls': []}}, 'protected': False, 'followers_count': 0, 'friends_count': 0, 'listed_count': 0, 'created_at': 'Tue Feb 18 15:16:58 +0000 2020', 'favourites_count': 0, 'utc_offset': None, 'time_zone': None, 'geo_enabled': False, 'verified': False, 'statuses_count': 4, 'lang': None, 'contributors_enabled': False, 'is_translator': False, 'is_translation_enabled': False, 'profile_background_color': 'F5F8FA', 'profile_background_image_url': None, 'profile_background_image_url_https': None, 'profile_background_tile': False, 'profile_image_url': 'http://pbs.twimg.com/profile_images/1229787334570336256/6X2Ueuxl_normal.jpg', 'profile_image_url_https': 'https://pbs.twimg.com/profile_images/1229787334570336256/6X2Ueuxl_normal.jpg', 'profile_link_color': '1DA1F2', 'profile_sidebar_border_color': 'C0DEED', 'profile_sidebar_fill_color': 'DDEEF6', 'profile_text_color': '333333', 'profile_use_background_image': True, 'has_extended_profile': False, 'default_profile': True, 'default_profile_image': False, 'following': False, 'follow_request_sent': False, 'notifications': False, 'translator_type': 'none'}, id=1229786706393620480, id_str='1229786706393620480', name='vicariousveblen', screen_name='vicariousveblen', location='Cato, Wisconsin', description='Living my best Veblen life, vicariously.', url='https://t.co/YyaeTc3KgO', entities={'url': {'urls': [{'url': 'https://t.co/YyaeTc3KgO', 'expanded_url': 'https://en.wikipedia.org/wiki/Thorstein_Veblen', 'display_url': 'en.wikipedia.org/wiki/Thorstein…', 'indices': [0, 23]}]}, 'description': {'urls': []}}, protected=False, followers_count=0, friends_count=0, listed_count=0, created_at=datetime.datetime(2020, 2, 18, 15, 16, 58), favourites_count=0, utc_offset=None, time_zone=None, geo_enabled=False, verified=False, statuses_count=4, lang=None, contributors_enabled=False, is_translator=False, is_translation_enabled=False, profile_background_color='F5F8FA', profile_background_image_url=None, profile_background_image_url_https=None, profile_background_tile=False, profile_image_url='http://pbs.twimg.com/profile_images/1229787334570336256/6X2Ueuxl_normal.jpg', profile_image_url_https='https://pbs.twimg.com/profile_images/1229787334570336256/6X2Ueuxl_normal.jpg', profile_link_color='1DA1F2', profile_sidebar_border_color='C0DEED', profile_sidebar_fill_color='DDEEF6', profile_text_color='333333', profile_use_background_image=True, has_extended_profile=False, default_profile=True, default_profile_image=False, following=False, follow_request_sent=False, notifications=False, translator_type='none'), user=User(_api=<tweepy.api.API object at 0x00000251131CF708>, _json={'id': 1229786706393620480, 'id_str': '1229786706393620480', 'name': 'vicariousveblen', 'screen_name': 'vicariousveblen', 'location': 'Cato, Wisconsin', 'description': 'Living my best Veblen life, vicariously.', 'url': 'https://t.co/YyaeTc3KgO', 'entities': {'url': {'urls': [{'url': 'https://t.co/YyaeTc3KgO', 'expanded_url': 'https://en.wikipedia.org/wiki/Thorstein_Veblen', 'display_url': 'en.wikipedia.org/wiki/Thorstein…', 'indices': [0, 23]}]}, 'description': {'urls': []}}, 'protected': False, 'followers_count': 0, 'friends_count': 0, 'listed_count': 0, 'created_at': 'Tue Feb 18 15:16:58 +0000 2020', 'favourites_count': 0, 'utc_offset': None, 'time_zone': None, 'geo_enabled': False, 'verified': False, 'statuses_count': 4, 'lang': None, 'contributors_enabled': False, 'is_translator': False, 'is_translation_enabled': False, 'profile_background_color': 'F5F8FA', 'profile_background_image_url': None, 'profile_background_image_url_https': None, 'profile_background_tile': False, 'profile_image_url': 'http://pbs.twimg.com/profile_images/1229787334570336256/6X2Ueuxl_normal.jpg', 'profile_image_url_https': 'https://pbs.twimg.com/profile_images/1229787334570336256/6X2Ueuxl_normal.jpg', 'profile_link_color': '1DA1F2', 'profile_sidebar_border_color': 'C0DEED', 'profile_sidebar_fill_color': 'DDEEF6', 'profile_text_color': '333333', 'profile_use_background_image': True, 'has_extended_profile': False, 'default_profile': True, 'default_profile_image': False, 'following': False, 'follow_request_sent': False, 'notifications': False, 'translator_type': 'none'}, id=1229786706393620480, id_str='1229786706393620480', name='vicariousveblen', screen_name='vicariousveblen', location='Cato, Wisconsin', description='Living my best Veblen life, vicariously.', url='https://t.co/YyaeTc3KgO', entities={'url': {'urls': [{'url': 'https://t.co/YyaeTc3KgO', 'expanded_url': 'https://en.wikipedia.org/wiki/Thorstein_Veblen', 'display_url': 'en.wikipedia.org/wiki/Thorstein…', 'indices': [0, 23]}]}, 'description': {'urls': []}}, protected=False, followers_count=0, friends_count=0, listed_count=0, created_at=datetime.datetime(2020, 2, 18, 15, 16, 58), favourites_count=0, utc_offset=None, time_zone=None, geo_enabled=False, verified=False, statuses_count=4, lang=None, contributors_enabled=False, is_translator=False, is_translation_enabled=False, profile_background_color='F5F8FA', profile_background_image_url=None, profile_background_image_url_https=None, profile_background_tile=False, profile_image_url='http://pbs.twimg.com/profile_images/1229787334570336256/6X2Ueuxl_normal.jpg', profile_image_url_https='https://pbs.twimg.com/profile_images/1229787334570336256/6X2Ueuxl_normal.jpg', profile_link_color='1DA1F2', profile_sidebar_border_color='C0DEED', profile_sidebar_fill_color='DDEEF6', profile_text_color='333333', profile_use_background_image=True, has_extended_profile=False, default_profile=True, default_profile_image=False, following=False, follow_request_sent=False, notifications=False, translator_type='none'), geo=None, coordinates=None, place=None, contributors=None, is_quote_status=False, retweet_count=0, favorite_count=0, favorited=False, retweeted=False, lang='en'), Status(_api=<tweepy.api.API object at 0x00000251131CF708>, _json={'created_at': 'Tue Feb 18 16:16:46 +0000 2020', 'id': 1229801942915874816, 'id_str': '1229801942915874816', 'text': 'Hello World!', 'truncated': False, 'entities': {'hashtags': [], 'symbols': [], 'user_mentions': [], 'urls': []}, 'source': '<a href=\"https://google.com\" rel=\"nofollow\">DigitalMethods2020</a>', 'in_reply_to_status_id': None, 'in_reply_to_status_id_str': None, 'in_reply_to_user_id': None, 'in_reply_to_user_id_str': None, 'in_reply_to_screen_name': None, 'user': {'id': 1229786706393620480, 'id_str': '1229786706393620480', 'name': 'vicariousveblen', 'screen_name': 'vicariousveblen', 'location': 'Cato, Wisconsin', 'description': 'Living my best Veblen life, vicariously.', 'url': 'https://t.co/YyaeTc3KgO', 'entities': {'url': {'urls': [{'url': 'https://t.co/YyaeTc3KgO', 'expanded_url': 'https://en.wikipedia.org/wiki/Thorstein_Veblen', 'display_url': 'en.wikipedia.org/wiki/Thorstein…', 'indices': [0, 23]}]}, 'description': {'urls': []}}, 'protected': False, 'followers_count': 0, 'friends_count': 0, 'listed_count': 0, 'created_at': 'Tue Feb 18 15:16:58 +0000 2020', 'favourites_count': 0, 'utc_offset': None, 'time_zone': None, 'geo_enabled': False, 'verified': False, 'statuses_count': 4, 'lang': None, 'contributors_enabled': False, 'is_translator': False, 'is_translation_enabled': False, 'profile_background_color': 'F5F8FA', 'profile_background_image_url': None, 'profile_background_image_url_https': None, 'profile_background_tile': False, 'profile_image_url': 'http://pbs.twimg.com/profile_images/1229787334570336256/6X2Ueuxl_normal.jpg', 'profile_image_url_https': 'https://pbs.twimg.com/profile_images/1229787334570336256/6X2Ueuxl_normal.jpg', 'profile_link_color': '1DA1F2', 'profile_sidebar_border_color': 'C0DEED', 'profile_sidebar_fill_color': 'DDEEF6', 'profile_text_color': '333333', 'profile_use_background_image': True, 'has_extended_profile': False, 'default_profile': True, 'default_profile_image': False, 'following': False, 'follow_request_sent': False, 'notifications': False, 'translator_type': 'none'}, 'geo': None, 'coordinates': None, 'place': None, 'contributors': None, 'is_quote_status': False, 'retweet_count': 0, 'favorite_count': 0, 'favorited': False, 'retweeted': False, 'lang': 'en'}, created_at=datetime.datetime(2020, 2, 18, 16, 16, 46), id=1229801942915874816, id_str='1229801942915874816', text='Hello World!', truncated=False, entities={'hashtags': [], 'symbols': [], 'user_mentions': [], 'urls': []}, source='DigitalMethods2020', source_url='https://google.com', in_reply_to_status_id=None, in_reply_to_status_id_str=None, in_reply_to_user_id=None, in_reply_to_user_id_str=None, in_reply_to_screen_name=None, author=User(_api=<tweepy.api.API object at 0x00000251131CF708>, _json={'id': 1229786706393620480, 'id_str': '1229786706393620480', 'name': 'vicariousveblen', 'screen_name': 'vicariousveblen', 'location': 'Cato, Wisconsin', 'description': 'Living my best Veblen life, vicariously.', 'url': 'https://t.co/YyaeTc3KgO', 'entities': {'url': {'urls': [{'url': 'https://t.co/YyaeTc3KgO', 'expanded_url': 'https://en.wikipedia.org/wiki/Thorstein_Veblen', 'display_url': 'en.wikipedia.org/wiki/Thorstein…', 'indices': [0, 23]}]}, 'description': {'urls': []}}, 'protected': False, 'followers_count': 0, 'friends_count': 0, 'listed_count': 0, 'created_at': 'Tue Feb 18 15:16:58 +0000 2020', 'favourites_count': 0, 'utc_offset': None, 'time_zone': None, 'geo_enabled': False, 'verified': False, 'statuses_count': 4, 'lang': None, 'contributors_enabled': False, 'is_translator': False, 'is_translation_enabled': False, 'profile_background_color': 'F5F8FA', 'profile_background_image_url': None, 'profile_background_image_url_https': None, 'profile_background_tile': False, 'profile_image_url': 'http://pbs.twimg.com/profile_images/1229787334570336256/6X2Ueuxl_normal.jpg', 'profile_image_url_https': 'https://pbs.twimg.com/profile_images/1229787334570336256/6X2Ueuxl_normal.jpg', 'profile_link_color': '1DA1F2', 'profile_sidebar_border_color': 'C0DEED', 'profile_sidebar_fill_color': 'DDEEF6', 'profile_text_color': '333333', 'profile_use_background_image': True, 'has_extended_profile': False, 'default_profile': True, 'default_profile_image': False, 'following': False, 'follow_request_sent': False, 'notifications': False, 'translator_type': 'none'}, id=1229786706393620480, id_str='1229786706393620480', name='vicariousveblen', screen_name='vicariousveblen', location='Cato, Wisconsin', description='Living my best Veblen life, vicariously.', url='https://t.co/YyaeTc3KgO', entities={'url': {'urls': [{'url': 'https://t.co/YyaeTc3KgO', 'expanded_url': 'https://en.wikipedia.org/wiki/Thorstein_Veblen', 'display_url': 'en.wikipedia.org/wiki/Thorstein…', 'indices': [0, 23]}]}, 'description': {'urls': []}}, protected=False, followers_count=0, friends_count=0, listed_count=0, created_at=datetime.datetime(2020, 2, 18, 15, 16, 58), favourites_count=0, utc_offset=None, time_zone=None, geo_enabled=False, verified=False, statuses_count=4, lang=None, contributors_enabled=False, is_translator=False, is_translation_enabled=False, profile_background_color='F5F8FA', profile_background_image_url=None, profile_background_image_url_https=None, profile_background_tile=False, profile_image_url='http://pbs.twimg.com/profile_images/1229787334570336256/6X2Ueuxl_normal.jpg', profile_image_url_https='https://pbs.twimg.com/profile_images/1229787334570336256/6X2Ueuxl_normal.jpg', profile_link_color='1DA1F2', profile_sidebar_border_color='C0DEED', profile_sidebar_fill_color='DDEEF6', profile_text_color='333333', profile_use_background_image=True, has_extended_profile=False, default_profile=True, default_profile_image=False, following=False, follow_request_sent=False, notifications=False, translator_type='none'), user=User(_api=<tweepy.api.API object at 0x00000251131CF708>, _json={'id': 1229786706393620480, 'id_str': '1229786706393620480', 'name': 'vicariousveblen', 'screen_name': 'vicariousveblen', 'location': 'Cato, Wisconsin', 'description': 'Living my best Veblen life, vicariously.', 'url': 'https://t.co/YyaeTc3KgO', 'entities': {'url': {'urls': [{'url': 'https://t.co/YyaeTc3KgO', 'expanded_url': 'https://en.wikipedia.org/wiki/Thorstein_Veblen', 'display_url': 'en.wikipedia.org/wiki/Thorstein…', 'indices': [0, 23]}]}, 'description': {'urls': []}}, 'protected': False, 'followers_count': 0, 'friends_count': 0, 'listed_count': 0, 'created_at': 'Tue Feb 18 15:16:58 +0000 2020', 'favourites_count': 0, 'utc_offset': None, 'time_zone': None, 'geo_enabled': False, 'verified': False, 'statuses_count': 4, 'lang': None, 'contributors_enabled': False, 'is_translator': False, 'is_translation_enabled': False, 'profile_background_color': 'F5F8FA', 'profile_background_image_url': None, 'profile_background_image_url_https': None, 'profile_background_tile': False, 'profile_image_url': 'http://pbs.twimg.com/profile_images/1229787334570336256/6X2Ueuxl_normal.jpg', 'profile_image_url_https': 'https://pbs.twimg.com/profile_images/1229787334570336256/6X2Ueuxl_normal.jpg', 'profile_link_color': '1DA1F2', 'profile_sidebar_border_color': 'C0DEED', 'profile_sidebar_fill_color': 'DDEEF6', 'profile_text_color': '333333', 'profile_use_background_image': True, 'has_extended_profile': False, 'default_profile': True, 'default_profile_image': False, 'following': False, 'follow_request_sent': False, 'notifications': False, 'translator_type': 'none'}, id=1229786706393620480, id_str='1229786706393620480', name='vicariousveblen', screen_name='vicariousveblen', location='Cato, Wisconsin', description='Living my best Veblen life, vicariously.', url='https://t.co/YyaeTc3KgO', entities={'url': {'urls': [{'url': 'https://t.co/YyaeTc3KgO', 'expanded_url': 'https://en.wikipedia.org/wiki/Thorstein_Veblen', 'display_url': 'en.wikipedia.org/wiki/Thorstein…', 'indices': [0, 23]}]}, 'description': {'urls': []}}, protected=False, followers_count=0, friends_count=0, listed_count=0, created_at=datetime.datetime(2020, 2, 18, 15, 16, 58), favourites_count=0, utc_offset=None, time_zone=None, geo_enabled=False, verified=False, statuses_count=4, lang=None, contributors_enabled=False, is_translator=False, is_translation_enabled=False, profile_background_color='F5F8FA', profile_background_image_url=None, profile_background_image_url_https=None, profile_background_tile=False, profile_image_url='http://pbs.twimg.com/profile_images/1229787334570336256/6X2Ueuxl_normal.jpg', profile_image_url_https='https://pbs.twimg.com/profile_images/1229787334570336256/6X2Ueuxl_normal.jpg', profile_link_color='1DA1F2', profile_sidebar_border_color='C0DEED', profile_sidebar_fill_color='DDEEF6', profile_text_color='333333', profile_use_background_image=True, has_extended_profile=False, default_profile=True, default_profile_image=False, following=False, follow_request_sent=False, notifications=False, translator_type='none'), geo=None, coordinates=None, place=None, contributors=None, is_quote_status=False, retweet_count=0, favorite_count=0, favorited=False, retweeted=False, lang='en')]\n"
     ]
    }
   ],
   "source": [
    "print(example_timeline)"
   ]
  },
  {
   "cell_type": "code",
   "execution_count": 24,
   "metadata": {},
   "outputs": [],
   "source": [
    "example_user = api.get_user(\"vicariousveblen\")"
   ]
  },
  {
   "cell_type": "code",
   "execution_count": 27,
   "metadata": {},
   "outputs": [
    {
     "ename": "TypeError",
     "evalue": "'User' object is not iterable",
     "output_type": "error",
     "traceback": [
      "\u001b[1;31m---------------------------------------------------------------------------\u001b[0m",
      "\u001b[1;31mTypeError\u001b[0m                                 Traceback (most recent call last)",
      "\u001b[1;32m<ipython-input-27-89741f189889>\u001b[0m in \u001b[0;36m<module>\u001b[1;34m\u001b[0m\n\u001b[1;32m----> 1\u001b[1;33m \u001b[1;32mfor\u001b[0m \u001b[0mtweet\u001b[0m \u001b[1;32min\u001b[0m \u001b[0mexample_user\u001b[0m\u001b[1;33m:\u001b[0m\u001b[1;33m\u001b[0m\u001b[1;33m\u001b[0m\u001b[0m\n\u001b[0m\u001b[0;32m      2\u001b[0m     \u001b[0mprint\u001b[0m\u001b[1;33m(\u001b[0m\u001b[0mfollowers\u001b[0m\u001b[1;33m)\u001b[0m\u001b[1;33m\u001b[0m\u001b[1;33m\u001b[0m\u001b[0m\n",
      "\u001b[1;31mTypeError\u001b[0m: 'User' object is not iterable"
     ]
    }
   ],
   "source": []
  },
  {
   "cell_type": "markdown",
   "metadata": {},
   "source": [
    "This creates a variable of type `tweepy.models.ResultSet` which basically behaves like a list of tweets with the text and a lot of metadata. Knowing that it behaves like a list, how can we see how many tweets we collected?"
   ]
  },
  {
   "cell_type": "code",
   "execution_count": 151,
   "metadata": {},
   "outputs": [
    {
     "data": {
      "text/plain": [
       "{'rate_limit_context': {'access_token': '1099070485722251264-6Eh24zShbJKUvJDKV8hVeqfM1xrgr7'},\n",
       " 'resources': {'lists': {'/lists/list': {'limit': 15,\n",
       "    'remaining': 15,\n",
       "    'reset': 1582389397},\n",
       "   '/lists/memberships': {'limit': 75, 'remaining': 75, 'reset': 1582389397},\n",
       "   '/lists/subscribers/show': {'limit': 15,\n",
       "    'remaining': 15,\n",
       "    'reset': 1582389397},\n",
       "   '/lists/members': {'limit': 900, 'remaining': 900, 'reset': 1582389397},\n",
       "   '/lists/subscriptions': {'limit': 15, 'remaining': 15, 'reset': 1582389397},\n",
       "   '/lists/show': {'limit': 75, 'remaining': 75, 'reset': 1582389397},\n",
       "   '/lists/ownerships': {'limit': 15, 'remaining': 15, 'reset': 1582389397},\n",
       "   '/lists/subscribers': {'limit': 180, 'remaining': 180, 'reset': 1582389397},\n",
       "   '/lists/members/show': {'limit': 15, 'remaining': 15, 'reset': 1582389397},\n",
       "   '/lists/statuses': {'limit': 900, 'remaining': 900, 'reset': 1582389397}},\n",
       "  'application': {'/application/rate_limit_status': {'limit': 180,\n",
       "    'remaining': 178,\n",
       "    'reset': 1582389376}},\n",
       "  'mutes': {'/mutes/users/list': {'limit': 15,\n",
       "    'remaining': 15,\n",
       "    'reset': 1582389397},\n",
       "   '/mutes/users/ids': {'limit': 15, 'remaining': 15, 'reset': 1582389397}},\n",
       "  'live_video_stream': {'/live_video_stream/status/:id': {'limit': 1000,\n",
       "    'remaining': 1000,\n",
       "    'reset': 1582389397}},\n",
       "  'friendships': {'/friendships/outgoing': {'limit': 15,\n",
       "    'remaining': 15,\n",
       "    'reset': 1582389397},\n",
       "   '/friendships/list': {'limit': 200, 'remaining': 200, 'reset': 1582389397},\n",
       "   '/friendships/no_retweets/ids': {'limit': 15,\n",
       "    'remaining': 15,\n",
       "    'reset': 1582389397},\n",
       "   '/friendships/lookup': {'limit': 15, 'remaining': 15, 'reset': 1582389397},\n",
       "   '/friendships/incoming': {'limit': 15,\n",
       "    'remaining': 15,\n",
       "    'reset': 1582389397},\n",
       "   '/friendships/show': {'limit': 180, 'remaining': 180, 'reset': 1582389397}},\n",
       "  'guide': {'/guide': {'limit': 180, 'remaining': 180, 'reset': 1582389397},\n",
       "   '/guide/get_explore_locations': {'limit': 100,\n",
       "    'remaining': 100,\n",
       "    'reset': 1582389397},\n",
       "   '/guide/explore_locations_with_autocomplete': {'limit': 200,\n",
       "    'remaining': 200,\n",
       "    'reset': 1582389397}},\n",
       "  'auth': {'/auth/csrf_token': {'limit': 15,\n",
       "    'remaining': 15,\n",
       "    'reset': 1582389397}},\n",
       "  'blocks': {'/blocks/list': {'limit': 15,\n",
       "    'remaining': 15,\n",
       "    'reset': 1582389397},\n",
       "   '/blocks/ids': {'limit': 15, 'remaining': 15, 'reset': 1582389397}},\n",
       "  'geo': {'/geo/similar_places': {'limit': 15,\n",
       "    'remaining': 15,\n",
       "    'reset': 1582389397},\n",
       "   '/geo/place_page': {'limit': 75, 'remaining': 75, 'reset': 1582389397},\n",
       "   '/geo/id/:place_id': {'limit': 75, 'remaining': 75, 'reset': 1582389397},\n",
       "   '/geo/reverse_geocode': {'limit': 15, 'remaining': 15, 'reset': 1582389397},\n",
       "   '/geo/search': {'limit': 15, 'remaining': 15, 'reset': 1582389397}},\n",
       "  'users': {'/users/report_spam': {'limit': 15,\n",
       "    'remaining': 15,\n",
       "    'reset': 1582389397},\n",
       "   '/users/contributors/pending': {'limit': 2000,\n",
       "    'remaining': 2000,\n",
       "    'reset': 1582389397},\n",
       "   '/users/show/:id': {'limit': 900, 'remaining': 893, 'reset': 1582388709},\n",
       "   '/users/search': {'limit': 900, 'remaining': 900, 'reset': 1582389397},\n",
       "   '/users/suggestions/:slug': {'limit': 15,\n",
       "    'remaining': 15,\n",
       "    'reset': 1582389397},\n",
       "   '/users/contributees/pending': {'limit': 200,\n",
       "    'remaining': 200,\n",
       "    'reset': 1582389397},\n",
       "   '/users/derived_info': {'limit': 15, 'remaining': 15, 'reset': 1582389397},\n",
       "   '/users/profile_banner': {'limit': 180,\n",
       "    'remaining': 180,\n",
       "    'reset': 1582389397},\n",
       "   '/users/suggestions/:slug/members': {'limit': 15,\n",
       "    'remaining': 15,\n",
       "    'reset': 1582389397},\n",
       "   '/users/lookup': {'limit': 900, 'remaining': 900, 'reset': 1582389397},\n",
       "   '/users/suggestions': {'limit': 15, 'remaining': 15, 'reset': 1582389397}},\n",
       "  'teams': {'/teams/authorize': {'limit': 15,\n",
       "    'remaining': 15,\n",
       "    'reset': 1582389397}},\n",
       "  'followers': {'/followers/ids': {'limit': 15,\n",
       "    'remaining': 15,\n",
       "    'reset': 1582389397},\n",
       "   '/followers/list': {'limit': 15, 'remaining': 15, 'reset': 1582389397}},\n",
       "  'collections': {'/collections/list': {'limit': 1000,\n",
       "    'remaining': 1000,\n",
       "    'reset': 1582389397},\n",
       "   '/collections/entries': {'limit': 1000,\n",
       "    'remaining': 1000,\n",
       "    'reset': 1582389397},\n",
       "   '/collections/show': {'limit': 1000,\n",
       "    'remaining': 1000,\n",
       "    'reset': 1582389397}},\n",
       "  'statuses': {'/statuses/retweeters/ids': {'limit': 75,\n",
       "    'remaining': 75,\n",
       "    'reset': 1582389397},\n",
       "   '/statuses/retweets_of_me': {'limit': 75,\n",
       "    'remaining': 75,\n",
       "    'reset': 1582389397},\n",
       "   '/statuses/home_timeline': {'limit': 15,\n",
       "    'remaining': 15,\n",
       "    'reset': 1582389397},\n",
       "   '/statuses/show/:id': {'limit': 900, 'remaining': 900, 'reset': 1582389397},\n",
       "   '/statuses/user_timeline': {'limit': 900,\n",
       "    'remaining': 900,\n",
       "    'reset': 1582389397},\n",
       "   '/statuses/friends': {'limit': 15, 'remaining': 15, 'reset': 1582389397},\n",
       "   '/statuses/retweets/:id': {'limit': 75,\n",
       "    'remaining': 75,\n",
       "    'reset': 1582389397},\n",
       "   '/statuses/mentions_timeline': {'limit': 75,\n",
       "    'remaining': 75,\n",
       "    'reset': 1582389397},\n",
       "   '/statuses/oembed': {'limit': 180, 'remaining': 180, 'reset': 1582389397},\n",
       "   '/statuses/lookup': {'limit': 900, 'remaining': 900, 'reset': 1582389397}},\n",
       "  'custom_profiles': {'/custom_profiles/list': {'limit': 180,\n",
       "    'remaining': 180,\n",
       "    'reset': 1582389397},\n",
       "   '/custom_profiles/show': {'limit': 180,\n",
       "    'remaining': 180,\n",
       "    'reset': 1582389397}},\n",
       "  'webhooks': {'/webhooks/subscriptions/direct_messages': {'limit': 15,\n",
       "    'remaining': 15,\n",
       "    'reset': 1582389397},\n",
       "   '/webhooks': {'limit': 15, 'remaining': 15, 'reset': 1582389397}},\n",
       "  'contacts': {'/contacts/uploaded_by': {'limit': 300,\n",
       "    'remaining': 300,\n",
       "    'reset': 1582389397},\n",
       "   '/contacts/users': {'limit': 300, 'remaining': 300, 'reset': 1582389397},\n",
       "   '/contacts/addressbook': {'limit': 300,\n",
       "    'remaining': 300,\n",
       "    'reset': 1582389397},\n",
       "   '/contacts/users_and_uploaded_by': {'limit': 300,\n",
       "    'remaining': 300,\n",
       "    'reset': 1582389397},\n",
       "   '/contacts/delete/status': {'limit': 300,\n",
       "    'remaining': 300,\n",
       "    'reset': 1582389397}},\n",
       "  'labs': {'/labs/2/platform_manipulation/reports': {'limit': 5,\n",
       "    'remaining': 5,\n",
       "    'reset': 1582389397},\n",
       "   '/labs/:version/tweets/:id/hidden&PUT': {'limit': 10,\n",
       "    'remaining': 10,\n",
       "    'reset': 1582389397},\n",
       "   '/labs/:version/tweets/stream/filter/': {'limit': 50,\n",
       "    'remaining': 50,\n",
       "    'reset': 1582389397},\n",
       "   '/labs/2/reports': {'limit': 5, 'remaining': 5, 'reset': 1582389397},\n",
       "   '/labs/:version/tweets/stream/filter/rules&POST': {'limit': 450,\n",
       "    'remaining': 450,\n",
       "    'reset': 1582389397},\n",
       "   '/labs/:version/tweets/stream/sample': {'limit': 50,\n",
       "    'remaining': 50,\n",
       "    'reset': 1582389397},\n",
       "   '/labs/:version/tweets/metrics/private': {'limit': 15,\n",
       "    'remaining': 15,\n",
       "    'reset': 1582389397},\n",
       "   '/labs/:version/tweets/stream/filter/rules/:instance_name': {'limit': 450,\n",
       "    'remaining': 450,\n",
       "    'reset': 1582389397},\n",
       "   '/labs/:version/tweets/*': {'limit': 900,\n",
       "    'remaining': 900,\n",
       "    'reset': 1582389397},\n",
       "   '/labs/:version/users/*': {'limit': 900,\n",
       "    'remaining': 900,\n",
       "    'reset': 1582389397},\n",
       "   '/labs/:version/tweets/stream/filter/:instance_name': {'limit': 50,\n",
       "    'remaining': 50,\n",
       "    'reset': 1582389397},\n",
       "   '/labs/:version/tweets/stream/filter/rules/': {'limit': 450,\n",
       "    'remaining': 450,\n",
       "    'reset': 1582389397},\n",
       "   '/labs/:version/tweets/search': {'limit': 225,\n",
       "    'remaining': 225,\n",
       "    'reset': 1582389397}},\n",
       "  'i': {'/i/config': {'limit': 15, 'remaining': 15, 'reset': 1582389397},\n",
       "   '/i/tfb/v1/smb/web/:account_id/payment/save': {'limit': 15,\n",
       "    'remaining': 15,\n",
       "    'reset': 1582389397}},\n",
       "  'tweet_prompts': {'/tweet_prompts/report_interaction': {'limit': 180,\n",
       "    'remaining': 180,\n",
       "    'reset': 1582389397},\n",
       "   '/tweet_prompts/show': {'limit': 180,\n",
       "    'remaining': 180,\n",
       "    'reset': 1582389397}},\n",
       "  'moments': {'/moments/statuses/update': {'limit': 5,\n",
       "    'remaining': 5,\n",
       "    'reset': 1582389397},\n",
       "   '/moments/permissions': {'limit': 300,\n",
       "    'remaining': 300,\n",
       "    'reset': 1582389397}},\n",
       "  'limiter_scalding_report_creation': {'/limiter_scalding_report_creation': {'limit': 4500,\n",
       "    'remaining': 4500,\n",
       "    'reset': 1582389397}},\n",
       "  'fleets': {'/fleets/:version/delete': {'limit': 50,\n",
       "    'remaining': 50,\n",
       "    'reset': 1582389397},\n",
       "   '/fleets/:version/create': {'limit': 50,\n",
       "    'remaining': 50,\n",
       "    'reset': 1582389397},\n",
       "   '/fleets/:version/user_fleets': {'limit': 180,\n",
       "    'remaining': 180,\n",
       "    'reset': 1582389397},\n",
       "   '/fleets/:version/home_timeline': {'limit': 100,\n",
       "    'remaining': 100,\n",
       "    'reset': 1582389397},\n",
       "   '/fleets/:version/mark_read': {'limit': 1000,\n",
       "    'remaining': 1000,\n",
       "    'reset': 1582389397}},\n",
       "  'help': {'/help/tos': {'limit': 15, 'remaining': 15, 'reset': 1582389397},\n",
       "   '/help/configuration': {'limit': 15, 'remaining': 15, 'reset': 1582389397},\n",
       "   '/help/privacy': {'limit': 15, 'remaining': 15, 'reset': 1582389397},\n",
       "   '/help/settings': {'limit': 15, 'remaining': 15, 'reset': 1582389397},\n",
       "   '/help/languages': {'limit': 15, 'remaining': 15, 'reset': 1582389397}},\n",
       "  'feedback': {'/feedback/show/:id': {'limit': 180,\n",
       "    'remaining': 180,\n",
       "    'reset': 1582389397},\n",
       "   '/feedback/events': {'limit': 1000,\n",
       "    'remaining': 1000,\n",
       "    'reset': 1582389397}},\n",
       "  'business_experience': {'/business_experience/dashboard_settings/destroy': {'limit': 450,\n",
       "    'remaining': 450,\n",
       "    'reset': 1582389397},\n",
       "   '/business_experience/dashboard_features': {'limit': 450,\n",
       "    'remaining': 450,\n",
       "    'reset': 1582389397},\n",
       "   '/business_experience/keywords': {'limit': 450,\n",
       "    'remaining': 450,\n",
       "    'reset': 1582389397},\n",
       "   '/business_experience/dashboard_settings/update': {'limit': 450,\n",
       "    'remaining': 450,\n",
       "    'reset': 1582389397},\n",
       "   '/business_experience/dashboard_settings/show': {'limit': 450,\n",
       "    'remaining': 450,\n",
       "    'reset': 1582389397}},\n",
       "  'graphql&POST': {'/graphql&POST': {'limit': 2500,\n",
       "    'remaining': 2500,\n",
       "    'reset': 1582389397}},\n",
       "  'friends': {'/friends/following/ids': {'limit': 15,\n",
       "    'remaining': 15,\n",
       "    'reset': 1582389397},\n",
       "   '/friends/following/list': {'limit': 15,\n",
       "    'remaining': 15,\n",
       "    'reset': 1582389397},\n",
       "   '/friends/list': {'limit': 15, 'remaining': 15, 'reset': 1582389397},\n",
       "   '/friends/ids': {'limit': 15, 'remaining': 15, 'reset': 1582389397}},\n",
       "  'sandbox': {'/sandbox/account_activity/webhooks/:id/subscriptions': {'limit': 500,\n",
       "    'remaining': 500,\n",
       "    'reset': 1582389397}},\n",
       "  'drafts': {'/drafts/statuses/update': {'limit': 450,\n",
       "    'remaining': 450,\n",
       "    'reset': 1582389397},\n",
       "   '/drafts/statuses/destroy': {'limit': 450,\n",
       "    'remaining': 450,\n",
       "    'reset': 1582389397},\n",
       "   '/drafts/statuses/ids': {'limit': 450,\n",
       "    'remaining': 450,\n",
       "    'reset': 1582389397},\n",
       "   '/drafts/statuses/list': {'limit': 450,\n",
       "    'remaining': 450,\n",
       "    'reset': 1582389397},\n",
       "   '/drafts/statuses/show': {'limit': 450,\n",
       "    'remaining': 450,\n",
       "    'reset': 1582389397},\n",
       "   '/drafts/statuses/create': {'limit': 450,\n",
       "    'remaining': 450,\n",
       "    'reset': 1582389397}},\n",
       "  'direct_messages': {'/direct_messages/sent': {'limit': 300,\n",
       "    'remaining': 300,\n",
       "    'reset': 1582389397},\n",
       "   '/direct_messages/broadcasts/list': {'limit': 60,\n",
       "    'remaining': 60,\n",
       "    'reset': 1582389397},\n",
       "   '/direct_messages/subscribers/lists/members/show': {'limit': 1000,\n",
       "    'remaining': 1000,\n",
       "    'reset': 1582389397},\n",
       "   '/direct_messages/mark_read': {'limit': 1000,\n",
       "    'remaining': 1000,\n",
       "    'reset': 1582389397},\n",
       "   '/direct_messages/subscribers/ids': {'limit': 180,\n",
       "    'remaining': 180,\n",
       "    'reset': 1582389397},\n",
       "   '/direct_messages/sent_and_received': {'limit': 300,\n",
       "    'remaining': 300,\n",
       "    'reset': 1582389397},\n",
       "   '/direct_messages/broadcasts/statuses/list': {'limit': 60,\n",
       "    'remaining': 60,\n",
       "    'reset': 1582389397},\n",
       "   '/direct_messages': {'limit': 300, 'remaining': 300, 'reset': 1582389397},\n",
       "   '/direct_messages/subscribers/lists/members/ids': {'limit': 180,\n",
       "    'remaining': 180,\n",
       "    'reset': 1582389397},\n",
       "   '/direct_messages/subscribers/show': {'limit': 180,\n",
       "    'remaining': 180,\n",
       "    'reset': 1582389397},\n",
       "   '/direct_messages/broadcasts/show': {'limit': 60,\n",
       "    'remaining': 60,\n",
       "    'reset': 1582389397},\n",
       "   '/direct_messages/broadcasts/statuses/show': {'limit': 60,\n",
       "    'remaining': 60,\n",
       "    'reset': 1582389397},\n",
       "   '/direct_messages/subscribers/lists/list': {'limit': 180,\n",
       "    'remaining': 180,\n",
       "    'reset': 1582389397},\n",
       "   '/direct_messages/show': {'limit': 300,\n",
       "    'remaining': 300,\n",
       "    'reset': 1582389397},\n",
       "   '/direct_messages/events/list': {'limit': 15,\n",
       "    'remaining': 15,\n",
       "    'reset': 1582389397},\n",
       "   '/direct_messages/subscribers/lists/show': {'limit': 180,\n",
       "    'remaining': 180,\n",
       "    'reset': 1582389397},\n",
       "   '/direct_messages/events/show': {'limit': 15,\n",
       "    'remaining': 15,\n",
       "    'reset': 1582389397}},\n",
       "  'media': {'/media/upload': {'limit': 500,\n",
       "    'remaining': 500,\n",
       "    'reset': 1582389397}},\n",
       "  'traffic': {'/traffic/map': {'limit': 15,\n",
       "    'remaining': 15,\n",
       "    'reset': 1582389397}},\n",
       "  'account_activity': {'/account_activity/all/webhooks': {'limit': 15,\n",
       "    'remaining': 15,\n",
       "    'reset': 1582389397},\n",
       "   '/account_activity/all/:instance_name/subscriptions': {'limit': 500,\n",
       "    'remaining': 500,\n",
       "    'reset': 1582389397},\n",
       "   '/account_activity/direct_messages/webhooks': {'limit': 15,\n",
       "    'remaining': 15,\n",
       "    'reset': 1582389397},\n",
       "   '/account_activity/webhooks/:id/subscriptions/direct_messages/list': {'limit': 15,\n",
       "    'remaining': 15,\n",
       "    'reset': 1582389397},\n",
       "   '/account_activity/webhooks/:id/subscriptions/all': {'limit': 500,\n",
       "    'remaining': 500,\n",
       "    'reset': 1582389397},\n",
       "   '/account_activity/direct_messages/:instance_name/webhooks': {'limit': 15,\n",
       "    'remaining': 15,\n",
       "    'reset': 1582389397},\n",
       "   '/account_activity/webhooks/:id/subscriptions/all/list': {'limit': 15,\n",
       "    'remaining': 15,\n",
       "    'reset': 1582389397},\n",
       "   '/account_activity/webhooks/:id/subscriptions/direct_messages': {'limit': 500,\n",
       "    'remaining': 500,\n",
       "    'reset': 1582389397},\n",
       "   '/account_activity/webhooks': {'limit': 15,\n",
       "    'remaining': 15,\n",
       "    'reset': 1582389397},\n",
       "   '/account_activity/direct_messages/:instance_name/subscriptions': {'limit': 15,\n",
       "    'remaining': 15,\n",
       "    'reset': 1582389397},\n",
       "   '/account_activity/webhooks/:id/subscriptions': {'limit': 500,\n",
       "    'remaining': 500,\n",
       "    'reset': 1582389397},\n",
       "   '/account_activity/all/:instance_name/webhooks': {'limit': 15,\n",
       "    'remaining': 15,\n",
       "    'reset': 1582389397}},\n",
       "  'account': {'/account/login_verification_enrollment': {'limit': 15,\n",
       "    'remaining': 15,\n",
       "    'reset': 1582389397},\n",
       "   '/account/update_profile': {'limit': 15,\n",
       "    'remaining': 15,\n",
       "    'reset': 1582389397},\n",
       "   '/account/authenticate_web_view': {'limit': 50,\n",
       "    'remaining': 50,\n",
       "    'reset': 1582389397},\n",
       "   '/account/verify_credentials': {'limit': 75,\n",
       "    'remaining': 75,\n",
       "    'reset': 1582389397},\n",
       "   '/account/settings': {'limit': 15, 'remaining': 15, 'reset': 1582389397}},\n",
       "  'safety': {'/safety/detection_feedback': {'limit': 450000,\n",
       "    'remaining': 450000,\n",
       "    'reset': 1582389397}},\n",
       "  'favorites': {'/favorites/list': {'limit': 75,\n",
       "    'remaining': 75,\n",
       "    'reset': 1582389397}},\n",
       "  'device': {'/device/token': {'limit': 15,\n",
       "    'remaining': 15,\n",
       "    'reset': 1582389397}},\n",
       "  'tweets': {'/tweets/search/:product/:label': {'limit': 1800,\n",
       "    'remaining': 1800,\n",
       "    'reset': 1582389397},\n",
       "   '/tweets/search/:product/:instance/counts': {'limit': 900,\n",
       "    'remaining': 900,\n",
       "    'reset': 1582389397}},\n",
       "  'saved_searches': {'/saved_searches/destroy/:id': {'limit': 15,\n",
       "    'remaining': 15,\n",
       "    'reset': 1582389397},\n",
       "   '/saved_searches/show/:id': {'limit': 15,\n",
       "    'remaining': 15,\n",
       "    'reset': 1582389397},\n",
       "   '/saved_searches/list': {'limit': 15,\n",
       "    'remaining': 15,\n",
       "    'reset': 1582389397}},\n",
       "  'oauth': {'/oauth/revoke': {'limit': 15,\n",
       "    'remaining': 15,\n",
       "    'reset': 1582389397},\n",
       "   '/oauth/invalidate_token': {'limit': 450,\n",
       "    'remaining': 450,\n",
       "    'reset': 1582389397},\n",
       "   '/oauth/revoke_html': {'limit': 15, 'remaining': 15, 'reset': 1582389397}},\n",
       "  'search': {'/search/tweets': {'limit': 180,\n",
       "    'remaining': 180,\n",
       "    'reset': 1582389397}},\n",
       "  'trends': {'/trends/closest': {'limit': 75,\n",
       "    'remaining': 75,\n",
       "    'reset': 1582389397},\n",
       "   '/trends/available': {'limit': 75, 'remaining': 75, 'reset': 1582389397},\n",
       "   '/trends/place': {'limit': 75, 'remaining': 75, 'reset': 1582389397}},\n",
       "  'live_pipeline': {'/live_pipeline/events': {'limit': 180,\n",
       "    'remaining': 180,\n",
       "    'reset': 1582389397}}}}"
      ]
     },
     "execution_count": 151,
     "metadata": {},
     "output_type": "execute_result"
    }
   ],
   "source": [
    "api.rate_limit_status()"
   ]
  },
  {
   "cell_type": "code",
   "execution_count": 52,
   "metadata": {},
   "outputs": [],
   "source": [
    "data10 = []\n",
    "\n",
    "for tweet in example_timeline:\n",
    "    data10.append((tweet.id_str, tweet.created_at, tweet.truncated, tweet.text))"
   ]
  },
  {
   "cell_type": "code",
   "execution_count": 60,
   "metadata": {},
   "outputs": [
    {
     "name": "stdout",
     "output_type": "stream",
     "text": [
      "1229810150904680452\n",
      "2020-02-18 16:49:23\n",
      "True\n",
      "For the end of vicarious consumption is to enhance, not the fullness of life of the consumer, but the pecuniary rep… https://t.co/x2O7ALCem3\n",
      "\n",
      "1229809646287933441\n",
      "2020-02-18 16:47:23\n",
      "False\n",
      "As has already been indicated, the distinction between exploit and drudgery is an invidious distinction between employments.\n",
      "\n",
      "1229809141423669250\n",
      "2020-02-18 16:45:22\n",
      "False\n",
      "High-bred manners and ways of living are items of conformity to the norm of conspicuous leisure and conspicuous consumption.\n",
      "\n",
      "1229801942915874816\n",
      "2020-02-18 16:16:46\n",
      "False\n",
      "Hello World!\n",
      "\n"
     ]
    }
   ],
   "source": [
    "for entry in data10:\n",
    "    print(entry[0])\n",
    "    print(entry[1])\n",
    "    print(entry[2])\n",
    "    print(entry[3])\n",
    "    print()"
   ]
  },
  {
   "cell_type": "code",
   "execution_count": 62,
   "metadata": {},
   "outputs": [],
   "source": [
    "data11 = []\n",
    "\n",
    "for tweet in example_timeline:\n",
    "    data11.append((tweet.text))"
   ]
  },
  {
   "cell_type": "code",
   "execution_count": 74,
   "metadata": {
    "scrolled": true
   },
   "outputs": [
    {
     "name": "stdout",
     "output_type": "stream",
     "text": [
      "['For the end of vicarious consumption is to enhance, not the fullness of life of the consumer, but the pecuniary rep… https://t.co/x2O7ALCem3', 'As has already been indicated, the distinction between exploit and drudgery is an invidious distinction between employments.', 'High-bred manners and ways of living are items of conformity to the norm of conspicuous leisure and conspicuous consumption.', 'Hello World!']\n"
     ]
    }
   ],
   "source": [
    "print(data11)"
   ]
  },
  {
   "cell_type": "code",
   "execution_count": 22,
   "metadata": {},
   "outputs": [
    {
     "name": "stdout",
     "output_type": "stream",
     "text": [
      "[('1229810150904680452', datetime.datetime(2020, 2, 18, 16, 49, 23), True, 'For the end of vicarious consumption is to enhance, not the fullness of life of the consumer, but the pecuniary rep… https://t.co/x2O7ALCem3'), ('1229809646287933441', datetime.datetime(2020, 2, 18, 16, 47, 23), False, 'As has already been indicated, the distinction between exploit and drudgery is an invidious distinction between employments.'), ('1229809141423669250', datetime.datetime(2020, 2, 18, 16, 45, 22), False, 'High-bred manners and ways of living are items of conformity to the norm of conspicuous leisure and conspicuous consumption.'), ('1229801942915874816', datetime.datetime(2020, 2, 18, 16, 16, 46), False, 'Hello World!')]\n"
     ]
    }
   ],
   "source": [
    "print(data10)"
   ]
  },
  {
   "cell_type": "markdown",
   "metadata": {},
   "source": [
    "So we collected a set of tweets and now want to look at the content/the texts of these tweets. Remembering that you can work with the `example_timeline` variable like with a list and that each list element has a key called `text` linked to the content of the tweet, how would you access the first tweet in `example_timeline`?"
   ]
  },
  {
   "cell_type": "code",
   "execution_count": 29,
   "metadata": {
    "scrolled": true
   },
   "outputs": [
    {
     "ename": "TypeError",
     "evalue": "'Status' object is not iterable",
     "output_type": "error",
     "traceback": [
      "\u001b[1;31m---------------------------------------------------------------------------\u001b[0m",
      "\u001b[1;31mTypeError\u001b[0m                                 Traceback (most recent call last)",
      "\u001b[1;32m<ipython-input-29-92936aa175b0>\u001b[0m in \u001b[0;36m<module>\u001b[1;34m\u001b[0m\n\u001b[1;32m----> 1\u001b[1;33m \u001b[1;32mfor\u001b[0m \u001b[0mtweet\u001b[0m \u001b[1;32min\u001b[0m \u001b[0mdata10\u001b[0m\u001b[1;33m:\u001b[0m\u001b[1;33m\u001b[0m\u001b[1;33m\u001b[0m\u001b[0m\n\u001b[0m\u001b[0;32m      2\u001b[0m    \u001b[0mprint\u001b[0m\u001b[1;33m(\u001b[0m\u001b[0mtweet\u001b[0m\u001b[1;33m.\u001b[0m\u001b[0mtext\u001b[0m\u001b[1;33m)\u001b[0m\u001b[1;33m\u001b[0m\u001b[1;33m\u001b[0m\u001b[0m\n",
      "\u001b[1;31mTypeError\u001b[0m: 'Status' object is not iterable"
     ]
    }
   ],
   "source": [
    " for tweet in data10:\n",
    "    print(tweet.text)"
   ]
  },
  {
   "cell_type": "code",
   "execution_count": 34,
   "metadata": {},
   "outputs": [
    {
     "name": "stdout",
     "output_type": "stream",
     "text": [
      "<function dumps at 0x000002B53B53CF78>\n"
     ]
    }
   ],
   "source": [
    "import json \n",
    "\n",
    "status = example_timeline[0]\n",
    "\n",
    "#convert to string\n",
    "json_str = json.dumps(status._json)\n",
    "\n",
    "#deserialise string into python object\n",
    "parsed = json.loads(json_str)\n",
    "\n",
    "print(json.dumps(parsed, indent=4, sort_keys=True))\n",
    "\n",
    "\n",
    "\n"
   ]
  },
  {
   "cell_type": "code",
   "execution_count": 95,
   "metadata": {},
   "outputs": [
    {
     "name": "stdout",
     "output_type": "stream",
     "text": [
      "u\n",
      "u\n",
      "u\n",
      "u\n"
     ]
    }
   ],
   "source": [
    "for entry in data10:\n",
    "    if \"...\" in entry:\n",
    "        print(entry)\n",
    "    else:\n",
    "        print(\"u\")"
   ]
  },
  {
   "cell_type": "code",
   "execution_count": 107,
   "metadata": {},
   "outputs": [
    {
     "name": "stdout",
     "output_type": "stream",
     "text": [
      "For the end of vicarious consumption is to enhance, not the fullness of life of the consumer, but the pecuniary rep… https://t.co/x2O7ALCem3    Dette tweet er forkortet\n",
      "As has already been indicated, the distinction between exploit and drudgery is an invidious distinction between employments.    Dette tweet er ikke forkortet\n",
      "High-bred manners and ways of living are items of conformity to the norm of conspicuous leisure and conspicuous consumption.    Dette tweet er ikke forkortet\n",
      "Hello World!    Dette tweet er ikke forkortet\n"
     ]
    }
   ],
   "source": [
    "for tweet in data11:\n",
    "    if \"http\" in tweet:\n",
    "        print(tweet + \"    Dette tweet er forkortet\")\n",
    "    else:\n",
    "        print(tweet + \"    Dette tweet er ikke forkortet\")"
   ]
  },
  {
   "cell_type": "markdown",
   "metadata": {},
   "source": [
    "Look at this output and compare it to the original tweet [here](https://t.co/x2O7ALCem3). What do you notice? What does that mean for working with the Twitter API in practice?"
   ]
  },
  {
   "cell_type": "markdown",
   "metadata": {},
   "source": [
    "The Twitter API cuts tweets of a certain length but contains information about which tweets are cut in a key called `truncated`. Can you write a loop to look at which of the tweets we collected were cut short?"
   ]
  },
  {
   "cell_type": "code",
   "execution_count": 72,
   "metadata": {
    "scrolled": true
   },
   "outputs": [
    {
     "name": "stdout",
     "output_type": "stream",
     "text": [
      "[True, False, False, False]\n"
     ]
    }
   ],
   "source": [
    "data12 = []\n",
    "for tweet in example_timeline:\n",
    "    data12.append(tweet.truncated)\n",
    "    \n",
    "print(data12)\n"
   ]
  },
  {
   "cell_type": "code",
   "execution_count": 155,
   "metadata": {},
   "outputs": [
    {
     "ename": "AttributeError",
     "evalue": "'list' object has no attribute 'created_at'",
     "output_type": "error",
     "traceback": [
      "\u001b[1;31m---------------------------------------------------------------------------\u001b[0m",
      "\u001b[1;31mAttributeError\u001b[0m                            Traceback (most recent call last)",
      "\u001b[1;32m<ipython-input-155-bc01aff03cde>\u001b[0m in \u001b[0;36m<module>\u001b[1;34m\u001b[0m\n\u001b[1;32m----> 1\u001b[1;33m \u001b[0mdata12\u001b[0m\u001b[1;33m.\u001b[0m\u001b[0mcreated_at\u001b[0m\u001b[1;33m\u001b[0m\u001b[1;33m\u001b[0m\u001b[0m\n\u001b[0m",
      "\u001b[1;31mAttributeError\u001b[0m: 'list' object has no attribute 'created_at'"
     ]
    }
   ],
   "source": [
    "data12.created_at"
   ]
  },
  {
   "cell_type": "markdown",
   "metadata": {},
   "source": [
    "If we did not have this information, we could use the tools that we have learned already to provide us with the same information. How would you write a loop that does this? _Hint:_ You will want to look at what distinguishes the `text` in truncated tweets from those in untruncated tweets."
   ]
  },
  {
   "cell_type": "code",
   "execution_count": null,
   "metadata": {},
   "outputs": [],
   "source": [
    "for tweet in data11:\n",
    "    if \"http\" in tweet:\n",
    "        print(tweet + \"    Dette tweet er forkortet\")\n",
    "    else:\n",
    "        print(tweet + \"    Dette tweet er ikke forkortet\")"
   ]
  },
  {
   "cell_type": "markdown",
   "metadata": {},
   "source": [
    "In addition to the tweet content, the API provides us with a host of valuable metadata about the tweets such as how often they were retweeted, favorited, and when they were posted. Looking just at the second tweet using `example_timeline[1]`, can you find the right keys to identify 1) when the tweet was posted, 2) how often it has been retweeted, and 3) how often it has been favorited?"
   ]
  },
  {
   "cell_type": "code",
   "execution_count": 120,
   "metadata": {},
   "outputs": [
    {
     "data": {
      "text/plain": [
       "(datetime.datetime(2020, 2, 18, 16, 16, 46), 0)"
      ]
     },
     "execution_count": 120,
     "metadata": {},
     "output_type": "execute_result"
    }
   ],
   "source": [
    "data13 = []\n",
    "\n",
    "for tweet in example_timeline:\n",
    "    data13.append((tweet.created_at, tweet.retweet_count))\n",
    "    \n",
    "data13[3]"
   ]
  },
  {
   "cell_type": "code",
   "execution_count": 138,
   "metadata": {},
   "outputs": [
    {
     "data": {
      "text/plain": [
       "datetime.datetime(2020, 2, 18, 16, 47, 23)"
      ]
     },
     "execution_count": 138,
     "metadata": {},
     "output_type": "execute_result"
    }
   ],
   "source": [
    "example_timeline[1].created_at"
   ]
  },
  {
   "cell_type": "code",
   "execution_count": 139,
   "metadata": {},
   "outputs": [
    {
     "data": {
      "text/plain": [
       "0"
      ]
     },
     "execution_count": 139,
     "metadata": {},
     "output_type": "execute_result"
    }
   ],
   "source": [
    "example_timeline[1].retweet_count"
   ]
  },
  {
   "cell_type": "code",
   "execution_count": null,
   "metadata": {},
   "outputs": [],
   "source": [
    "# 3) code to access number of favorites"
   ]
  },
  {
   "cell_type": "markdown",
   "metadata": {},
   "source": [
    "Beside allowing us to collect all the tweets produced by public Twitter accounts, the Twitter API also allows us to only access information about the Twitter acounts. The function to do this in `tweepy` is called `get_user`."
   ]
  },
  {
   "cell_type": "code",
   "execution_count": 121,
   "metadata": {},
   "outputs": [],
   "source": [
    "example_user = api.get_user(\"vicariousveblen\")"
   ]
  },
  {
   "cell_type": "markdown",
   "metadata": {},
   "source": [
    "Once we have collected the user profile, we can look at things like their location, their description or about me section, how often they have posted and who they follow and who follows them. The variable type returned by `get_user` is slightly easier to navigate to access these information since they are not nested in tweets."
   ]
  },
  {
   "cell_type": "code",
   "execution_count": 140,
   "metadata": {},
   "outputs": [
    {
     "data": {
      "text/plain": [
       "'Cato, Wisconsin'"
      ]
     },
     "execution_count": 140,
     "metadata": {},
     "output_type": "execute_result"
    }
   ],
   "source": [
    "# where does our example account live?\n",
    "example_user.location"
   ]
  },
  {
   "cell_type": "code",
   "execution_count": 141,
   "metadata": {},
   "outputs": [
    {
     "data": {
      "text/plain": [
       "'Living my best Veblen life, vicariously.'"
      ]
     },
     "execution_count": 141,
     "metadata": {},
     "output_type": "execute_result"
    }
   ],
   "source": [
    "# what does the description say\n",
    "example_user.description"
   ]
  },
  {
   "cell_type": "code",
   "execution_count": 142,
   "metadata": {},
   "outputs": [
    {
     "name": "stdout",
     "output_type": "stream",
     "text": [
      "The account vicariousveblen has 0 accounts following it.\n",
      "The account vicariousveblen is following 0 accounts.\n"
     ]
    }
   ],
   "source": [
    "# does the account follow anyone or have any friends?\n",
    "print(\"The account \" + str(example_user.name) + \" has \" + str(example_user.followers_count) + \" accounts following it.\")\n",
    "print(\"The account \" + str(example_user.name) + \" is following \" + str(example_user.friends_count) + \" accounts.\")"
   ]
  },
  {
   "cell_type": "markdown",
   "metadata": {},
   "source": [
    "Finally the Twitter API has functionality with which we can look for certain keywords in all of Twitter. We can access this using `tweepy`'s  `search` function. For example, if we wanted to look for tweets using the hashtag '#DigitalMethods', we could search like this."
   ]
  },
  {
   "cell_type": "code",
   "execution_count": 143,
   "metadata": {},
   "outputs": [],
   "source": [
    "digimeth_tweets = api.search(\"#DigitalMethods\")"
   ]
  },
  {
   "cell_type": "markdown",
   "metadata": {},
   "source": [
    "Then, we could look at who tweets about '#DigitalMethods' by parsing the returned data like this."
   ]
  },
  {
   "cell_type": "code",
   "execution_count": 144,
   "metadata": {},
   "outputs": [
    {
     "name": "stdout",
     "output_type": "stream",
     "text": [
      "Nicolo' Dell'Unto\n",
      "mLab Geography Bern\n",
      "DOS Research Group\n",
      "Feministische Geographie Bern\n",
      "Christian Ziegler\n",
      "Gale Australia / NZ\n",
      "K. White\n",
      "DH i Norden\n",
      "Raquel Recuero\n",
      "Earvin Charles Cabalquinto, PhD\n",
      "@DHUppsala\n",
      "Marieta Autor-Caparas\n",
      "GaleEMEA\n",
      "Chris Houghton\n",
      "Bonny Doon\n"
     ]
    }
   ],
   "source": [
    "for tweet in digimeth_tweets:\n",
    "    print(tweet._json['user']['name'])"
   ]
  },
  {
   "cell_type": "markdown",
   "metadata": {},
   "source": [
    "**4.1.3.4 Rate limiting:** While we are only working with a few tweets or a limited number of accounts, we will not run into any problems. However, it is good general practice to always keep an eye on the rate limits set on us by the Twitter API. The `tweepy` module provides the function `rate_limit_status` to do so."
   ]
  },
  {
   "cell_type": "code",
   "execution_count": 150,
   "metadata": {},
   "outputs": [],
   "source": [
    "# check our current rate limit status\n",
    "current_limits = api.rate_limit_status()"
   ]
  },
  {
   "cell_type": "markdown",
   "metadata": {},
   "source": [
    "The variable `rate_limit_status` returns is a dictionary, that means it is intuitive to index once we know the keys. The keys that will likely be most important to us relate to searches and users."
   ]
  },
  {
   "cell_type": "code",
   "execution_count": 146,
   "metadata": {},
   "outputs": [
    {
     "data": {
      "text/plain": [
       "{'limit': 900, 'remaining': 900, 'reset': 1582381536}"
      ]
     },
     "execution_count": 146,
     "metadata": {},
     "output_type": "execute_result"
    }
   ],
   "source": [
    "# rate limit on the number of times we can call `get_user` within a 15 minute window\n",
    "current_limits['resources']['users']['/users/lookup']"
   ]
  },
  {
   "cell_type": "code",
   "execution_count": 147,
   "metadata": {},
   "outputs": [
    {
     "data": {
      "text/plain": [
       "{'limit': 900, 'remaining': 900, 'reset': 1582381536}"
      ]
     },
     "execution_count": 147,
     "metadata": {},
     "output_type": "execute_result"
    }
   ],
   "source": [
    "# rate limit on the number of times we can call `user_timeline` within a 15 minute window\n",
    "current_limits['resources']['statuses']['/statuses/user_timeline']"
   ]
  },
  {
   "cell_type": "markdown",
   "metadata": {},
   "source": [
    "## 4.2 Using functions to process data from the Twitter API \n",
    "Now that we know about some of the information that we can gather from Twitter and the structure in which it is returned to us, we can see even more use for defining our own functions. For example, we can combine all the tweets we retrieved for our example account and see what the account is tweeting about most."
   ]
  },
  {
   "cell_type": "code",
   "execution_count": 148,
   "metadata": {},
   "outputs": [],
   "source": [
    "# define the function `user_gist` taking one argument\n",
    "def user_gist(user_timeline):\n",
    "    \n",
    "    # set up empty containers we will need throughout the loop\n",
    "    word_freq = {}\n",
    "    word_list = []\n",
    "    gist = []\n",
    "    \n",
    "    # FIRST, loop through tweets in the timeline\n",
    "    for tweet in user_timeline:\n",
    "        # split up tweets into lists of words\n",
    "        tweet_words = tweet.text.split()\n",
    "        # and combine into one big list using `extend` command\n",
    "        word_list.extend(tweet_words)\n",
    "    \n",
    "    # SECOND, loop through list of words in tweets\n",
    "    for w in word_list:\n",
    "        # add each unique word and its `count` to the dictionary `word_frequency`\n",
    "        if w not in word_freq:\n",
    "            word_freq[w] = word_list.count(w)\n",
    "\n",
    "    #looping through the dictionary and adding each value, key pair to the list\n",
    "    for key in word_freq:\n",
    "        gist.append((word_freq[key], key))\n",
    "\n",
    "    #sorting the list\n",
    "    gist.sort()\n",
    "    #reversing the sort to be largest to smallest\n",
    "    gist.reverse()\n",
    "\n",
    "    #returning the list\n",
    "    return gist\n",
    "        "
   ]
  },
  {
   "cell_type": "code",
   "execution_count": 149,
   "metadata": {},
   "outputs": [
    {
     "data": {
      "text/plain": [
       "[(6, 'the'),\n",
       " (6, 'of'),\n",
       " (3, 'and'),\n",
       " (2, 'to'),\n",
       " (2, 'is'),\n",
       " (2, 'distinction'),\n",
       " (2, 'conspicuous'),\n",
       " (2, 'between'),\n",
       " (1, 'ways'),\n",
       " (1, 'vicarious'),\n",
       " (1, 'rep…'),\n",
       " (1, 'pecuniary'),\n",
       " (1, 'not'),\n",
       " (1, 'norm'),\n",
       " (1, 'manners'),\n",
       " (1, 'living'),\n",
       " (1, 'life'),\n",
       " (1, 'leisure'),\n",
       " (1, 'items'),\n",
       " (1, 'invidious'),\n",
       " (1, 'indicated,'),\n",
       " (1, 'https://t.co/x2O7ALCem3'),\n",
       " (1, 'has'),\n",
       " (1, 'fullness'),\n",
       " (1, 'exploit'),\n",
       " (1, 'enhance,'),\n",
       " (1, 'end'),\n",
       " (1, 'employments.'),\n",
       " (1, 'drudgery'),\n",
       " (1, 'consumption.'),\n",
       " (1, 'consumption'),\n",
       " (1, 'consumer,'),\n",
       " (1, 'conformity'),\n",
       " (1, 'but'),\n",
       " (1, 'been'),\n",
       " (1, 'are'),\n",
       " (1, 'an'),\n",
       " (1, 'already'),\n",
       " (1, 'World!'),\n",
       " (1, 'High-bred'),\n",
       " (1, 'Hello'),\n",
       " (1, 'For'),\n",
       " (1, 'As')]"
      ]
     },
     "execution_count": 149,
     "metadata": {},
     "output_type": "execute_result"
    }
   ],
   "source": [
    "user_gist(example_timeline)"
   ]
  }
 ],
 "metadata": {
  "kernelspec": {
   "display_name": "Python 3",
   "language": "python",
   "name": "python3"
  },
  "language_info": {
   "codemirror_mode": {
    "name": "ipython",
    "version": 3
   },
   "file_extension": ".py",
   "mimetype": "text/x-python",
   "name": "python",
   "nbconvert_exporter": "python",
   "pygments_lexer": "ipython3",
   "version": "3.7.4"
  }
 },
 "nbformat": 4,
 "nbformat_minor": 2
}
