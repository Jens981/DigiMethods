{
 "cells": [
  {
   "cell_type": "code",
   "execution_count": 2,
   "metadata": {},
   "outputs": [
    {
     "name": "stdout",
     "output_type": "stream",
     "text": [
      "[1, 2, 3, 4, 5, 6, 7, 8, 12]\n"
     ]
    }
   ],
   "source": [
    "my_list = [1, 2, 3, 4, 5, 6, 7, 8]\n",
    "my_list.append(12)\n",
    "print(my_list)"
   ]
  },
  {
   "cell_type": "code",
   "execution_count": 4,
   "metadata": {},
   "outputs": [],
   "source": [
    "my_list2 = [\"This\", \"is\", \"a\", \"list\", \"of\", \"strings\"]"
   ]
  },
  {
   "cell_type": "code",
   "execution_count": 7,
   "metadata": {},
   "outputs": [],
   "source": [
    "my_list3 = []"
   ]
  },
  {
   "cell_type": "code",
   "execution_count": 10,
   "metadata": {},
   "outputs": [
    {
     "data": {
      "text/plain": [
       "\"'m\""
      ]
     },
     "execution_count": 10,
     "metadata": {},
     "output_type": "execute_result"
    }
   ],
   "source": [
    "My_string = \"I'm a string!\"\n",
    "My_string[1:3]"
   ]
  },
  {
   "cell_type": "code",
   "execution_count": 15,
   "metadata": {},
   "outputs": [
    {
     "data": {
      "text/plain": [
       "['http:', '', 'realpython.com', 'python-lists-tuples', '']"
      ]
     },
     "execution_count": 15,
     "metadata": {},
     "output_type": "execute_result"
    }
   ],
   "source": [
    "my_url = \"http://realpython.com/python-lists-tuples/\"\n",
    "my_url.split(\"/\")"
   ]
  },
  {
   "cell_type": "code",
   "execution_count": 27,
   "metadata": {},
   "outputs": [
    {
     "name": "stdout",
     "output_type": "stream",
     "text": [
      "[('Samantha', 'Antropology', '16.0.05'), ('Friedo', 'sociology', '1.2.7'), ('Ulf', 'Physics', 'Unknown')]\n"
     ]
    },
    {
     "data": {
      "text/plain": [
       "'Unknown'"
      ]
     },
     "execution_count": 27,
     "metadata": {},
     "output_type": "execute_result"
    }
   ],
   "source": [
    "#Tupples - a list that can't be changed \n",
    "instructors = [(\"Samantha\", \"Antropology\", \"16.0.05\"),\n",
    "            (\"Friedo\", \"sociology\", \"1.2.7\"),\n",
    "            (\"Ulf\", \"Physics\", \"Unknown\")]\n",
    "print(instructors)\n",
    "instructors[2][2]"
   ]
  },
  {
   "cell_type": "code",
   "execution_count": 21,
   "metadata": {},
   "outputs": [
    {
     "data": {
      "text/plain": [
       "'Sociology'"
      ]
     },
     "execution_count": 21,
     "metadata": {},
     "output_type": "execute_result"
    }
   ],
   "source": [
    "#Dictionaries - Keys and values\n",
    "my_dictionary = {'Samantha': \"Anthropology\",\n",
    "                \"Friedo\" : \"Sociology\",\n",
    "                \"Ulf\" : \"Physics\"}\n",
    "my_dictionary[\"Friedo\"]"
   ]
  },
  {
   "cell_type": "code",
   "execution_count": 28,
   "metadata": {},
   "outputs": [
    {
     "name": "stdout",
     "output_type": "stream",
     "text": [
      "[('Samantha', 103), ('Friedo', 75), ('Ulf', 85)]\n",
      "{'Samantha': 103, 'Friedo': 75, 'Ulf': 85}\n"
     ]
    }
   ],
   "source": [
    "keys = [\"Samantha\", \"Friedo\", \"Ulf\"]\n",
    "ages = [103, 75, 85]\n",
    "key_values = list(zip(keys, ages))\n",
    "print(key_values)\n",
    "\n",
    "my_dictionary2 = dict(key_values)\n",
    "print(my_dictionary2)"
   ]
  },
  {
   "cell_type": "code",
   "execution_count": 38,
   "metadata": {},
   "outputs": [
    {
     "name": "stdout",
     "output_type": "stream",
     "text": [
      "31.2\n",
      "1\n"
     ]
    }
   ],
   "source": [
    "### Loops - doing something multiple times\n",
    "#For loop & While Loop\n",
    "\n",
    "ages = [26, 21, 44, 28, 37]\n",
    "avg_age = 0\n",
    "\n",
    "for var in ages:\n",
    "    avg_age += var \n",
    "\n",
    "avg_age /= len(ages)\n",
    "\n",
    "print(avg_age)\n",
    "\n",
    "#Creates an average of the above list. \n",
    "# +=; -=, /=; *=; \n",
    "\n",
    "my_var = 0 \n",
    "my_var = my_var - 2\n",
    "my_var *= 3\n",
    "my_var += 7\n",
    "print(my_var)"
   ]
  },
  {
   "cell_type": "code",
   "execution_count": 48,
   "metadata": {},
   "outputs": [],
   "source": [
    "#Functions and methods - \n",
    "\n",
    "my_string = \"hello\"\n",
    "\n",
    "len(my_string)\n",
    "my_string = my_string.capitalize()\n",
    "\n"
   ]
  },
  {
   "cell_type": "code",
   "execution_count": 52,
   "metadata": {},
   "outputs": [
    {
     "name": "stdout",
     "output_type": "stream",
     "text": [
      "31.2\n"
     ]
    }
   ],
   "source": [
    "count = 0 \n",
    "avg_age = 0\n",
    "\n",
    "while count<len(ages):\n",
    "    avg_age += ages[count]\n",
    "    count += 1\n",
    "avg_age /= len(ages)\n",
    "print(avg_age)"
   ]
  },
  {
   "cell_type": "code",
   "execution_count": 57,
   "metadata": {},
   "outputs": [
    {
     "ename": "TypeError",
     "evalue": "'list' object is not callable",
     "output_type": "error",
     "traceback": [
      "\u001b[1;31m---------------------------------------------------------------------------\u001b[0m",
      "\u001b[1;31mTypeError\u001b[0m                                 Traceback (most recent call last)",
      "\u001b[1;32m<ipython-input-57-04499edd356c>\u001b[0m in \u001b[0;36m<module>\u001b[1;34m\u001b[0m\n\u001b[0;32m      6\u001b[0m         \u001b[0mprint\u001b[0m\u001b[1;33m(\u001b[0m\u001b[1;34m\"An invalid ages was entered\"\u001b[0m\u001b[1;33m)\u001b[0m\u001b[1;33m\u001b[0m\u001b[1;33m\u001b[0m\u001b[0m\n\u001b[0;32m      7\u001b[0m     \u001b[1;32melse\u001b[0m\u001b[1;33m:\u001b[0m\u001b[1;33m\u001b[0m\u001b[1;33m\u001b[0m\u001b[0m\n\u001b[1;32m----> 8\u001b[1;33m         \u001b[0mavg_age2\u001b[0m \u001b[1;33m+=\u001b[0m \u001b[0mages2\u001b[0m\u001b[1;33m(\u001b[0m\u001b[0mcount\u001b[0m\u001b[1;33m)\u001b[0m\u001b[1;33m\u001b[0m\u001b[1;33m\u001b[0m\u001b[0m\n\u001b[0m\u001b[0;32m      9\u001b[0m         \u001b[0mcount\u001b[0m \u001b[1;33m+=\u001b[0m \u001b[1;36m1\u001b[0m\u001b[1;33m\u001b[0m\u001b[1;33m\u001b[0m\u001b[0m\n\u001b[0;32m     10\u001b[0m \u001b[0mavg_age2\u001b[0m \u001b[1;33m/=\u001b[0m \u001b[0mlen\u001b[0m\u001b[1;33m(\u001b[0m\u001b[0mages2\u001b[0m\u001b[1;33m)\u001b[0m\u001b[1;33m\u001b[0m\u001b[1;33m\u001b[0m\u001b[0m\n",
      "\u001b[1;31mTypeError\u001b[0m: 'list' object is not callable"
     ]
    }
   ],
   "source": [
    "ages2 = [4, 55, -3, 89]\n",
    "count = 0\n",
    "avg_age2 = 0\n",
    "while count < len(ages2):\n",
    "    if ages2[count] < 0:\n",
    "        print(\"An invalid ages was entered\")\n",
    "    else:\n",
    "        avg_age2 += ages2(count)\n",
    "        count += 1\n",
    "avg_age2 /= len(ages2)\n",
    "        "
   ]
  },
  {
   "cell_type": "code",
   "execution_count": null,
   "metadata": {},
   "outputs": [],
   "source": []
  }
 ],
 "metadata": {
  "kernelspec": {
   "display_name": "Python 3",
   "language": "python",
   "name": "python3"
  },
  "language_info": {
   "codemirror_mode": {
    "name": "ipython",
    "version": 3
   },
   "file_extension": ".py",
   "mimetype": "text/x-python",
   "name": "python",
   "nbconvert_exporter": "python",
   "pygments_lexer": "ipython3",
   "version": "3.7.4"
  }
 },
 "nbformat": 4,
 "nbformat_minor": 2
}
