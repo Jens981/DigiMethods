{
 "cells": [
  {
   "cell_type": "code",
   "execution_count": 1,
   "metadata": {},
   "outputs": [
    {
     "name": "stdout",
     "output_type": "stream",
     "text": [
      "3.8.0\n"
     ]
    }
   ],
   "source": [
    "#Find the Twitter account of the University of Copenhagen's \n",
    "#Faculty of Social Science by hand and get their Twitter account \n",
    "#information using tweepy functionality. Remember that you just \n",
    "#started a new Jupyter Notebook, so you will have to load the necessary \n",
    "#modules and set up your authentication with the Twitter API.\n",
    "import tweepy\n",
    "print(tweepy.__version__)\n",
    "\n",
    "\n",
    "\n",
    "\n"
   ]
  },
  {
   "cell_type": "code",
   "execution_count": 2,
   "metadata": {},
   "outputs": [],
   "source": [
    "from AppCred import CONSUMER_KEY, CONSUMER_SECRET\n",
    "from AppCred import ACCESS_TOKEN, ACCESS_TOKEN_SECRET"
   ]
  },
  {
   "cell_type": "code",
   "execution_count": 3,
   "metadata": {},
   "outputs": [],
   "source": [
    "auth = tweepy.OAuthHandler(CONSUMER_KEY, CONSUMER_SECRET)\n",
    "auth.set_access_token(ACCESS_TOKEN, ACCESS_TOKEN_SECRET)"
   ]
  },
  {
   "cell_type": "code",
   "execution_count": 5,
   "metadata": {},
   "outputs": [],
   "source": [
    "api = tweepy.API(auth)"
   ]
  },
  {
   "cell_type": "code",
   "execution_count": 12,
   "metadata": {},
   "outputs": [],
   "source": [
    "example_user = api.get_user(\"vicariousveblen\")"
   ]
  },
  {
   "cell_type": "code",
   "execution_count": 14,
   "metadata": {},
   "outputs": [],
   "source": [
    "example_user = api.get_user(\"uni_copenhagen\")"
   ]
  },
  {
   "cell_type": "code",
   "execution_count": 6,
   "metadata": {},
   "outputs": [],
   "source": [
    "Trump = api.get_user(\"realDonaldTrump\")"
   ]
  },
  {
   "cell_type": "code",
   "execution_count": 39,
   "metadata": {},
   "outputs": [
    {
     "data": {
      "text/plain": [
       "'45th President of the United States of America🇺🇸'"
      ]
     },
     "execution_count": 39,
     "metadata": {},
     "output_type": "execute_result"
    }
   ],
   "source": [
    "Trump.description"
   ]
  },
  {
   "cell_type": "code",
   "execution_count": 7,
   "metadata": {},
   "outputs": [
    {
     "name": "stdout",
     "output_type": "stream",
     "text": [
      "The user RealDonaldTrump has 72862803 followers\n"
     ]
    }
   ],
   "source": [
    "print(\"The user RealDonaldTrump has \"+str(Trump.followers_count)+\" followers\")"
   ]
  },
  {
   "cell_type": "code",
   "execution_count": 31,
   "metadata": {},
   "outputs": [
    {
     "data": {
      "text/plain": [
       "'Copenhagen, Denmark'"
      ]
     },
     "execution_count": 31,
     "metadata": {},
     "output_type": "execute_result"
    }
   ],
   "source": [
    "example_user.description"
   ]
  },
  {
   "cell_type": "code",
   "execution_count": 13,
   "metadata": {},
   "outputs": [],
   "source": []
  },
  {
   "cell_type": "code",
   "execution_count": 17,
   "metadata": {},
   "outputs": [],
   "source": []
  },
  {
   "cell_type": "code",
   "execution_count": 18,
   "metadata": {},
   "outputs": [
    {
     "data": {
      "text/plain": [
       "['2/2 Maybe that explains the growing urban gardening trend?  https://t.co/TUldRIPZrv',\n",
       " '1/2 Sarah Curtis stated in the book \"Space, Place and Mental health\", that mental well being is closely related to nature.',\n",
       " \"3/3 To rephrase the Beatles: They'll get by with a little help from their friends.\",\n",
       " '2/3 dining area makes it difficult to navigate and a simple thing as using the recycling bins is made difficult because of their height...',\n",
       " '1/3 The cafes on campus are designed for the able-bodied. Just watched a wheelchair user trying to reach for a coffee. The closely packed...',\n",
       " \"Was happy when I arrived in Cork, went to Tiger and discovered I could buy Danish Butter Cookies... But where's my liquorice? #Globalisation\",\n",
       " 'RT @CityLab: The complicated problem of urban obesity https://t.co/w5XNmzKx3B https://t.co/bEh94ATWon',\n",
       " 'A quite hostile way to privatise urban space. Flower bowls would make sitting there impossible as well. https://t.co/uifzkHTYZ9',\n",
       " '3/3 ... education. This will a growing gap between upper and lower classes in society.',\n",
       " '2/3 several students in homelessness. This in only first step into severe polarisation, if these students are not able to focus on their...',\n",
       " \"1/3 Headline in yesterday's Irish Daily Mail caught my attention. Rising rents in a school area in Dublin will leave https://t.co/8MzQ21BedO\",\n",
       " 'Happy to see a sign language interpreter on stage at the #EasterRising celebrations in Cork #Inclusioninthecity',\n",
       " 'https://t.co/rl15KDJvay',\n",
       " 'Experienced my first Good Friday yesterday. Could this be seen as a way a religious majority dominates minorities in society?',\n",
       " 'Got home alone from the bus station 5 AM.Felt safe.Claiming my right to the streets or being a naive Dane?Does the media create moral panic?',\n",
       " 'Bike-friendly city planning is popular in Denmark. An example from Odense, third largest city:  https://t.co/7FlBN4bB1V',\n",
       " 'Everyday walk to UCC. Could nudging as a part of city planning at micro level lead to cleaner streets? https://t.co/ZlbxVhZKh4',\n",
       " 'Essay writing brought me back to the clearance of The Youth House in Copenhagen, 2007. #Diversityinthecity? https://t.co/iZNwUE6I6U',\n",
       " 'Shoe-box sized apartments can lead to increasing ghettoisation:\\nhttps://t.co/pqX2e4jJyi',\n",
       " 'RT @CityLab: How can cities grow their economies without alienating poorer residents? https://t.co/TB9XCzmBOH']"
      ]
     },
     "execution_count": 18,
     "metadata": {},
     "output_type": "execute_result"
    }
   ],
   "source": []
  },
  {
   "cell_type": "code",
   "execution_count": 3,
   "metadata": {},
   "outputs": [
    {
     "ename": "NameError",
     "evalue": "name 'api' is not defined",
     "output_type": "error",
     "traceback": [
      "\u001b[1;31m---------------------------------------------------------------------------\u001b[0m",
      "\u001b[1;31mNameError\u001b[0m                                 Traceback (most recent call last)",
      "\u001b[1;32m<ipython-input-3-b8c69a61145c>\u001b[0m in \u001b[0;36m<module>\u001b[1;34m\u001b[0m\n\u001b[1;32m----> 1\u001b[1;33m \u001b[0mTrump_tweets\u001b[0m \u001b[1;33m=\u001b[0m \u001b[0mapi\u001b[0m\u001b[1;33m.\u001b[0m\u001b[0muser_timeline\u001b[0m\u001b[1;33m(\u001b[0m\u001b[1;34m\"realDonaldTrump\"\u001b[0m\u001b[1;33m,\u001b[0m \u001b[0mcount\u001b[0m \u001b[1;33m=\u001b[0m \u001b[1;36m150\u001b[0m\u001b[1;33m)\u001b[0m\u001b[1;33m\u001b[0m\u001b[1;33m\u001b[0m\u001b[0m\n\u001b[0m",
      "\u001b[1;31mNameError\u001b[0m: name 'api' is not defined"
     ]
    }
   ],
   "source": [
    "Trump_tweets = api.user_timeline(\"realDonaldTrump\", count = 150)\n"
   ]
  },
  {
   "cell_type": "code",
   "execution_count": 1,
   "metadata": {},
   "outputs": [],
   "source": [
    "import nltk\n",
    "from nltk.corpus import stopwords\n",
    "\n",
    "def user_gist(user_timeline):\n",
    "    \n",
    "    # set up empty containers we will need throughout the loop\n",
    "    word_freq = {}\n",
    "    word_list = []\n",
    "    gist = []\n",
    "    \n",
    "    # FIRST, loop through tweets in the timeline\n",
    "    for tweet in user_timeline:\n",
    "        # split up tweets into lists of words\n",
    "        tweet_words = tweet.text.split()\n",
    "        # and combine into one big list using `extend` command\n",
    "        word_list.extend(tweet_words)\n",
    "        \n",
    "    word_list2 = [word for word in word_list if word not in stopwords.words('english')]\n",
    "    \n",
    "    # SECOND, loop through list of words in tweets\n",
    "    for w in word_list2:\n",
    "        # add each unique word and its `count` to the dictionary `word_frequency`\n",
    "        \n",
    "            word_freq[w] = word_list2.count(w)\n",
    "\n",
    "    #looping through the dictionary and adding each value, key pair to the list\n",
    "    for key in word_freq:\n",
    "        gist.append((word_freq[key], key))\n",
    "\n",
    "    #sorting the list\n",
    "    gist.sort()\n",
    "    #reversing the sort to be largest to smallest\n",
    "    gist.reverse()\n",
    "\n",
    "    #returning the list\n",
    "    return gist\n",
    "        "
   ]
  },
  {
   "cell_type": "code",
   "execution_count": 2,
   "metadata": {},
   "outputs": [
    {
     "ename": "NameError",
     "evalue": "name 'Trump_tweets' is not defined",
     "output_type": "error",
     "traceback": [
      "\u001b[1;31m---------------------------------------------------------------------------\u001b[0m",
      "\u001b[1;31mNameError\u001b[0m                                 Traceback (most recent call last)",
      "\u001b[1;32m<ipython-input-2-fa76a40e6425>\u001b[0m in \u001b[0;36m<module>\u001b[1;34m\u001b[0m\n\u001b[1;32m----> 1\u001b[1;33m \u001b[0muser_gist\u001b[0m\u001b[1;33m(\u001b[0m\u001b[0mTrump_tweets\u001b[0m\u001b[1;33m)\u001b[0m\u001b[1;33m\u001b[0m\u001b[1;33m\u001b[0m\u001b[0m\n\u001b[0m",
      "\u001b[1;31mNameError\u001b[0m: name 'Trump_tweets' is not defined"
     ]
    }
   ],
   "source": [
    "user_gist(Trump_tweets)"
   ]
  },
  {
   "cell_type": "code",
   "execution_count": 11,
   "metadata": {},
   "outputs": [
    {
     "name": "stdout",
     "output_type": "stream",
     "text": [
      "[True, True, False, False, False, False, False, False, True, False, False, False, False, False, False, False, True, False, False, False, False, False, False, False, False, False, False, False, False, False, False, False, False, False, True, True, True, True, False, True, False, False, False, False, False, False, False, False, False, False, False, False, False, False, False, False, False, True, True, False, False, False, False, False, False, False, True, True, False, False, False, True, True, False, False, False, True, True, True, False, False, False, False, False, False, False, False, False, False, False, False, False, True, True, False, True, True, False, False, True, False, False, True, True, False, False, False, False, False, False, False, True, True, False, False, False, False, False, False, False, True, False, False, False, False, False, False, False, False, False, False, False, False, False, False, False, False, False, False, False, False, False, True, False, True, False, True, True, True, True]\n"
     ]
    }
   ],
   "source": [
    "data12 = []\n",
    "for tweet in Trump_tweets:\n",
    "    data12.append(tweet.truncated)\n",
    "    \n",
    "print(data12)\n"
   ]
  },
  {
   "cell_type": "code",
   "execution_count": null,
   "metadata": {},
   "outputs": [],
   "source": []
  },
  {
   "cell_type": "code",
   "execution_count": 18,
   "metadata": {},
   "outputs": [
    {
     "name": "stdout",
     "output_type": "stream",
     "text": [
      "The account was created at: 2011-05-12 09:31:02\n"
     ]
    }
   ],
   "source": [
    "print(\"The account was created at: \"+str(example_user.created_at))"
   ]
  },
  {
   "cell_type": "code",
   "execution_count": 32,
   "metadata": {},
   "outputs": [
    {
     "data": {
      "text/plain": [
       "User(_api=<tweepy.api.API object at 0x0000016060639488>, _json={'id': 297315854, 'id_str': '297315854', 'name': 'UniversityCopenhagen', 'screen_name': 'uni_copenhagen', 'location': 'Copenhagen, Denmark', 'profile_location': None, 'description': 'About science and innovation at #ucph | Tweets in Danish @koebenhavns_uni | #scicomm', 'url': 'https://t.co/UGnmcIZRCV', 'entities': {'url': {'urls': [{'url': 'https://t.co/UGnmcIZRCV', 'expanded_url': 'http://ku.dk/english/', 'display_url': 'ku.dk/english/', 'indices': [0, 23]}]}, 'description': {'urls': []}}, 'protected': False, 'followers_count': 9038, 'friends_count': 35, 'listed_count': 187, 'created_at': 'Thu May 12 09:31:02 +0000 2011', 'favourites_count': 297, 'utc_offset': None, 'time_zone': None, 'geo_enabled': True, 'verified': False, 'statuses_count': 666, 'lang': None, 'status': {'created_at': 'Fri Feb 21 14:42:56 +0000 2020', 'id': 1230865493789216768, 'id_str': '1230865493789216768', 'text': 'Research and education is an international matter. 70 researchers from #UCPH and our five partner universities in… https://t.co/X6ZzR11HqI', 'truncated': True, 'entities': {'hashtags': [{'text': 'UCPH', 'indices': [71, 76]}], 'symbols': [], 'user_mentions': [], 'urls': [{'url': 'https://t.co/X6ZzR11HqI', 'expanded_url': 'https://twitter.com/i/web/status/1230865493789216768', 'display_url': 'twitter.com/i/web/status/1…', 'indices': [115, 138]}]}, 'source': '<a href=\"https://mobile.twitter.com\" rel=\"nofollow\">Twitter Web App</a>', 'in_reply_to_status_id': None, 'in_reply_to_status_id_str': None, 'in_reply_to_user_id': None, 'in_reply_to_user_id_str': None, 'in_reply_to_screen_name': None, 'geo': None, 'coordinates': None, 'place': None, 'contributors': None, 'is_quote_status': False, 'retweet_count': 4, 'favorite_count': 18, 'favorited': False, 'retweeted': False, 'possibly_sensitive': False, 'lang': 'en'}, 'contributors_enabled': False, 'is_translator': False, 'is_translation_enabled': False, 'profile_background_color': '901A1E', 'profile_background_image_url': 'http://abs.twimg.com/images/themes/theme1/bg.png', 'profile_background_image_url_https': 'https://abs.twimg.com/images/themes/theme1/bg.png', 'profile_background_tile': True, 'profile_image_url': 'http://pbs.twimg.com/profile_images/918209277680062466/J7On-j_X_normal.jpg', 'profile_image_url_https': 'https://pbs.twimg.com/profile_images/918209277680062466/J7On-j_X_normal.jpg', 'profile_banner_url': 'https://pbs.twimg.com/profile_banners/297315854/1393427377', 'profile_link_color': '0084B4', 'profile_sidebar_border_color': 'FFFFFF', 'profile_sidebar_fill_color': 'DDEEF6', 'profile_text_color': '333333', 'profile_use_background_image': True, 'has_extended_profile': False, 'default_profile': False, 'default_profile_image': False, 'following': False, 'follow_request_sent': False, 'notifications': False, 'translator_type': 'none'}, id=297315854, id_str='297315854', name='UniversityCopenhagen', screen_name='uni_copenhagen', location='Copenhagen, Denmark', profile_location=None, description='About science and innovation at #ucph | Tweets in Danish @koebenhavns_uni | #scicomm', url='https://t.co/UGnmcIZRCV', entities={'url': {'urls': [{'url': 'https://t.co/UGnmcIZRCV', 'expanded_url': 'http://ku.dk/english/', 'display_url': 'ku.dk/english/', 'indices': [0, 23]}]}, 'description': {'urls': []}}, protected=False, followers_count=9038, friends_count=35, listed_count=187, created_at=datetime.datetime(2011, 5, 12, 9, 31, 2), favourites_count=297, utc_offset=None, time_zone=None, geo_enabled=True, verified=False, statuses_count=666, lang=None, status=Status(_api=<tweepy.api.API object at 0x0000016060639488>, _json={'created_at': 'Fri Feb 21 14:42:56 +0000 2020', 'id': 1230865493789216768, 'id_str': '1230865493789216768', 'text': 'Research and education is an international matter. 70 researchers from #UCPH and our five partner universities in… https://t.co/X6ZzR11HqI', 'truncated': True, 'entities': {'hashtags': [{'text': 'UCPH', 'indices': [71, 76]}], 'symbols': [], 'user_mentions': [], 'urls': [{'url': 'https://t.co/X6ZzR11HqI', 'expanded_url': 'https://twitter.com/i/web/status/1230865493789216768', 'display_url': 'twitter.com/i/web/status/1…', 'indices': [115, 138]}]}, 'source': '<a href=\"https://mobile.twitter.com\" rel=\"nofollow\">Twitter Web App</a>', 'in_reply_to_status_id': None, 'in_reply_to_status_id_str': None, 'in_reply_to_user_id': None, 'in_reply_to_user_id_str': None, 'in_reply_to_screen_name': None, 'geo': None, 'coordinates': None, 'place': None, 'contributors': None, 'is_quote_status': False, 'retweet_count': 4, 'favorite_count': 18, 'favorited': False, 'retweeted': False, 'possibly_sensitive': False, 'lang': 'en'}, created_at=datetime.datetime(2020, 2, 21, 14, 42, 56), id=1230865493789216768, id_str='1230865493789216768', text='Research and education is an international matter. 70 researchers from #UCPH and our five partner universities in… https://t.co/X6ZzR11HqI', truncated=True, entities={'hashtags': [{'text': 'UCPH', 'indices': [71, 76]}], 'symbols': [], 'user_mentions': [], 'urls': [{'url': 'https://t.co/X6ZzR11HqI', 'expanded_url': 'https://twitter.com/i/web/status/1230865493789216768', 'display_url': 'twitter.com/i/web/status/1…', 'indices': [115, 138]}]}, source='Twitter Web App', source_url='https://mobile.twitter.com', in_reply_to_status_id=None, in_reply_to_status_id_str=None, in_reply_to_user_id=None, in_reply_to_user_id_str=None, in_reply_to_screen_name=None, geo=None, coordinates=None, place=None, contributors=None, is_quote_status=False, retweet_count=4, favorite_count=18, favorited=False, retweeted=False, possibly_sensitive=False, lang='en'), contributors_enabled=False, is_translator=False, is_translation_enabled=False, profile_background_color='901A1E', profile_background_image_url='http://abs.twimg.com/images/themes/theme1/bg.png', profile_background_image_url_https='https://abs.twimg.com/images/themes/theme1/bg.png', profile_background_tile=True, profile_image_url='http://pbs.twimg.com/profile_images/918209277680062466/J7On-j_X_normal.jpg', profile_image_url_https='https://pbs.twimg.com/profile_images/918209277680062466/J7On-j_X_normal.jpg', profile_banner_url='https://pbs.twimg.com/profile_banners/297315854/1393427377', profile_link_color='0084B4', profile_sidebar_border_color='FFFFFF', profile_sidebar_fill_color='DDEEF6', profile_text_color='333333', profile_use_background_image=True, has_extended_profile=False, default_profile=False, default_profile_image=False, following=False, follow_request_sent=False, notifications=False, translator_type='none')"
      ]
     },
     "execution_count": 32,
     "metadata": {},
     "output_type": "execute_result"
    }
   ],
   "source": [
    "example_user"
   ]
  },
  {
   "cell_type": "code",
   "execution_count": 37,
   "metadata": {},
   "outputs": [
    {
     "name": "stdout",
     "output_type": "stream",
     "text": [
      "The account is located at: Copenhagen, Denmark and the account has 9038 followers\n"
     ]
    }
   ],
   "source": [
    "print(\"The account is located at: \"+str(example_user.location)+\" and the account has \"+str(example_user.followers_count)+\" followers\")"
   ]
  },
  {
   "cell_type": "code",
   "execution_count": 63,
   "metadata": {},
   "outputs": [],
   "source": [
    "ny_user = api.get_user(\"mfroman\")"
   ]
  },
  {
   "cell_type": "code",
   "execution_count": 64,
   "metadata": {},
   "outputs": [
    {
     "ename": "TweepError",
     "evalue": "Not authorized.",
     "output_type": "error",
     "traceback": [
      "\u001b[1;31m---------------------------------------------------------------------------\u001b[0m",
      "\u001b[1;31mTweepError\u001b[0m                                Traceback (most recent call last)",
      "\u001b[1;32m<ipython-input-64-03f13696d29f>\u001b[0m in \u001b[0;36m<module>\u001b[1;34m\u001b[0m\n\u001b[1;32m----> 1\u001b[1;33m \u001b[0mny_user_timeline\u001b[0m \u001b[1;33m=\u001b[0m \u001b[0mapi\u001b[0m\u001b[1;33m.\u001b[0m\u001b[0muser_timeline\u001b[0m\u001b[1;33m(\u001b[0m\u001b[1;34m\"mfroman\"\u001b[0m\u001b[1;33m)\u001b[0m\u001b[1;33m\u001b[0m\u001b[1;33m\u001b[0m\u001b[0m\n\u001b[0m",
      "\u001b[1;32m~\\Anaconda3\\lib\\site-packages\\tweepy\\binder.py\u001b[0m in \u001b[0;36m_call\u001b[1;34m(*args, **kwargs)\u001b[0m\n\u001b[0;32m    248\u001b[0m                 \u001b[1;32mreturn\u001b[0m \u001b[0mmethod\u001b[0m\u001b[1;33m\u001b[0m\u001b[1;33m\u001b[0m\u001b[0m\n\u001b[0;32m    249\u001b[0m             \u001b[1;32melse\u001b[0m\u001b[1;33m:\u001b[0m\u001b[1;33m\u001b[0m\u001b[1;33m\u001b[0m\u001b[0m\n\u001b[1;32m--> 250\u001b[1;33m                 \u001b[1;32mreturn\u001b[0m \u001b[0mmethod\u001b[0m\u001b[1;33m.\u001b[0m\u001b[0mexecute\u001b[0m\u001b[1;33m(\u001b[0m\u001b[1;33m)\u001b[0m\u001b[1;33m\u001b[0m\u001b[1;33m\u001b[0m\u001b[0m\n\u001b[0m\u001b[0;32m    251\u001b[0m         \u001b[1;32mfinally\u001b[0m\u001b[1;33m:\u001b[0m\u001b[1;33m\u001b[0m\u001b[1;33m\u001b[0m\u001b[0m\n\u001b[0;32m    252\u001b[0m             \u001b[0mmethod\u001b[0m\u001b[1;33m.\u001b[0m\u001b[0msession\u001b[0m\u001b[1;33m.\u001b[0m\u001b[0mclose\u001b[0m\u001b[1;33m(\u001b[0m\u001b[1;33m)\u001b[0m\u001b[1;33m\u001b[0m\u001b[1;33m\u001b[0m\u001b[0m\n",
      "\u001b[1;32m~\\Anaconda3\\lib\\site-packages\\tweepy\\binder.py\u001b[0m in \u001b[0;36mexecute\u001b[1;34m(self)\u001b[0m\n\u001b[0;32m    231\u001b[0m                     \u001b[1;32mraise\u001b[0m \u001b[0mRateLimitError\u001b[0m\u001b[1;33m(\u001b[0m\u001b[0merror_msg\u001b[0m\u001b[1;33m,\u001b[0m \u001b[0mresp\u001b[0m\u001b[1;33m)\u001b[0m\u001b[1;33m\u001b[0m\u001b[1;33m\u001b[0m\u001b[0m\n\u001b[0;32m    232\u001b[0m                 \u001b[1;32melse\u001b[0m\u001b[1;33m:\u001b[0m\u001b[1;33m\u001b[0m\u001b[1;33m\u001b[0m\u001b[0m\n\u001b[1;32m--> 233\u001b[1;33m                     \u001b[1;32mraise\u001b[0m \u001b[0mTweepError\u001b[0m\u001b[1;33m(\u001b[0m\u001b[0merror_msg\u001b[0m\u001b[1;33m,\u001b[0m \u001b[0mresp\u001b[0m\u001b[1;33m,\u001b[0m \u001b[0mapi_code\u001b[0m\u001b[1;33m=\u001b[0m\u001b[0mapi_error_code\u001b[0m\u001b[1;33m)\u001b[0m\u001b[1;33m\u001b[0m\u001b[1;33m\u001b[0m\u001b[0m\n\u001b[0m\u001b[0;32m    234\u001b[0m \u001b[1;33m\u001b[0m\u001b[0m\n\u001b[0;32m    235\u001b[0m             \u001b[1;31m# Parse the response payload\u001b[0m\u001b[1;33m\u001b[0m\u001b[1;33m\u001b[0m\u001b[1;33m\u001b[0m\u001b[0m\n",
      "\u001b[1;31mTweepError\u001b[0m: Not authorized."
     ]
    }
   ],
   "source": [
    "ny_user_timeline = api.user_timeline(\"mfroman\")"
   ]
  },
  {
   "cell_type": "code",
   "execution_count": 65,
   "metadata": {},
   "outputs": [],
   "source": [
    "cph_sodas = api.user_timeline(\"CPH_sodas\")"
   ]
  },
  {
   "cell_type": "code",
   "execution_count": 66,
   "metadata": {},
   "outputs": [
    {
     "data": {
      "text/plain": [
       "20"
      ]
     },
     "execution_count": 66,
     "metadata": {},
     "output_type": "execute_result"
    }
   ],
   "source": [
    "len(cph_sodas)"
   ]
  },
  {
   "cell_type": "code",
   "execution_count": 74,
   "metadata": {},
   "outputs": [],
   "source": [
    "def user_gist_ny(user_timeline):\n",
    "    \n",
    "    # set up empty containers we will need throughout the loop\n",
    "    word_freq = {}\n",
    "    word_list = []\n",
    "    gist = []\n",
    "    \n",
    "    # FIRST, loop through tweets in the timeline\n",
    "    for tweet in user_timeline:\n",
    "        # split up tweets into lists of words\n",
    "        tweet_words = tweet.text.split()\n",
    "        # and combine into one big list using `extend` command\n",
    "        word_list.extend(tweet_words)\n",
    "        \n",
    "    \n",
    "    # SECOND, loop through list of words in tweets\n",
    "    for w in word_list:\n",
    "        # add each unique word and its `count` to the dictionary `word_frequency`\n",
    "        if w not in word_freq:\n",
    "            word_freq[w] = word_list.count(w)\n",
    "\n",
    "    #looping through the dictionary and adding each value, key pair to the list\n",
    "    for key in word_freq:\n",
    "        gist.append((word_freq[key], key))\n",
    "\n",
    "    #sorting the list\n",
    "    gist.sort()\n",
    "    #reversing the sort to be largest to smallest\n",
    "    gist.reverse()\n",
    "\n",
    "    #returning the list\n",
    "    return gist"
   ]
  },
  {
   "cell_type": "code",
   "execution_count": 76,
   "metadata": {},
   "outputs": [
    {
     "data": {
      "text/plain": [
       "[(10, 'RT'),\n",
       " (5, '@distractdenmark:'),\n",
       " (5, '#machineanthropology'),\n",
       " (4, 'workshop'),\n",
       " (3, 'social'),\n",
       " (3, 'series'),\n",
       " (3, 'first'),\n",
       " (3, 'Morten'),\n",
       " (3, 'Axel'),\n",
       " (3, '@suneman'),\n",
       " (3, '&amp;'),\n",
       " (2, 'the…'),\n",
       " (2, 'talk'),\n",
       " (2, 'stage'),\n",
       " (2, 'science'),\n",
       " (2, 'new'),\n",
       " (2, 'media'),\n",
       " (2, 'commenting'),\n",
       " (2, 'The'),\n",
       " (2, 'Pedersen'),\n",
       " (2, 'Machine'),\n",
       " (2, 'MSc'),\n",
       " (2, 'Join'),\n",
       " (2, 'In'),\n",
       " (2, '@andbjn:'),\n",
       " (2, '@RebAdlerNissen'),\n",
       " (2, '@CPH_SODAS'),\n",
       " (1, \"📲'Politikere\"),\n",
       " (1, 'widely'),\n",
       " (1, 'well-off'),\n",
       " (1, 'want'),\n",
       " (1, 'visited'),\n",
       " (1, 'verdens'),\n",
       " (1, 'various'),\n",
       " (1, 'using'),\n",
       " (1, 'use'),\n",
       " (1, 'us'),\n",
       " (1, 'two'),\n",
       " (1, 'transfer'),\n",
       " (1, 'tools?'),\n",
       " (1, 'thing'),\n",
       " (1, 'talks'),\n",
       " (1, 'surrounding'),\n",
       " (1, 'study'),\n",
       " (1, 'spring'),\n",
       " (1, 'spread'),\n",
       " (1, 'speakers'),\n",
       " (1, 'social…'),\n",
       " (1, 'second'),\n",
       " (1, 'scientist'),\n",
       " (1, 'school'),\n",
       " (1, 'revolves'),\n",
       " (1, 'research.'),\n",
       " (1, 'redrawing'),\n",
       " (1, 'reactions'),\n",
       " (1, 'questio…'),\n",
       " (1, 'question'),\n",
       " (1, 'på'),\n",
       " (1, 'project'),\n",
       " (1, 'prog…'),\n",
       " (1, 'program'),\n",
       " (1, 'professor'),\n",
       " (1, 'problem?'),\n",
       " (1, 'presentations'),\n",
       " (1, 'pres'),\n",
       " (1, 'predicting'),\n",
       " (1, 'politics'),\n",
       " (1, 'piece'),\n",
       " (1, 'perspectives'),\n",
       " (1, 'people'),\n",
       " (1, 'participated'),\n",
       " (1, 'og'),\n",
       " (1, 'next'),\n",
       " (1, 'neighborh…'),\n",
       " (1, 'mobil'),\n",
       " (1, 'mixing'),\n",
       " (1, 'miss'),\n",
       " (1, 'misinformation?'),\n",
       " (1, 'might'),\n",
       " (1, 'meth…'),\n",
       " (1, 'methods.'),\n",
       " (1, 'lecture'),\n",
       " (1, 'kids'),\n",
       " (1, 'joint'),\n",
       " (1, 'it?'),\n",
       " (1, 'issue).'),\n",
       " (1, 'invited'),\n",
       " (1, 'international'),\n",
       " (1, 'interesting'),\n",
       " (1, 'images,'),\n",
       " (1, 'https://t.co/hi2vClmf3e'),\n",
       " (1, 'https://t.co/b54dD3HmjC'),\n",
       " (1, 'https://t.co/YvqlQOqFsR'),\n",
       " (1, 'https://t.co/XvslIriVf4'),\n",
       " (1, 'https://t.co/VE1Q1BQsrW'),\n",
       " (1, 'https://t.co/UWN9LsZccd'),\n",
       " (1, 'https://t.co/KaoRrJUG0e'),\n",
       " (1, 'https://t.co/EKO5wosjo1'),\n",
       " (1, 'https://t.co/Arg6Mbg8ms'),\n",
       " (1, 'https://t.co/72RDrSqX…'),\n",
       " (1, 'https://t.co/62KsL3j8cY'),\n",
       " (1, 'https://t.co/5Emhm5xdNx'),\n",
       " (1, 'https://t.co/2FGpnRtu6Y'),\n",
       " (1, 'host'),\n",
       " (1, 'hele'),\n",
       " (1, 'grant!'),\n",
       " (1, 'good'),\n",
       " (1, 'front'),\n",
       " (1, 'forhandlingsrummet'),\n",
       " (1, 'forhandler'),\n",
       " (1, 'foran'),\n",
       " (1, 'fellow'),\n",
       " (1, 'even'),\n",
       " (1, 'episode'),\n",
       " (1, 'emotions'),\n",
       " (1, 'emojis,'),\n",
       " (1, 'diplomats'),\n",
       " (1, 'developments'),\n",
       " (1, 'decrease'),\n",
       " (1, 'dealing'),\n",
       " (1, 'de'),\n",
       " (1, 'day’s'),\n",
       " (1, 'days'),\n",
       " (1, 'data'),\n",
       " (1, 'co…'),\n",
       " (1, 'computational'),\n",
       " (1, 'compa…'),\n",
       " (1, 'combining'),\n",
       " (1, 'colleague…'),\n",
       " (1, 'colleagues.'),\n",
       " (1, 'co-organized'),\n",
       " (1, 'centered'),\n",
       " (1, 'både'),\n",
       " (1, 'boundaries'),\n",
       " (1, 'bots'),\n",
       " (1, 'befolkning'),\n",
       " (1, 'be?'),\n",
       " (1, 'back'),\n",
       " (1, 'awarded'),\n",
       " (1, 'attendance'),\n",
       " (1, 'aspects'),\n",
       " (1, 'article'),\n",
       " (1, 'aroun…'),\n",
       " (1, 'around'),\n",
       " (1, 'are…'),\n",
       " (1, 'ans…'),\n",
       " (1, 'affect'),\n",
       " (1, 'address'),\n",
       " (1, 'Willadsen'),\n",
       " (1, 'Why'),\n",
       " (1, 'Who'),\n",
       " (1, 'What'),\n",
       " (1, 'Vincent'),\n",
       " (1, 'UCPH'),\n",
       " (1, 'Turns'),\n",
       " (1, 'This'),\n",
       " (1, 'Thick'),\n",
       " (1, 'Testing'),\n",
       " (1, 'Sune'),\n",
       " (1, 'Spring'),\n",
       " (1, 'Social'),\n",
       " (1, 'Series'),\n",
       " (1, 'Say'),\n",
       " (1, 'Sapienza'),\n",
       " (1, 'SODAS'),\n",
       " (1, 'Rebecca'),\n",
       " (1, 'Ray…'),\n",
       " (1, 'Prof.'),\n",
       " (1, 'Phillip'),\n",
       " (1, 'PhD'),\n",
       " (1, 'Peter'),\n",
       " (1, 'Pedersen,'),\n",
       " (1, 'Passionate'),\n",
       " (1, 'Our'),\n",
       " (1, 'Nicolajsen'),\n",
       " (1, 'News'),\n",
       " (1, 'Networks'),\n",
       " (1, 'Nature'),\n",
       " (1, 'Monday.'),\n",
       " (1, 'Monday'),\n",
       " (1, 'Lehmann'),\n",
       " (1, 'Kristin'),\n",
       " (1, 'Kelton'),\n",
       " (1, 'I❤️@RISjnl'),\n",
       " (1, 'Information'),\n",
       " (1, 'Hendricks'),\n",
       " (1, 'Helene'),\n",
       " (1, 'Hear'),\n",
       " (1, 'Halkier'),\n",
       " (1, 'For'),\n",
       " (1, \"Don't\"),\n",
       " (1, 'Discussion'),\n",
       " (1, 'December'),\n",
       " (1, 'Data+'),\n",
       " (1, 'Data'),\n",
       " (1, 'DISTRACT'),\n",
       " (1, 'Copenhagen.…'),\n",
       " (1, 'Chinese'),\n",
       " (1, 'Check'),\n",
       " (1, 'Can'),\n",
       " (1, 'Bubbles'),\n",
       " (1, 'Brooker'),\n",
       " (1, 'Anthropology'),\n",
       " (1, 'Anna'),\n",
       " (1, 'And'),\n",
       " (1, 'Anabel'),\n",
       " (1, 'Adler-Nissen'),\n",
       " (1, 'AI,'),\n",
       " (1, 'A'),\n",
       " (1, '@fmerhout'),\n",
       " (1, '@daviddlassen,'),\n",
       " (1, '@daviddlassen'),\n",
       " (1, '@TANTlab:'),\n",
       " (1, '@RebAdlerNissen:'),\n",
       " (1, '@RebAdlerNissen,'),\n",
       " (1, \"@It_vest's\"),\n",
       " (1, '@Golovchenko_Yev'),\n",
       " (1, '@DIP…'),\n",
       " (1, '@Carlsbergfondet:'),\n",
       " (1, '@CPH_SODAS.'),\n",
       " (1, '@AndersKMunk'),\n",
       " (1, '2020'),\n",
       " (1, '(and'),\n",
       " (1, '(1/7)'),\n",
       " (1, \"'thick'…\"),\n",
       " (1, '#thickmachine'),\n",
       " (1, '#segregation?')]"
      ]
     },
     "execution_count": 76,
     "metadata": {},
     "output_type": "execute_result"
    }
   ],
   "source": [
    "user_gist(cph_sodas)"
   ]
  },
  {
   "cell_type": "code",
   "execution_count": 83,
   "metadata": {},
   "outputs": [],
   "source": [
    "search_pattern = \"Braithwaite\"\n",
    "\n",
    "new_tweets = api.search(search_pattern, count = 10)\n",
    "\n",
    "users_data = []\n",
    "\n",
    "for tweet in new_tweets:\n",
    "    users_data.append((tweet.created_at, tweet.text))"
   ]
  },
  {
   "cell_type": "code",
   "execution_count": 84,
   "metadata": {},
   "outputs": [
    {
     "data": {
      "text/plain": [
       "[(datetime.datetime(2020, 2, 22, 19, 7, 21),\n",
       "  'RT @brfootball: Martin Braithwaite makes his Barca debut 🔵🔴 https://t.co/PSlKtLHd7L'),\n",
       " (datetime.datetime(2020, 2, 22, 19, 7, 20),\n",
       "  'RT @EdmundOris: Martin Braithwaite just wants to play for Barça\\nSpend time with The goat 🐐, learn a thing or two from him,play football, sc…'),\n",
       " (datetime.datetime(2020, 2, 22, 19, 7, 18),\n",
       "  'RT @totalBarca: Incredible debut.\\n\\nEnergy, energy and energy.\\n\\nMartin Braithwaite, take a bow. https://t.co/A4MfLZ58jS'),\n",
       " (datetime.datetime(2020, 2, 22, 19, 7, 18),\n",
       "  \"RT @WinamaxSport: Messi quand Braithwaite l'a checké dans le vestiaire pour le féliciter. https://t.co/LUyiDq5b3K\"),\n",
       " (datetime.datetime(2020, 2, 22, 19, 7, 17),\n",
       "  'RT @FrenkismoFCB: Fuera coñas, Braithwaite es bueno y nos va ayudar muchísimo.'),\n",
       " (datetime.datetime(2020, 2, 22, 19, 7, 17),\n",
       "  \"RT @WinamaxSport: Messi quand Braithwaite l'a checké dans le vestiaire pour le féliciter. https://t.co/LUyiDq5b3K\"),\n",
       " (datetime.datetime(2020, 2, 22, 19, 7, 14),\n",
       "  'RT @goal: ⚽️ Messi\\n⚽️ Messi\\n⚽️ Messi\\n⚽️ Messi\\n\\n🅰️ Braithwaite\\n🅰️ Braithwaite\\n\\nDream team 🌟 https://t.co/35TmFmzk7R'),\n",
       " (datetime.datetime(2020, 2, 22, 19, 7, 14),\n",
       "  'RT @Joshua_Ubeku: No one believed in Chris Brown Braithwaite but less that 15 minutes of playing, he assisted Messi’s 4th goal. Funny how i…'),\n",
       " (datetime.datetime(2020, 2, 22, 19, 7, 10),\n",
       "  'RT @BarcaBot10: Braithwaite has the same amount of assists as ronaldo all season now. It’s only taken him 1 game. goat https://t.co/Q7kZhFj…'),\n",
       " (datetime.datetime(2020, 2, 22, 19, 7, 9),\n",
       "  'RT @brfootball: 2 assists in 18 minutes\\n\\nMartin Braithwaite got right to work on his debut 🤝 https://t.co/7HU9ie5Wym')]"
      ]
     },
     "execution_count": 84,
     "metadata": {},
     "output_type": "execute_result"
    }
   ],
   "source": [
    "users_data"
   ]
  }
 ],
 "metadata": {
  "kernelspec": {
   "display_name": "Python 3",
   "language": "python",
   "name": "python3"
  },
  "language_info": {
   "codemirror_mode": {
    "name": "ipython",
    "version": 3
   },
   "file_extension": ".py",
   "mimetype": "text/x-python",
   "name": "python",
   "nbconvert_exporter": "python",
   "pygments_lexer": "ipython3",
   "version": "3.7.4"
  }
 },
 "nbformat": 4,
 "nbformat_minor": 2
}
