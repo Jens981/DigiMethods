{
 "cells": [
  {
   "cell_type": "code",
   "execution_count": 1,
   "metadata": {},
   "outputs": [
    {
     "name": "stdout",
     "output_type": "stream",
     "text": [
      "3.8.0\n"
     ]
    }
   ],
   "source": [
    "#Find the Twitter account of the University of Copenhagen's \n",
    "#Faculty of Social Science by hand and get their Twitter account \n",
    "#information using tweepy functionality. Remember that you just \n",
    "#started a new Jupyter Notebook, so you will have to load the necessary \n",
    "#modules and set up your authentication with the Twitter API.\n",
    "import tweepy\n",
    "print(tweepy.__version__)\n",
    "\n",
    "\n",
    "\n",
    "\n"
   ]
  },
  {
   "cell_type": "code",
   "execution_count": 2,
   "metadata": {},
   "outputs": [],
   "source": [
    "from AppCred import CONSUMER_KEY, CONSUMER_SECRET\n",
    "from AppCred import ACCESS_TOKEN, ACCESS_TOKEN_SECRET"
   ]
  },
  {
   "cell_type": "code",
   "execution_count": 3,
   "metadata": {},
   "outputs": [],
   "source": [
    "auth = tweepy.OAuthHandler(CONSUMER_KEY, CONSUMER_SECRET)\n",
    "auth.set_access_token(ACCESS_TOKEN, ACCESS_TOKEN_SECRET)"
   ]
  },
  {
   "cell_type": "code",
   "execution_count": 4,
   "metadata": {},
   "outputs": [],
   "source": [
    "api = tweepy.API(auth)"
   ]
  },
  {
   "cell_type": "code",
   "execution_count": 12,
   "metadata": {},
   "outputs": [],
   "source": [
    "example_user = api.get_user(\"vicariousveblen\")"
   ]
  },
  {
   "cell_type": "code",
   "execution_count": 14,
   "metadata": {},
   "outputs": [],
   "source": [
    "example_user = api.get_user(\"uni_copenhagen\")"
   ]
  },
  {
   "cell_type": "code",
   "execution_count": 6,
   "metadata": {},
   "outputs": [],
   "source": [
    "Trump = api.get_user(\"realDonaldTrump\")"
   ]
  },
  {
   "cell_type": "code",
   "execution_count": 39,
   "metadata": {},
   "outputs": [
    {
     "data": {
      "text/plain": [
       "'45th President of the United States of America🇺🇸'"
      ]
     },
     "execution_count": 39,
     "metadata": {},
     "output_type": "execute_result"
    }
   ],
   "source": [
    "Trump.description"
   ]
  },
  {
   "cell_type": "code",
   "execution_count": 7,
   "metadata": {},
   "outputs": [
    {
     "name": "stdout",
     "output_type": "stream",
     "text": [
      "The user RealDonaldTrump has 72862803 followers\n"
     ]
    }
   ],
   "source": [
    "print(\"The user RealDonaldTrump has \"+str(Trump.followers_count)+\" followers\")"
   ]
  },
  {
   "cell_type": "code",
   "execution_count": 31,
   "metadata": {},
   "outputs": [
    {
     "data": {
      "text/plain": [
       "'Copenhagen, Denmark'"
      ]
     },
     "execution_count": 31,
     "metadata": {},
     "output_type": "execute_result"
    }
   ],
   "source": [
    "example_user.description"
   ]
  },
  {
   "cell_type": "code",
   "execution_count": 13,
   "metadata": {},
   "outputs": [],
   "source": []
  },
  {
   "cell_type": "code",
   "execution_count": 17,
   "metadata": {},
   "outputs": [],
   "source": []
  },
  {
   "cell_type": "code",
   "execution_count": 18,
   "metadata": {},
   "outputs": [
    {
     "data": {
      "text/plain": [
       "['2/2 Maybe that explains the growing urban gardening trend?  https://t.co/TUldRIPZrv',\n",
       " '1/2 Sarah Curtis stated in the book \"Space, Place and Mental health\", that mental well being is closely related to nature.',\n",
       " \"3/3 To rephrase the Beatles: They'll get by with a little help from their friends.\",\n",
       " '2/3 dining area makes it difficult to navigate and a simple thing as using the recycling bins is made difficult because of their height...',\n",
       " '1/3 The cafes on campus are designed for the able-bodied. Just watched a wheelchair user trying to reach for a coffee. The closely packed...',\n",
       " \"Was happy when I arrived in Cork, went to Tiger and discovered I could buy Danish Butter Cookies... But where's my liquorice? #Globalisation\",\n",
       " 'RT @CityLab: The complicated problem of urban obesity https://t.co/w5XNmzKx3B https://t.co/bEh94ATWon',\n",
       " 'A quite hostile way to privatise urban space. Flower bowls would make sitting there impossible as well. https://t.co/uifzkHTYZ9',\n",
       " '3/3 ... education. This will a growing gap between upper and lower classes in society.',\n",
       " '2/3 several students in homelessness. This in only first step into severe polarisation, if these students are not able to focus on their...',\n",
       " \"1/3 Headline in yesterday's Irish Daily Mail caught my attention. Rising rents in a school area in Dublin will leave https://t.co/8MzQ21BedO\",\n",
       " 'Happy to see a sign language interpreter on stage at the #EasterRising celebrations in Cork #Inclusioninthecity',\n",
       " 'https://t.co/rl15KDJvay',\n",
       " 'Experienced my first Good Friday yesterday. Could this be seen as a way a religious majority dominates minorities in society?',\n",
       " 'Got home alone from the bus station 5 AM.Felt safe.Claiming my right to the streets or being a naive Dane?Does the media create moral panic?',\n",
       " 'Bike-friendly city planning is popular in Denmark. An example from Odense, third largest city:  https://t.co/7FlBN4bB1V',\n",
       " 'Everyday walk to UCC. Could nudging as a part of city planning at micro level lead to cleaner streets? https://t.co/ZlbxVhZKh4',\n",
       " 'Essay writing brought me back to the clearance of The Youth House in Copenhagen, 2007. #Diversityinthecity? https://t.co/iZNwUE6I6U',\n",
       " 'Shoe-box sized apartments can lead to increasing ghettoisation:\\nhttps://t.co/pqX2e4jJyi',\n",
       " 'RT @CityLab: How can cities grow their economies without alienating poorer residents? https://t.co/TB9XCzmBOH']"
      ]
     },
     "execution_count": 18,
     "metadata": {},
     "output_type": "execute_result"
    }
   ],
   "source": []
  },
  {
   "cell_type": "code",
   "execution_count": 5,
   "metadata": {},
   "outputs": [],
   "source": [
    "Trump_tweets = api.user_timeline(\"realDonaldTrump\", count = 150)\n"
   ]
  },
  {
   "cell_type": "code",
   "execution_count": 28,
   "metadata": {},
   "outputs": [
    {
     "data": {
      "text/plain": [
       "{'_api': <tweepy.api.API at 0x1d3b067b808>,\n",
       " '_json': {'created_at': 'Sun Mar 01 05:30:08 +0000 2020',\n",
       "  'id': 1233987865350148097,\n",
       "  'id_str': '1233987865350148097',\n",
       "  'text': 'Tom Steyer who, other than Mini Mike Bloomberg, spent more dollars for NOTHING than any candidate in history, quit… https://t.co/7jf6C7yOpA',\n",
       "  'truncated': True,\n",
       "  'entities': {'hashtags': [],\n",
       "   'symbols': [],\n",
       "   'user_mentions': [],\n",
       "   'urls': [{'url': 'https://t.co/7jf6C7yOpA',\n",
       "     'expanded_url': 'https://twitter.com/i/web/status/1233987865350148097',\n",
       "     'display_url': 'twitter.com/i/web/status/1…',\n",
       "     'indices': [116, 139]}]},\n",
       "  'source': '<a href=\"http://twitter.com/download/iphone\" rel=\"nofollow\">Twitter for iPhone</a>',\n",
       "  'in_reply_to_status_id': None,\n",
       "  'in_reply_to_status_id_str': None,\n",
       "  'in_reply_to_user_id': None,\n",
       "  'in_reply_to_user_id_str': None,\n",
       "  'in_reply_to_screen_name': None,\n",
       "  'user': {'id': 25073877,\n",
       "   'id_str': '25073877',\n",
       "   'name': 'Donald J. Trump',\n",
       "   'screen_name': 'realDonaldTrump',\n",
       "   'location': 'Washington, DC',\n",
       "   'description': '45th President of the United States of America🇺🇸',\n",
       "   'url': 'https://t.co/OMxB0x7xC5',\n",
       "   'entities': {'url': {'urls': [{'url': 'https://t.co/OMxB0x7xC5',\n",
       "       'expanded_url': 'http://www.Instagram.com/realDonaldTrump',\n",
       "       'display_url': 'Instagram.com/realDonaldTrump',\n",
       "       'indices': [0, 23]}]},\n",
       "    'description': {'urls': []}},\n",
       "   'protected': False,\n",
       "   'followers_count': 73227962,\n",
       "   'friends_count': 47,\n",
       "   'listed_count': 115313,\n",
       "   'created_at': 'Wed Mar 18 13:46:38 +0000 2009',\n",
       "   'favourites_count': 7,\n",
       "   'utc_offset': None,\n",
       "   'time_zone': None,\n",
       "   'geo_enabled': True,\n",
       "   'verified': True,\n",
       "   'statuses_count': 49396,\n",
       "   'lang': None,\n",
       "   'contributors_enabled': False,\n",
       "   'is_translator': False,\n",
       "   'is_translation_enabled': True,\n",
       "   'profile_background_color': '6D5C18',\n",
       "   'profile_background_image_url': 'http://abs.twimg.com/images/themes/theme1/bg.png',\n",
       "   'profile_background_image_url_https': 'https://abs.twimg.com/images/themes/theme1/bg.png',\n",
       "   'profile_background_tile': True,\n",
       "   'profile_image_url': 'http://pbs.twimg.com/profile_images/874276197357596672/kUuht00m_normal.jpg',\n",
       "   'profile_image_url_https': 'https://pbs.twimg.com/profile_images/874276197357596672/kUuht00m_normal.jpg',\n",
       "   'profile_banner_url': 'https://pbs.twimg.com/profile_banners/25073877/1580873630',\n",
       "   'profile_link_color': '1B95E0',\n",
       "   'profile_sidebar_border_color': 'BDDCAD',\n",
       "   'profile_sidebar_fill_color': 'C5CEC0',\n",
       "   'profile_text_color': '333333',\n",
       "   'profile_use_background_image': True,\n",
       "   'has_extended_profile': False,\n",
       "   'default_profile': False,\n",
       "   'default_profile_image': False,\n",
       "   'following': False,\n",
       "   'follow_request_sent': False,\n",
       "   'notifications': False,\n",
       "   'translator_type': 'regular'},\n",
       "  'geo': None,\n",
       "  'coordinates': None,\n",
       "  'place': None,\n",
       "  'contributors': None,\n",
       "  'is_quote_status': False,\n",
       "  'retweet_count': 5926,\n",
       "  'favorite_count': 27862,\n",
       "  'favorited': False,\n",
       "  'retweeted': False,\n",
       "  'lang': 'en'},\n",
       " 'created_at': datetime.datetime(2020, 3, 1, 5, 30, 8),\n",
       " 'id': 1233987865350148097,\n",
       " 'id_str': '1233987865350148097',\n",
       " 'text': 'Tom Steyer who, other than Mini Mike Bloomberg, spent more dollars for NOTHING than any candidate in history, quit… https://t.co/7jf6C7yOpA',\n",
       " 'truncated': True,\n",
       " 'entities': {'hashtags': [],\n",
       "  'symbols': [],\n",
       "  'user_mentions': [],\n",
       "  'urls': [{'url': 'https://t.co/7jf6C7yOpA',\n",
       "    'expanded_url': 'https://twitter.com/i/web/status/1233987865350148097',\n",
       "    'display_url': 'twitter.com/i/web/status/1…',\n",
       "    'indices': [116, 139]}]},\n",
       " 'source': 'Twitter for iPhone',\n",
       " 'source_url': 'http://twitter.com/download/iphone',\n",
       " 'in_reply_to_status_id': None,\n",
       " 'in_reply_to_status_id_str': None,\n",
       " 'in_reply_to_user_id': None,\n",
       " 'in_reply_to_user_id_str': None,\n",
       " 'in_reply_to_screen_name': None,\n",
       " 'author': User(_api=<tweepy.api.API object at 0x000001D3B067B808>, _json={'id': 25073877, 'id_str': '25073877', 'name': 'Donald J. Trump', 'screen_name': 'realDonaldTrump', 'location': 'Washington, DC', 'description': '45th President of the United States of America🇺🇸', 'url': 'https://t.co/OMxB0x7xC5', 'entities': {'url': {'urls': [{'url': 'https://t.co/OMxB0x7xC5', 'expanded_url': 'http://www.Instagram.com/realDonaldTrump', 'display_url': 'Instagram.com/realDonaldTrump', 'indices': [0, 23]}]}, 'description': {'urls': []}}, 'protected': False, 'followers_count': 73227962, 'friends_count': 47, 'listed_count': 115313, 'created_at': 'Wed Mar 18 13:46:38 +0000 2009', 'favourites_count': 7, 'utc_offset': None, 'time_zone': None, 'geo_enabled': True, 'verified': True, 'statuses_count': 49396, 'lang': None, 'contributors_enabled': False, 'is_translator': False, 'is_translation_enabled': True, 'profile_background_color': '6D5C18', 'profile_background_image_url': 'http://abs.twimg.com/images/themes/theme1/bg.png', 'profile_background_image_url_https': 'https://abs.twimg.com/images/themes/theme1/bg.png', 'profile_background_tile': True, 'profile_image_url': 'http://pbs.twimg.com/profile_images/874276197357596672/kUuht00m_normal.jpg', 'profile_image_url_https': 'https://pbs.twimg.com/profile_images/874276197357596672/kUuht00m_normal.jpg', 'profile_banner_url': 'https://pbs.twimg.com/profile_banners/25073877/1580873630', 'profile_link_color': '1B95E0', 'profile_sidebar_border_color': 'BDDCAD', 'profile_sidebar_fill_color': 'C5CEC0', 'profile_text_color': '333333', 'profile_use_background_image': True, 'has_extended_profile': False, 'default_profile': False, 'default_profile_image': False, 'following': False, 'follow_request_sent': False, 'notifications': False, 'translator_type': 'regular'}, id=25073877, id_str='25073877', name='Donald J. Trump', screen_name='realDonaldTrump', location='Washington, DC', description='45th President of the United States of America🇺🇸', url='https://t.co/OMxB0x7xC5', entities={'url': {'urls': [{'url': 'https://t.co/OMxB0x7xC5', 'expanded_url': 'http://www.Instagram.com/realDonaldTrump', 'display_url': 'Instagram.com/realDonaldTrump', 'indices': [0, 23]}]}, 'description': {'urls': []}}, protected=False, followers_count=73227962, friends_count=47, listed_count=115313, created_at=datetime.datetime(2009, 3, 18, 13, 46, 38), favourites_count=7, utc_offset=None, time_zone=None, geo_enabled=True, verified=True, statuses_count=49396, lang=None, contributors_enabled=False, is_translator=False, is_translation_enabled=True, profile_background_color='6D5C18', profile_background_image_url='http://abs.twimg.com/images/themes/theme1/bg.png', profile_background_image_url_https='https://abs.twimg.com/images/themes/theme1/bg.png', profile_background_tile=True, profile_image_url='http://pbs.twimg.com/profile_images/874276197357596672/kUuht00m_normal.jpg', profile_image_url_https='https://pbs.twimg.com/profile_images/874276197357596672/kUuht00m_normal.jpg', profile_banner_url='https://pbs.twimg.com/profile_banners/25073877/1580873630', profile_link_color='1B95E0', profile_sidebar_border_color='BDDCAD', profile_sidebar_fill_color='C5CEC0', profile_text_color='333333', profile_use_background_image=True, has_extended_profile=False, default_profile=False, default_profile_image=False, following=False, follow_request_sent=False, notifications=False, translator_type='regular'),\n",
       " 'user': User(_api=<tweepy.api.API object at 0x000001D3B067B808>, _json={'id': 25073877, 'id_str': '25073877', 'name': 'Donald J. Trump', 'screen_name': 'realDonaldTrump', 'location': 'Washington, DC', 'description': '45th President of the United States of America🇺🇸', 'url': 'https://t.co/OMxB0x7xC5', 'entities': {'url': {'urls': [{'url': 'https://t.co/OMxB0x7xC5', 'expanded_url': 'http://www.Instagram.com/realDonaldTrump', 'display_url': 'Instagram.com/realDonaldTrump', 'indices': [0, 23]}]}, 'description': {'urls': []}}, 'protected': False, 'followers_count': 73227962, 'friends_count': 47, 'listed_count': 115313, 'created_at': 'Wed Mar 18 13:46:38 +0000 2009', 'favourites_count': 7, 'utc_offset': None, 'time_zone': None, 'geo_enabled': True, 'verified': True, 'statuses_count': 49396, 'lang': None, 'contributors_enabled': False, 'is_translator': False, 'is_translation_enabled': True, 'profile_background_color': '6D5C18', 'profile_background_image_url': 'http://abs.twimg.com/images/themes/theme1/bg.png', 'profile_background_image_url_https': 'https://abs.twimg.com/images/themes/theme1/bg.png', 'profile_background_tile': True, 'profile_image_url': 'http://pbs.twimg.com/profile_images/874276197357596672/kUuht00m_normal.jpg', 'profile_image_url_https': 'https://pbs.twimg.com/profile_images/874276197357596672/kUuht00m_normal.jpg', 'profile_banner_url': 'https://pbs.twimg.com/profile_banners/25073877/1580873630', 'profile_link_color': '1B95E0', 'profile_sidebar_border_color': 'BDDCAD', 'profile_sidebar_fill_color': 'C5CEC0', 'profile_text_color': '333333', 'profile_use_background_image': True, 'has_extended_profile': False, 'default_profile': False, 'default_profile_image': False, 'following': False, 'follow_request_sent': False, 'notifications': False, 'translator_type': 'regular'}, id=25073877, id_str='25073877', name='Donald J. Trump', screen_name='realDonaldTrump', location='Washington, DC', description='45th President of the United States of America🇺🇸', url='https://t.co/OMxB0x7xC5', entities={'url': {'urls': [{'url': 'https://t.co/OMxB0x7xC5', 'expanded_url': 'http://www.Instagram.com/realDonaldTrump', 'display_url': 'Instagram.com/realDonaldTrump', 'indices': [0, 23]}]}, 'description': {'urls': []}}, protected=False, followers_count=73227962, friends_count=47, listed_count=115313, created_at=datetime.datetime(2009, 3, 18, 13, 46, 38), favourites_count=7, utc_offset=None, time_zone=None, geo_enabled=True, verified=True, statuses_count=49396, lang=None, contributors_enabled=False, is_translator=False, is_translation_enabled=True, profile_background_color='6D5C18', profile_background_image_url='http://abs.twimg.com/images/themes/theme1/bg.png', profile_background_image_url_https='https://abs.twimg.com/images/themes/theme1/bg.png', profile_background_tile=True, profile_image_url='http://pbs.twimg.com/profile_images/874276197357596672/kUuht00m_normal.jpg', profile_image_url_https='https://pbs.twimg.com/profile_images/874276197357596672/kUuht00m_normal.jpg', profile_banner_url='https://pbs.twimg.com/profile_banners/25073877/1580873630', profile_link_color='1B95E0', profile_sidebar_border_color='BDDCAD', profile_sidebar_fill_color='C5CEC0', profile_text_color='333333', profile_use_background_image=True, has_extended_profile=False, default_profile=False, default_profile_image=False, following=False, follow_request_sent=False, notifications=False, translator_type='regular'),\n",
       " 'geo': None,\n",
       " 'coordinates': None,\n",
       " 'place': None,\n",
       " 'contributors': None,\n",
       " 'is_quote_status': False,\n",
       " 'retweet_count': 5926,\n",
       " 'favorite_count': 27862,\n",
       " 'favorited': False,\n",
       " 'retweeted': False,\n",
       " 'lang': 'en'}"
      ]
     },
     "execution_count": 28,
     "metadata": {},
     "output_type": "execute_result"
    }
   ],
   "source": [
    "Trump_tweets[1].__dict__"
   ]
  },
  {
   "cell_type": "code",
   "execution_count": 29,
   "metadata": {},
   "outputs": [],
   "source": [
    "nyliste = []\n",
    "\n",
    "for t in Trump_tweets:\n",
    "    nyliste.append(t.__dict__)"
   ]
  },
  {
   "cell_type": "code",
   "execution_count": 33,
   "metadata": {},
   "outputs": [
    {
     "data": {
      "text/plain": [
       "dict_keys(['_api', '_json', 'created_at', 'id', 'id_str', 'text', 'truncated', 'entities', 'source', 'source_url', 'in_reply_to_status_id', 'in_reply_to_status_id_str', 'in_reply_to_user_id', 'in_reply_to_user_id_str', 'in_reply_to_screen_name', 'author', 'user', 'geo', 'coordinates', 'place', 'contributors', 'is_quote_status', 'retweet_count', 'favorite_count', 'favorited', 'retweeted', 'lang'])"
      ]
     },
     "execution_count": 33,
     "metadata": {},
     "output_type": "execute_result"
    }
   ],
   "source": [
    "nyliste[1].keys()"
   ]
  },
  {
   "cell_type": "code",
   "execution_count": 46,
   "metadata": {},
   "outputs": [
    {
     "data": {
      "text/plain": [
       "'I would find it hard to believe that failed presidential candidates Tom Steyer, or Mini Mike Bloombeg, would contri… https://t.co/MsRop4hR1o'"
      ]
     },
     "execution_count": 46,
     "metadata": {},
     "output_type": "execute_result"
    }
   ],
   "source": [
    "nyliste[0][\"text\"]"
   ]
  },
  {
   "cell_type": "code",
   "execution_count": 47,
   "metadata": {},
   "outputs": [],
   "source": [
    "import pandas as pd\n",
    "\n",
    "tweets_dataframe = pd.DataFrame(nyliste)"
   ]
  },
  {
   "cell_type": "code",
   "execution_count": 48,
   "metadata": {},
   "outputs": [
    {
     "data": {
      "text/html": [
       "<div>\n",
       "<style scoped>\n",
       "    .dataframe tbody tr th:only-of-type {\n",
       "        vertical-align: middle;\n",
       "    }\n",
       "\n",
       "    .dataframe tbody tr th {\n",
       "        vertical-align: top;\n",
       "    }\n",
       "\n",
       "    .dataframe thead th {\n",
       "        text-align: right;\n",
       "    }\n",
       "</style>\n",
       "<table border=\"1\" class=\"dataframe\">\n",
       "  <thead>\n",
       "    <tr style=\"text-align: right;\">\n",
       "      <th></th>\n",
       "      <th>_api</th>\n",
       "      <th>_json</th>\n",
       "      <th>created_at</th>\n",
       "      <th>id</th>\n",
       "      <th>id_str</th>\n",
       "      <th>text</th>\n",
       "      <th>truncated</th>\n",
       "      <th>entities</th>\n",
       "      <th>source</th>\n",
       "      <th>source_url</th>\n",
       "      <th>...</th>\n",
       "      <th>favorite_count</th>\n",
       "      <th>favorited</th>\n",
       "      <th>retweeted</th>\n",
       "      <th>lang</th>\n",
       "      <th>extended_entities</th>\n",
       "      <th>possibly_sensitive</th>\n",
       "      <th>quoted_status_id</th>\n",
       "      <th>quoted_status_id_str</th>\n",
       "      <th>quoted_status</th>\n",
       "      <th>retweeted_status</th>\n",
       "    </tr>\n",
       "  </thead>\n",
       "  <tbody>\n",
       "    <tr>\n",
       "      <td>0</td>\n",
       "      <td>&lt;tweepy.api.API object at 0x000001D3B067B808&gt;</td>\n",
       "      <td>{'created_at': 'Sun Mar 01 05:39:39 +0000 2020...</td>\n",
       "      <td>2020-03-01 05:39:39</td>\n",
       "      <td>1233990259802767360</td>\n",
       "      <td>1233990259802767360</td>\n",
       "      <td>I would find it hard to believe that failed pr...</td>\n",
       "      <td>True</td>\n",
       "      <td>{'hashtags': [], 'symbols': [], 'user_mentions...</td>\n",
       "      <td>Twitter for iPhone</td>\n",
       "      <td>http://twitter.com/download/iphone</td>\n",
       "      <td>...</td>\n",
       "      <td>24848</td>\n",
       "      <td>False</td>\n",
       "      <td>False</td>\n",
       "      <td>en</td>\n",
       "      <td>NaN</td>\n",
       "      <td>NaN</td>\n",
       "      <td>NaN</td>\n",
       "      <td>NaN</td>\n",
       "      <td>NaN</td>\n",
       "      <td>NaN</td>\n",
       "    </tr>\n",
       "    <tr>\n",
       "      <td>1</td>\n",
       "      <td>&lt;tweepy.api.API object at 0x000001D3B067B808&gt;</td>\n",
       "      <td>{'created_at': 'Sun Mar 01 05:30:08 +0000 2020...</td>\n",
       "      <td>2020-03-01 05:30:08</td>\n",
       "      <td>1233987865350148097</td>\n",
       "      <td>1233987865350148097</td>\n",
       "      <td>Tom Steyer who, other than Mini Mike Bloomberg...</td>\n",
       "      <td>True</td>\n",
       "      <td>{'hashtags': [], 'symbols': [], 'user_mentions...</td>\n",
       "      <td>Twitter for iPhone</td>\n",
       "      <td>http://twitter.com/download/iphone</td>\n",
       "      <td>...</td>\n",
       "      <td>27862</td>\n",
       "      <td>False</td>\n",
       "      <td>False</td>\n",
       "      <td>en</td>\n",
       "      <td>NaN</td>\n",
       "      <td>NaN</td>\n",
       "      <td>NaN</td>\n",
       "      <td>NaN</td>\n",
       "      <td>NaN</td>\n",
       "      <td>NaN</td>\n",
       "    </tr>\n",
       "    <tr>\n",
       "      <td>2</td>\n",
       "      <td>&lt;tweepy.api.API object at 0x000001D3B067B808&gt;</td>\n",
       "      <td>{'created_at': 'Sun Mar 01 04:49:32 +0000 2020...</td>\n",
       "      <td>2020-03-01 04:49:32</td>\n",
       "      <td>1233977649552384005</td>\n",
       "      <td>1233977649552384005</td>\n",
       "      <td>Congratulations to Sleepy Joe Biden!</td>\n",
       "      <td>False</td>\n",
       "      <td>{'hashtags': [], 'symbols': [], 'user_mentions...</td>\n",
       "      <td>Twitter for iPhone</td>\n",
       "      <td>http://twitter.com/download/iphone</td>\n",
       "      <td>...</td>\n",
       "      <td>37694</td>\n",
       "      <td>False</td>\n",
       "      <td>False</td>\n",
       "      <td>en</td>\n",
       "      <td>NaN</td>\n",
       "      <td>NaN</td>\n",
       "      <td>NaN</td>\n",
       "      <td>NaN</td>\n",
       "      <td>NaN</td>\n",
       "      <td>NaN</td>\n",
       "    </tr>\n",
       "    <tr>\n",
       "      <td>3</td>\n",
       "      <td>&lt;tweepy.api.API object at 0x000001D3B067B808&gt;</td>\n",
       "      <td>{'created_at': 'Sun Mar 01 04:45:36 +0000 2020...</td>\n",
       "      <td>2020-03-01 04:45:36</td>\n",
       "      <td>1233976658572566529</td>\n",
       "      <td>1233976658572566529</td>\n",
       "      <td>Democrats are working hard to destroy the name...</td>\n",
       "      <td>False</td>\n",
       "      <td>{'hashtags': [], 'symbols': [], 'user_mentions...</td>\n",
       "      <td>Twitter for iPhone</td>\n",
       "      <td>http://twitter.com/download/iphone</td>\n",
       "      <td>...</td>\n",
       "      <td>38141</td>\n",
       "      <td>False</td>\n",
       "      <td>False</td>\n",
       "      <td>en</td>\n",
       "      <td>NaN</td>\n",
       "      <td>NaN</td>\n",
       "      <td>NaN</td>\n",
       "      <td>NaN</td>\n",
       "      <td>NaN</td>\n",
       "      <td>NaN</td>\n",
       "    </tr>\n",
       "    <tr>\n",
       "      <td>4</td>\n",
       "      <td>&lt;tweepy.api.API object at 0x000001D3B067B808&gt;</td>\n",
       "      <td>{'created_at': 'Sun Mar 01 00:16:33 +0000 2020...</td>\n",
       "      <td>2020-03-01 00:16:33</td>\n",
       "      <td>1233908953026908161</td>\n",
       "      <td>1233908953026908161</td>\n",
       "      <td>Sleepy Joe Biden’s victory in the South Caroli...</td>\n",
       "      <td>True</td>\n",
       "      <td>{'hashtags': [], 'symbols': [], 'user_mentions...</td>\n",
       "      <td>Twitter for iPhone</td>\n",
       "      <td>http://twitter.com/download/iphone</td>\n",
       "      <td>...</td>\n",
       "      <td>67429</td>\n",
       "      <td>False</td>\n",
       "      <td>False</td>\n",
       "      <td>en</td>\n",
       "      <td>NaN</td>\n",
       "      <td>NaN</td>\n",
       "      <td>NaN</td>\n",
       "      <td>NaN</td>\n",
       "      <td>NaN</td>\n",
       "      <td>NaN</td>\n",
       "    </tr>\n",
       "    <tr>\n",
       "      <td>...</td>\n",
       "      <td>...</td>\n",
       "      <td>...</td>\n",
       "      <td>...</td>\n",
       "      <td>...</td>\n",
       "      <td>...</td>\n",
       "      <td>...</td>\n",
       "      <td>...</td>\n",
       "      <td>...</td>\n",
       "      <td>...</td>\n",
       "      <td>...</td>\n",
       "      <td>...</td>\n",
       "      <td>...</td>\n",
       "      <td>...</td>\n",
       "      <td>...</td>\n",
       "      <td>...</td>\n",
       "      <td>...</td>\n",
       "      <td>...</td>\n",
       "      <td>...</td>\n",
       "      <td>...</td>\n",
       "      <td>...</td>\n",
       "      <td>...</td>\n",
       "    </tr>\n",
       "    <tr>\n",
       "      <td>145</td>\n",
       "      <td>&lt;tweepy.api.API object at 0x000001D3B067B808&gt;</td>\n",
       "      <td>{'created_at': 'Mon Feb 24 14:01:06 +0000 2020...</td>\n",
       "      <td>2020-02-24 14:01:06</td>\n",
       "      <td>1231942129381003266</td>\n",
       "      <td>1231942129381003266</td>\n",
       "      <td>RT @Lrihendry: @realDonaldTrump BEST President...</td>\n",
       "      <td>False</td>\n",
       "      <td>{'hashtags': [], 'symbols': [], 'user_mentions...</td>\n",
       "      <td>Twitter for iPhone</td>\n",
       "      <td>http://twitter.com/download/iphone</td>\n",
       "      <td>...</td>\n",
       "      <td>0</td>\n",
       "      <td>False</td>\n",
       "      <td>False</td>\n",
       "      <td>en</td>\n",
       "      <td>NaN</td>\n",
       "      <td>NaN</td>\n",
       "      <td>NaN</td>\n",
       "      <td>NaN</td>\n",
       "      <td>NaN</td>\n",
       "      <td>Status(_api=&lt;tweepy.api.API object at 0x000001...</td>\n",
       "    </tr>\n",
       "    <tr>\n",
       "      <td>146</td>\n",
       "      <td>&lt;tweepy.api.API object at 0x000001D3B067B808&gt;</td>\n",
       "      <td>{'created_at': 'Mon Feb 24 13:31:57 +0000 2020...</td>\n",
       "      <td>2020-02-24 13:31:57</td>\n",
       "      <td>1231934791093587968</td>\n",
       "      <td>1231934791093587968</td>\n",
       "      <td>RT @PlaysTrumpCard: @Lrihendry @realDonaldTrum...</td>\n",
       "      <td>False</td>\n",
       "      <td>{'hashtags': [], 'symbols': [], 'user_mentions...</td>\n",
       "      <td>Twitter for iPhone</td>\n",
       "      <td>http://twitter.com/download/iphone</td>\n",
       "      <td>...</td>\n",
       "      <td>0</td>\n",
       "      <td>False</td>\n",
       "      <td>False</td>\n",
       "      <td>en</td>\n",
       "      <td>NaN</td>\n",
       "      <td>NaN</td>\n",
       "      <td>NaN</td>\n",
       "      <td>NaN</td>\n",
       "      <td>NaN</td>\n",
       "      <td>Status(_api=&lt;tweepy.api.API object at 0x000001...</td>\n",
       "    </tr>\n",
       "    <tr>\n",
       "      <td>147</td>\n",
       "      <td>&lt;tweepy.api.API object at 0x000001D3B067B808&gt;</td>\n",
       "      <td>{'created_at': 'Mon Feb 24 13:30:59 +0000 2020...</td>\n",
       "      <td>2020-02-24 13:30:59</td>\n",
       "      <td>1231934547446484997</td>\n",
       "      <td>1231934547446484997</td>\n",
       "      <td>Thank you Lori, so true! https://t.co/rUoBz885u1</td>\n",
       "      <td>False</td>\n",
       "      <td>{'hashtags': [], 'symbols': [], 'user_mentions...</td>\n",
       "      <td>Twitter for iPhone</td>\n",
       "      <td>http://twitter.com/download/iphone</td>\n",
       "      <td>...</td>\n",
       "      <td>48734</td>\n",
       "      <td>False</td>\n",
       "      <td>False</td>\n",
       "      <td>en</td>\n",
       "      <td>NaN</td>\n",
       "      <td>False</td>\n",
       "      <td>1.231674e+18</td>\n",
       "      <td>1231673528346431488</td>\n",
       "      <td>Status(_api=&lt;tweepy.api.API object at 0x000001...</td>\n",
       "      <td>NaN</td>\n",
       "    </tr>\n",
       "    <tr>\n",
       "      <td>148</td>\n",
       "      <td>&lt;tweepy.api.API object at 0x000001D3B067B808&gt;</td>\n",
       "      <td>{'created_at': 'Mon Feb 24 12:46:11 +0000 2020...</td>\n",
       "      <td>2020-02-24 12:46:11</td>\n",
       "      <td>1231923276794015745</td>\n",
       "      <td>1231923276794015745</td>\n",
       "      <td>मैं  इसी  लिए भारत आया हूँ, सद्भावना और प्रेम ...</td>\n",
       "      <td>True</td>\n",
       "      <td>{'hashtags': [], 'symbols': [], 'user_mentions...</td>\n",
       "      <td>Twitter for iPhone</td>\n",
       "      <td>http://twitter.com/download/iphone</td>\n",
       "      <td>...</td>\n",
       "      <td>161815</td>\n",
       "      <td>False</td>\n",
       "      <td>False</td>\n",
       "      <td>hi</td>\n",
       "      <td>NaN</td>\n",
       "      <td>False</td>\n",
       "      <td>NaN</td>\n",
       "      <td>NaN</td>\n",
       "      <td>NaN</td>\n",
       "      <td>NaN</td>\n",
       "    </tr>\n",
       "    <tr>\n",
       "      <td>149</td>\n",
       "      <td>&lt;tweepy.api.API object at 0x000001D3B067B808&gt;</td>\n",
       "      <td>{'created_at': 'Mon Feb 24 11:09:57 +0000 2020...</td>\n",
       "      <td>2020-02-24 11:09:57</td>\n",
       "      <td>1231899058513596417</td>\n",
       "      <td>1231899058513596417</td>\n",
       "      <td>Our two national constitutions both begin with...</td>\n",
       "      <td>True</td>\n",
       "      <td>{'hashtags': [], 'symbols': [], 'user_mentions...</td>\n",
       "      <td>Twitter for iPhone</td>\n",
       "      <td>http://twitter.com/download/iphone</td>\n",
       "      <td>...</td>\n",
       "      <td>131537</td>\n",
       "      <td>False</td>\n",
       "      <td>False</td>\n",
       "      <td>en</td>\n",
       "      <td>NaN</td>\n",
       "      <td>False</td>\n",
       "      <td>NaN</td>\n",
       "      <td>NaN</td>\n",
       "      <td>NaN</td>\n",
       "      <td>NaN</td>\n",
       "    </tr>\n",
       "  </tbody>\n",
       "</table>\n",
       "<p>150 rows × 33 columns</p>\n",
       "</div>"
      ],
      "text/plain": [
       "                                              _api  \\\n",
       "0    <tweepy.api.API object at 0x000001D3B067B808>   \n",
       "1    <tweepy.api.API object at 0x000001D3B067B808>   \n",
       "2    <tweepy.api.API object at 0x000001D3B067B808>   \n",
       "3    <tweepy.api.API object at 0x000001D3B067B808>   \n",
       "4    <tweepy.api.API object at 0x000001D3B067B808>   \n",
       "..                                             ...   \n",
       "145  <tweepy.api.API object at 0x000001D3B067B808>   \n",
       "146  <tweepy.api.API object at 0x000001D3B067B808>   \n",
       "147  <tweepy.api.API object at 0x000001D3B067B808>   \n",
       "148  <tweepy.api.API object at 0x000001D3B067B808>   \n",
       "149  <tweepy.api.API object at 0x000001D3B067B808>   \n",
       "\n",
       "                                                 _json          created_at  \\\n",
       "0    {'created_at': 'Sun Mar 01 05:39:39 +0000 2020... 2020-03-01 05:39:39   \n",
       "1    {'created_at': 'Sun Mar 01 05:30:08 +0000 2020... 2020-03-01 05:30:08   \n",
       "2    {'created_at': 'Sun Mar 01 04:49:32 +0000 2020... 2020-03-01 04:49:32   \n",
       "3    {'created_at': 'Sun Mar 01 04:45:36 +0000 2020... 2020-03-01 04:45:36   \n",
       "4    {'created_at': 'Sun Mar 01 00:16:33 +0000 2020... 2020-03-01 00:16:33   \n",
       "..                                                 ...                 ...   \n",
       "145  {'created_at': 'Mon Feb 24 14:01:06 +0000 2020... 2020-02-24 14:01:06   \n",
       "146  {'created_at': 'Mon Feb 24 13:31:57 +0000 2020... 2020-02-24 13:31:57   \n",
       "147  {'created_at': 'Mon Feb 24 13:30:59 +0000 2020... 2020-02-24 13:30:59   \n",
       "148  {'created_at': 'Mon Feb 24 12:46:11 +0000 2020... 2020-02-24 12:46:11   \n",
       "149  {'created_at': 'Mon Feb 24 11:09:57 +0000 2020... 2020-02-24 11:09:57   \n",
       "\n",
       "                      id               id_str  \\\n",
       "0    1233990259802767360  1233990259802767360   \n",
       "1    1233987865350148097  1233987865350148097   \n",
       "2    1233977649552384005  1233977649552384005   \n",
       "3    1233976658572566529  1233976658572566529   \n",
       "4    1233908953026908161  1233908953026908161   \n",
       "..                   ...                  ...   \n",
       "145  1231942129381003266  1231942129381003266   \n",
       "146  1231934791093587968  1231934791093587968   \n",
       "147  1231934547446484997  1231934547446484997   \n",
       "148  1231923276794015745  1231923276794015745   \n",
       "149  1231899058513596417  1231899058513596417   \n",
       "\n",
       "                                                  text  truncated  \\\n",
       "0    I would find it hard to believe that failed pr...       True   \n",
       "1    Tom Steyer who, other than Mini Mike Bloomberg...       True   \n",
       "2                 Congratulations to Sleepy Joe Biden!      False   \n",
       "3    Democrats are working hard to destroy the name...      False   \n",
       "4    Sleepy Joe Biden’s victory in the South Caroli...       True   \n",
       "..                                                 ...        ...   \n",
       "145  RT @Lrihendry: @realDonaldTrump BEST President...      False   \n",
       "146  RT @PlaysTrumpCard: @Lrihendry @realDonaldTrum...      False   \n",
       "147   Thank you Lori, so true! https://t.co/rUoBz885u1      False   \n",
       "148  मैं  इसी  लिए भारत आया हूँ, सद्भावना और प्रेम ...       True   \n",
       "149  Our two national constitutions both begin with...       True   \n",
       "\n",
       "                                              entities              source  \\\n",
       "0    {'hashtags': [], 'symbols': [], 'user_mentions...  Twitter for iPhone   \n",
       "1    {'hashtags': [], 'symbols': [], 'user_mentions...  Twitter for iPhone   \n",
       "2    {'hashtags': [], 'symbols': [], 'user_mentions...  Twitter for iPhone   \n",
       "3    {'hashtags': [], 'symbols': [], 'user_mentions...  Twitter for iPhone   \n",
       "4    {'hashtags': [], 'symbols': [], 'user_mentions...  Twitter for iPhone   \n",
       "..                                                 ...                 ...   \n",
       "145  {'hashtags': [], 'symbols': [], 'user_mentions...  Twitter for iPhone   \n",
       "146  {'hashtags': [], 'symbols': [], 'user_mentions...  Twitter for iPhone   \n",
       "147  {'hashtags': [], 'symbols': [], 'user_mentions...  Twitter for iPhone   \n",
       "148  {'hashtags': [], 'symbols': [], 'user_mentions...  Twitter for iPhone   \n",
       "149  {'hashtags': [], 'symbols': [], 'user_mentions...  Twitter for iPhone   \n",
       "\n",
       "                             source_url  ...  favorite_count favorited  \\\n",
       "0    http://twitter.com/download/iphone  ...           24848     False   \n",
       "1    http://twitter.com/download/iphone  ...           27862     False   \n",
       "2    http://twitter.com/download/iphone  ...           37694     False   \n",
       "3    http://twitter.com/download/iphone  ...           38141     False   \n",
       "4    http://twitter.com/download/iphone  ...           67429     False   \n",
       "..                                  ...  ...             ...       ...   \n",
       "145  http://twitter.com/download/iphone  ...               0     False   \n",
       "146  http://twitter.com/download/iphone  ...               0     False   \n",
       "147  http://twitter.com/download/iphone  ...           48734     False   \n",
       "148  http://twitter.com/download/iphone  ...          161815     False   \n",
       "149  http://twitter.com/download/iphone  ...          131537     False   \n",
       "\n",
       "     retweeted lang extended_entities possibly_sensitive quoted_status_id  \\\n",
       "0        False   en               NaN                NaN              NaN   \n",
       "1        False   en               NaN                NaN              NaN   \n",
       "2        False   en               NaN                NaN              NaN   \n",
       "3        False   en               NaN                NaN              NaN   \n",
       "4        False   en               NaN                NaN              NaN   \n",
       "..         ...  ...               ...                ...              ...   \n",
       "145      False   en               NaN                NaN              NaN   \n",
       "146      False   en               NaN                NaN              NaN   \n",
       "147      False   en               NaN              False     1.231674e+18   \n",
       "148      False   hi               NaN              False              NaN   \n",
       "149      False   en               NaN              False              NaN   \n",
       "\n",
       "    quoted_status_id_str                                      quoted_status  \\\n",
       "0                    NaN                                                NaN   \n",
       "1                    NaN                                                NaN   \n",
       "2                    NaN                                                NaN   \n",
       "3                    NaN                                                NaN   \n",
       "4                    NaN                                                NaN   \n",
       "..                   ...                                                ...   \n",
       "145                  NaN                                                NaN   \n",
       "146                  NaN                                                NaN   \n",
       "147  1231673528346431488  Status(_api=<tweepy.api.API object at 0x000001...   \n",
       "148                  NaN                                                NaN   \n",
       "149                  NaN                                                NaN   \n",
       "\n",
       "                                      retweeted_status  \n",
       "0                                                  NaN  \n",
       "1                                                  NaN  \n",
       "2                                                  NaN  \n",
       "3                                                  NaN  \n",
       "4                                                  NaN  \n",
       "..                                                 ...  \n",
       "145  Status(_api=<tweepy.api.API object at 0x000001...  \n",
       "146  Status(_api=<tweepy.api.API object at 0x000001...  \n",
       "147                                                NaN  \n",
       "148                                                NaN  \n",
       "149                                                NaN  \n",
       "\n",
       "[150 rows x 33 columns]"
      ]
     },
     "execution_count": 48,
     "metadata": {},
     "output_type": "execute_result"
    }
   ],
   "source": [
    "tweets_dataframe"
   ]
  },
  {
   "cell_type": "code",
   "execution_count": 49,
   "metadata": {},
   "outputs": [],
   "source": [
    "tweets_dataframe.to_csv('trumptweets.csv')"
   ]
  },
  {
   "cell_type": "code",
   "execution_count": 27,
   "metadata": {},
   "outputs": [
    {
     "name": "stdout",
     "output_type": "stream",
     "text": [
      "['I would find it hard to believe that failed presidential candidates Tom Steyer, or Mini Mike Bloombeg, would contri… https://t.co/MsRop4hR1o', 'Tom Steyer who, other than Mini Mike Bloomberg, spent more dollars for NOTHING than any candidate in history, quit… https://t.co/7jf6C7yOpA', 'Congratulations to Sleepy Joe Biden!', 'Democrats are working hard to destroy the name and reputation of Crazy Bernie Sanders, and take the nomination away from him!', 'Sleepy Joe Biden’s victory in the South Carolina Democrat Primary should be the end of Mini Mike Bloomberg’s Joke o… https://t.co/kJZSgU6Nvo', 'THE BEST IS YET TO COME! https://t.co/C0RicMRP0Z', 'Dana, you are the real deal! https://t.co/nAGDnP1RDp', 'THANK YOU @CPAC! #CPAC2020 https://t.co/Qf2zIk0FOj', 'https://t.co/C2LaKLBxgg', 'https://t.co/vVSkTSlM1X', 'I will be having a 1:30 P.M. Press Conference at the White House to discuss the latest CoronaVirus developments. Thank you!', 'THANK YOU SOUTH CAROLINA! \\nhttps://t.co/7i5BYCQfg8', 'https://t.co/REhbRVEcC0', 'https://t.co/L00A2IM766', 'South Carolina was GREAT. A BIG &amp; REALLY ENTHUSIASTIC CROWD!', 'A so-called reporter named @JohnJHarwood, who bombed so badly in the 2016 Presidential Debates that I thought he wa… https://t.co/LkZvosEDRe', 'I hope we can get Admiral @RonnyJackson4TX of Texas, who served our Country so well, into the runoff election in… https://t.co/d8da55Awx1', 'Thank you to all of the incredible Law Enforcement Officers in South Carolina tonight. We love you! https://t.co/yoqjwFzqQA', 'It was my great honor to be back in South Carolina tonight, with thousands of hardworking American Patriots who bel… https://t.co/HlNCJfLQvY', 'I am pleased to announce the nomination of @RepRatcliffe (Congressman John Ratcliffe) to be Director of National In… https://t.co/5kaRCEjTlm', 'On my way to the Great State of South Carolina. See everyone soon! #MAGA #KAG https://t.co/cjzElGNyDN', 'Nobody fights harder for Montana than @SteveDaines. Steve is a close friend of mine, a STRONG Conservative, and a t… https://t.co/98OEcVXMlx', 'The Dems are working hard to take the prized nomination away from Bernie. Back room politics, which Bernie is not v… https://t.co/4u50tZyKnC', 'Mini Mike is getting slammed. His debates were, perhaps, the worst in presidential debating history. A total phony… https://t.co/gBK3HhCoyz', 'We strongly stand with Terrence! https://t.co/N4uFExD6Vz', 'RT @BrandonBeckham_: @realDonaldTrump 🇺🇸 Dr. McCormick @RichforGA, a Medical Doctor &amp; Decorated US Marine @USMC provides a much needed pers…', 'RT @realDonaldTrump: https://t.co/xbuiZAdsR7', 'https://t.co/xbuiZAdsR7 https://t.co/dv2txSp3ro', '“You go around Pennsylvania and you see Trump signs everywhere. The Donald Trump situation is bigger than the Reaga… https://t.co/2lE9LbWJXG', 'Worst Polls, just like in 2016 when they were so far off the mark, are the @FoxNews Polls. Why doesn’t Fox finally… https://t.co/1I2Kg7PPZG', 'RT @realDonaldTrump: 52% in the new Rasmussen Poll. 95% Approval Rating in the Republican Party. Thank you!', 'To the people of South Carolina, Tom Steyer is a joke, laughed at by everyone, a total incompetent. He made money i… https://t.co/ketGOzMbf0', 'Will be in the Great State of South Carolina tonight, 7:00 P.M., for a really BIG Rally. Best place to be is a Trump Rally. See you later!', '“Federal Court Deals Major Blow To Sanctuary Cities.” @FoxNews  In other words, there will be no more Federal Tax D… https://t.co/YIB3KZjSHF', 'The Do Nothing Democrats were busy wasting time on the Immigration Hoax, &amp; anything else they could do to make the… https://t.co/AZIBzeaem6', 'So, the Coronavirus, which started in China and spread to various countries throughout the world, but very slowly i… https://t.co/uz44BxMCsQ', 'So nice! https://t.co/rnhymmWJu6', '“Diagnosis positive: @CNN is infected with Trump Derangement Syndrome. I’m calling out CNN for irresponsibly politi… https://t.co/5RGIvaXQCw', 'Word is that Mini Mike Bloomberg performed so poorly in the two debates, that he is thinking about dropping out of… https://t.co/VAH8g5EPTQ', 'Congratulations and thank you to our great Vice President &amp; all of the many professionals doing such a fine job at… https://t.co/5Yt8uaBEms', '“Anti-Trump Network @CNN doing whatever it can to stoke a national Coronavirus panic. The far left Network pretty m… https://t.co/aM25K2Rv8j', 'https://t.co/2p4WngYWJ4', 'RT @Jim_Jordan: FISA Reform markup tomorrow in Judiciary.\\n\\nRemember, AG Bill Barr used the term \"political surveillance\" to describe what t…', 'They spied on my campaign! https://t.co/LpIc3cNBnr', 'RT @realDonaldTrump: Big Rally in the Great State of South Carolina on Friday. See you there!', '.@RepKevinBrady (R) of Texas-08 loves Texas &amp; our Country. He has been a GREAT Congressman &amp; supporter of #MAGA. St… https://t.co/r0Xh9Biofn', 'https://t.co/dWl6SZqFLZ', 'RT @WhiteHouse: \"I\\'d like to extend my deepest condolences to the victims and families in Milwaukee, Wisconsin.\" — President @realDonaldTru…', 'RT @SaraCarterDC: Court Rules Trump Admin Can Withhold Federal Grants From Sanctuary Cities https://t.co/QJnYQv8jYX via @SaraCarterDC', 'Nancy has allowed her District to go down more than any other in the USA! Hardly even recognizable. https://t.co/wnABoOQOVe', 'RT @realDonaldTrump: Low Ratings Fake News MSDNC (Comcast) &amp; @CNN are doing everything possible to make the Caronavirus look as bad as poss…', 'RT @realDonaldTrump: Crazy, chaotic Democrat Debate last night. Fake News said Biden did well, even though he said half of our population w…', 'RT @realDonaldTrump: ....during a debate). Pocahontas was mean, &amp; undisciplined, mostly aiming at Crazy Bernie and Mini Mike. They don’t kn…', 'RT @realDonaldTrump: I will be having a News Conference at the White House, on this subject, today at 6:00 P.M. CDC representatives, and ot…', 'RT @realDonaldTrump: Big Story, Big Win - Except in the Fake News, which won’t cover it!', 'RT @GOPChairwoman: Democrats in Congress have obstructed @realDonaldTrump at every turn, but he is delivering on his promise to build the w…', 'RT @GOPChairwoman: People are tired of Democrats ripping up @realDonaldTrump’s SOTU, yelling at each other over who is more of a shill for…', 'My two great friends. Proud of you both! https://t.co/Fo2CLjc9YZ', 'Eric, I can live with that! https://t.co/TtNdK9pg06', 'Piers, I like you too! https://t.co/pUe09YlrY0', 'RT @tonykatz: Check out the press conference on @93wibc at 6pmET', 'Big Rally in the Great State of South Carolina on Friday. See you there!', '“Every poll you look at shows that Black support for President Trump is growing.” @RealCandaceO @MariaBartiromo', 'Big Story, Big Win - Except in the Fake News, which won’t cover it! https://t.co/reWPi2hc4v', '....during a debate). Pocahontas was mean, &amp; undisciplined, mostly aiming at Crazy Bernie and Mini Mike. They don’t… https://t.co/iKp5a0UbsT', 'Crazy, chaotic Democrat Debate last night. Fake News said Biden did well, even though he said half of our populatio… https://t.co/Pul384BRrK', 'I will be having a News Conference at the White House, on this subject, today at 6:00 P.M. CDC representatives, and… https://t.co/YNrfmRylTT', 'Low Ratings Fake News MSDNC (Comcast) &amp; @CNN are doing everything possible to make the Caronavirus look as bad as p… https://t.co/bVSoM0VMFZ', 'Just landed. India was great, trip very successful. Heading to the White House. Meetings and calls scheduled today.… https://t.co/xj0QsusUm9', 'RT @CDCgov: There is currently no reported community spread of #COVID19 in the US. People should follow everyday measures to prevent the sp…', 'RT @realDonaldTrump: CDC and my Administration are doing a GREAT job of handling Coronavirus, including the very early closing of our borde…', 'RT @realDonaldTrump: ....Democrats talking point is that we are doing badly. If the virus disappeared tomorrow, they would say we did a rea…', '“U.S. acted on the Coronavirus very, very quickly.” Gordon Chang  @IngrahamAngle', 'RT @TocRadio: in case you were wondering, YES, Trump apparently was watching the #DemDebate on his flight back to Washington, DC from India…', 'RT @DailyCaller: Joe Biden Claims A Whopping 150 Million People Have Been Killed By Guns Since 2007 https://t.co/7WXZSS0lC9', 'RT @marklevinshow: Obama appointed Judge Jackson has gone rogue\\nhttps://t.co/KKwMHSAZyS', 'RT @marklevinshow: MSNBC falling in line behind Sanders\\nhttps://t.co/vmOVUFfZht', 'RT @marklevinshow: Jackson is hyper-political and undermining judicial integrity\\nhttps://t.co/NF3OjLuTX0', \"RT @NextRevFNC: .@KayleighMcEnany: 27% of people who registered to attend Trump rally in Las Vegas, NV were Black and Latino, and 32% didn'…\", 'RT @kayleighmcenany: “I’m with a veterans’ group that meets every 2nd Thursday at IHOP &amp; there’s at least 30 veterans there — most of them…', 'RT @NextRevFNC: .@KayleighMcEnany: \"You can\\'t beat President Trump who\\'s breaking records  in polling, breaking records in economic satisfa…', 'RT @kayleighmcenany: You are the best @TimMurtaugh — a talented communications director &amp; great leader of our team!', 'RT @kayleighmcenany: “We are a qualified opportunity fund thanks to President @realDonaldTrump.”\\n\\n“We need 4 more years because we need the…', 'Thank you! https://t.co/5DNbnbEtyy', 'RT @JennaEllisEsq: Clear winner of the #DemDebate is @realDonaldTrump!! 🇺🇸🇺🇸🇺🇸', 'RT @LouDobbs: #LDTPoll Should Congress refuse to re-authorize the FISA courts until the American people can be assured we will never see a…', 'RT @LouDobbs: Controlling the Pandemic: Dr. Anthony Fauci says travel restrictions from China puts America a step ahead of Coronavirus outb…', 'Russia wants him to win! https://t.co/bNUeIsqmQX', 'An absolute disgrace! https://t.co/xwmsyitlMh', 'RT @LouDobbs: Constraining the Pandemic: @SecAzar praises @POTUS’ historically aggressive efforts to control the coronavirus in the U.S. #A…', 'RT @LouDobbs: Protecting Liberty: @Jim_Jordan says we have the opportunity to make fundamental changes and defend basic freedoms by holding…', 'RT @WhiteHouse: THANK YOU, India! 🇺🇸🇮🇳 https://t.co/IkGtp0zpyj', '52% in the new Rasmussen Poll. 95% Approval Rating in the Republican Party. Thank you!', '....Democrats talking point is that we are doing badly. If the virus disappeared tomorrow, they would say we did a… https://t.co/0jxa57LKPP', 'CDC and my Administration are doing a GREAT job of handling Coronavirus, including the very early closing of our bo… https://t.co/4a4Pa8GcQO', 'RT @johnnydollar01: Fox News Dominates Basic Cable for 44 Consecutive Months, Crushes Cable News 218 Straight Months\\nFNC Finishes Month as…', 'That is because they cover your favorite President relatively well. @CNN &amp; MSDNC are dying in the ratings! https://t.co/dhlZlbyg2N', 'No surprise! https://t.co/qCcUPsXgG9', 'RT @GOPLeader: Acquitted for life. https://t.co/HgqBXwpoWK', 'RT @jaketapper: CNN: US intelligence briefer appears to have overstated assessment of 2020 Russian interference, from \\u2066@JDiamond1\\u2069 \\u2066@Zcohen…', 'RT @gr8tjude_08: Cruz scorches Sotomayor over court critique, turns tables on her dissent https://t.co/Y84PtbVZqZ #FoxNews', 'True, but we are getting it all done! https://t.co/omwdyyPDAX', 'RT @gr8tjude_08: Trey Gowdy to Intelligence Officials: \\nStop Briefing ‘Leaker’ Adam Schiff! \\nhttps://t.co/dYutTqKACA', 'RT @BrandonBeckham_: @realDonaldTrump \"Our Justice system has to be impartial.\" -@JennaEllisEsq\\n\\n#RogerStone deserved an impartial jury. Pr…', 'A total miscarriage of justice! https://t.co/zHLo1NL9Sb', 'There has rarely been a juror so tainted as the forewoman in the Roger Stone case. Look at her background. She neve… https://t.co/Tr0BBXPpeG', 'RT @PMOIndia: यह संबंध, 21वीं सदी की सबसे महत्वपूर्ण पार्टनरशिप्स में है।  \\n \\nऔर इसलिए आज राष्ट्रपति Trump और मैंने हमारे सम्बन्धों को Comp…', 'RT @narendramodi: Yet another excellent meeting and talks with my friend @realDonaldTrump.\\n\\nRelations between India and USA are not merely…', 'RT @Scavino45: https://t.co/mORc96pSbp', 'RT @Scavino45: https://t.co/pJIK3brju8', 'Cryin’ Chuck Schumer is complaining, for publicity purposes only, that I should be asking for more money than $2.5… https://t.co/rItldd8E5F', \"RT @Judgenap: Roger Stone judge's bias may have jeopardized entire trial...\\nhttps://t.co/KBUjgjHHZw\", 'https://t.co/Cfs8RV05Pt', 'RT @rashtrapatibhvn: LIVE: Ceremonial welcome of President @realDonaldTrump at Rashtrapati Bhavan https://t.co/7W4MyV7XAT', '....on all Trump, or Trump related, matters! While “elections have consequences”, I only ask for fairness, especial… https://t.co/XrgUWEAHlS', '“Sotomayor accuses GOP appointed Justices  of being biased in favor of Trump.” @IngrahamAngle @FoxNews  This is a t… https://t.co/6x8zfo5CsZ', '..It has been a scam right from the beginning with the illegally started Mueller Report, FISA, the leaking, lying &amp;… https://t.co/CHnaquATXU', '“U.S. Intelligence official overstated assessment of Russian efforts to help Trump.” @FoxNews @GreggJarrett They su… https://t.co/n6JcqUmqCE', 'Spelled @GiannoCaldwell!', 'Great new book just out, “Taken for Granted, How Conservatives Can Win Back Americans That Liberalism Failed”, by G… https://t.co/6ZdwFjhw2W', 'RT @GOP: “The Republican Party has nearly eight times as much cash-on-hand as the Democratic Party in the heat of the 2020 primary season.”…', 'RT @yalinunez: .@BernieSanders , I lived and went to school in #Cuba for 15 years.\\n\\nYou have NO IDEA of you are talking about.\\n\\nNot in the…', 'RT @GOP: From wanting to nationalize America’s major industries to banning fracking which could gut nearly 15 million jobs, Bernie Sanders’…', 'RT @GOP: “America loves India, America respects India, and America will always be faithful and loyal friends to the Indian people!” -@realD…', 'RT @rww_gop: The U.S. will never be a socialist country.\\n \\n“All Americans are united with the Venezuelan people in their righteous struggle…', 'RT @jepence: ICYMI @BernieSanders \\n\\n*socialism* is the destructive force in #Venezuela causing 1 in 3 people to live in hunger right now.\\nh…', 'RT @GOP: Have you activated your 2020 Sustaining Membership yet? \\n \\nWinning in November is going to take every grassroots conservative step…', 'RT @GOP: “On behalf of the entire American people...thank you all for the contributions your culture and traditions have made to my beloved…', 'Totally correct! https://t.co/T50h0BftGP', 'RT @Jim_Jordan: Comey’s FBI abused the FISA process to spy on a presidential campaign.\\n\\nTime to fix it.\\n\\nhttps://t.co/9rJIKRVU7k', 'The Coronavirus is very much under control in the USA. We are in contact with everyone and all relevant countries.… https://t.co/OwF1dR3caM', 'Set up by Schiff’s lies &amp; leaks. Same with the Mueller Witch Hunt 3 years ago! https://t.co/uSzupeHXoq', 'https://t.co/UNd3cUGWhz https://t.co/moveFYzKDq', 'THANK YOU @NarendraModi!🇺🇸🇮🇳 https://t.co/4qsZl8dy7v', 'RT @Scavino45: 🇺🇸🇮🇳 https://t.co/mcvLQ1CVng', \"RT @dcexaminer: 'Party of jobs': Ted Cruz predicts blue-collar boom will make difference for GOP in 2020 https://t.co/WzUO2Q66CU\", 'RT @GOP: President @realDonaldTrump’s Administration is COMMITTED to helping Americans struggling with mental illness.\\n \\nThe President’s ne…', 'RT @GOP: MUST WATCH: Alice Marie Johnson tells the stories of three of the women whose sentences were commuted by President @realDonaldTrum…', 'RT @GOP: “What is going on here on the Democrat side is this is a nomination process being run by the extreme left fringe of the Democratic…', 'RT @GOP: At a packed rally in Las Vegas on Friday, President Trump highlighted his historic agenda.\\n \\nNevadans want #FourMoreYears and know…', 'RT @KatrinaCampins: HUGE Latino support in Miami today for @realDonaldTrump @POTUS !!! Centro, Sur y Norte America! No Socialismo, No Comun…', 'RT @KatrinaPierson: Alaska is ready to re-elect @realDonaldTrump #KAG2020🇺🇸 https://t.co/uVIPJD3hSw', 'RT @PressSec: “The First Lady and I have just traveled 8,000 miles around the globe to deliver a message to every citizen across this natio…', \"RT @WhiteHouse: President @realDonaldTrump delivered remarks alongside Prime Minister @narendramodi at the world's largest cricket stadium!…\", 'RT @WhiteHouse: Commerce between the U.S. and India has increased by more than 40% since President @realDonaldTrump took office.\\n\\nIndia is…', 'RT @Lrihendry: @realDonaldTrump BEST President and First Lady Ever! \\n\\nI am busting with pride!', 'RT @PlaysTrumpCard: @Lrihendry @realDonaldTrump President Trump &amp; Prime Minister Modi have brought the USA and India closer in friendship t…', 'Thank you Lori, so true! https://t.co/rUoBz885u1', 'मैं\\u202f इसी\\u202f लिए भारत आया हूँ, सद्भावना और प्रेम के साथ ताकि हम अपनी अभिलाषा\\u202f प्रतीक अपनी सांझेदारी और अविश्वसनीय\\u202f वि… https://t.co/59c1EEGXIn', 'Our two national constitutions both begin with the same three beautiful words: “We the people.” That means that in… https://t.co/TXmbEUr03F']\n"
     ]
    }
   ],
   "source": [
    "data20 = []\n",
    "\n",
    "for t in Trump_tweets:\n",
    "    data20.append(t.text)\n",
    "    \n",
    "print(data20)"
   ]
  },
  {
   "cell_type": "code",
   "execution_count": null,
   "metadata": {},
   "outputs": [],
   "source": []
  },
  {
   "cell_type": "code",
   "execution_count": 1,
   "metadata": {},
   "outputs": [],
   "source": [
    "import nltk\n",
    "from nltk.corpus import stopwords\n",
    "\n",
    "def user_gist(user_timeline):\n",
    "    \n",
    "    # set up empty containers we will need throughout the loop\n",
    "    word_freq = {}\n",
    "    word_list = []\n",
    "    gist = []\n",
    "    \n",
    "    # FIRST, loop through tweets in the timeline\n",
    "    for tweet in user_timeline:\n",
    "        # split up tweets into lists of words\n",
    "        tweet_words = tweet.text.split()\n",
    "        # and combine into one big list using `extend` command\n",
    "        word_list.extend(tweet_words)\n",
    "        \n",
    "    word_list2 = [word for word in word_list if word not in stopwords.words('english')]\n",
    "    \n",
    "    # SECOND, loop through list of words in tweets\n",
    "    for w in word_list2:\n",
    "        # add each unique word and its `count` to the dictionary `word_frequency`\n",
    "        \n",
    "            word_freq[w] = word_list2.count(w)\n",
    "\n",
    "    #looping through the dictionary and adding each value, key pair to the list\n",
    "    for key in word_freq:\n",
    "        gist.append((word_freq[key], key))\n",
    "\n",
    "    #sorting the list\n",
    "    gist.sort()\n",
    "    #reversing the sort to be largest to smallest\n",
    "    gist.reverse()\n",
    "\n",
    "    #returning the list\n",
    "    return gist\n",
    "        "
   ]
  },
  {
   "cell_type": "code",
   "execution_count": 2,
   "metadata": {},
   "outputs": [
    {
     "ename": "NameError",
     "evalue": "name 'Trump_tweets' is not defined",
     "output_type": "error",
     "traceback": [
      "\u001b[1;31m---------------------------------------------------------------------------\u001b[0m",
      "\u001b[1;31mNameError\u001b[0m                                 Traceback (most recent call last)",
      "\u001b[1;32m<ipython-input-2-fa76a40e6425>\u001b[0m in \u001b[0;36m<module>\u001b[1;34m\u001b[0m\n\u001b[1;32m----> 1\u001b[1;33m \u001b[0muser_gist\u001b[0m\u001b[1;33m(\u001b[0m\u001b[0mTrump_tweets\u001b[0m\u001b[1;33m)\u001b[0m\u001b[1;33m\u001b[0m\u001b[1;33m\u001b[0m\u001b[0m\n\u001b[0m",
      "\u001b[1;31mNameError\u001b[0m: name 'Trump_tweets' is not defined"
     ]
    }
   ],
   "source": [
    "user_gist(Trump_tweets)"
   ]
  },
  {
   "cell_type": "code",
   "execution_count": 11,
   "metadata": {},
   "outputs": [
    {
     "name": "stdout",
     "output_type": "stream",
     "text": [
      "[True, True, False, False, False, False, False, False, True, False, False, False, False, False, False, False, True, False, False, False, False, False, False, False, False, False, False, False, False, False, False, False, False, False, True, True, True, True, False, True, False, False, False, False, False, False, False, False, False, False, False, False, False, False, False, False, False, True, True, False, False, False, False, False, False, False, True, True, False, False, False, True, True, False, False, False, True, True, True, False, False, False, False, False, False, False, False, False, False, False, False, False, True, True, False, True, True, False, False, True, False, False, True, True, False, False, False, False, False, False, False, True, True, False, False, False, False, False, False, False, True, False, False, False, False, False, False, False, False, False, False, False, False, False, False, False, False, False, False, False, False, False, True, False, True, False, True, True, True, True]\n"
     ]
    }
   ],
   "source": [
    "data12 = []\n",
    "for tweet in Trump_tweets:\n",
    "    data12.append(tweet.truncated)\n",
    "    \n",
    "print(data12)\n"
   ]
  },
  {
   "cell_type": "code",
   "execution_count": null,
   "metadata": {},
   "outputs": [],
   "source": []
  },
  {
   "cell_type": "code",
   "execution_count": 18,
   "metadata": {},
   "outputs": [
    {
     "name": "stdout",
     "output_type": "stream",
     "text": [
      "The account was created at: 2011-05-12 09:31:02\n"
     ]
    }
   ],
   "source": [
    "print(\"The account was created at: \"+str(example_user.created_at))"
   ]
  },
  {
   "cell_type": "code",
   "execution_count": 32,
   "metadata": {},
   "outputs": [
    {
     "data": {
      "text/plain": [
       "User(_api=<tweepy.api.API object at 0x0000016060639488>, _json={'id': 297315854, 'id_str': '297315854', 'name': 'UniversityCopenhagen', 'screen_name': 'uni_copenhagen', 'location': 'Copenhagen, Denmark', 'profile_location': None, 'description': 'About science and innovation at #ucph | Tweets in Danish @koebenhavns_uni | #scicomm', 'url': 'https://t.co/UGnmcIZRCV', 'entities': {'url': {'urls': [{'url': 'https://t.co/UGnmcIZRCV', 'expanded_url': 'http://ku.dk/english/', 'display_url': 'ku.dk/english/', 'indices': [0, 23]}]}, 'description': {'urls': []}}, 'protected': False, 'followers_count': 9038, 'friends_count': 35, 'listed_count': 187, 'created_at': 'Thu May 12 09:31:02 +0000 2011', 'favourites_count': 297, 'utc_offset': None, 'time_zone': None, 'geo_enabled': True, 'verified': False, 'statuses_count': 666, 'lang': None, 'status': {'created_at': 'Fri Feb 21 14:42:56 +0000 2020', 'id': 1230865493789216768, 'id_str': '1230865493789216768', 'text': 'Research and education is an international matter. 70 researchers from #UCPH and our five partner universities in… https://t.co/X6ZzR11HqI', 'truncated': True, 'entities': {'hashtags': [{'text': 'UCPH', 'indices': [71, 76]}], 'symbols': [], 'user_mentions': [], 'urls': [{'url': 'https://t.co/X6ZzR11HqI', 'expanded_url': 'https://twitter.com/i/web/status/1230865493789216768', 'display_url': 'twitter.com/i/web/status/1…', 'indices': [115, 138]}]}, 'source': '<a href=\"https://mobile.twitter.com\" rel=\"nofollow\">Twitter Web App</a>', 'in_reply_to_status_id': None, 'in_reply_to_status_id_str': None, 'in_reply_to_user_id': None, 'in_reply_to_user_id_str': None, 'in_reply_to_screen_name': None, 'geo': None, 'coordinates': None, 'place': None, 'contributors': None, 'is_quote_status': False, 'retweet_count': 4, 'favorite_count': 18, 'favorited': False, 'retweeted': False, 'possibly_sensitive': False, 'lang': 'en'}, 'contributors_enabled': False, 'is_translator': False, 'is_translation_enabled': False, 'profile_background_color': '901A1E', 'profile_background_image_url': 'http://abs.twimg.com/images/themes/theme1/bg.png', 'profile_background_image_url_https': 'https://abs.twimg.com/images/themes/theme1/bg.png', 'profile_background_tile': True, 'profile_image_url': 'http://pbs.twimg.com/profile_images/918209277680062466/J7On-j_X_normal.jpg', 'profile_image_url_https': 'https://pbs.twimg.com/profile_images/918209277680062466/J7On-j_X_normal.jpg', 'profile_banner_url': 'https://pbs.twimg.com/profile_banners/297315854/1393427377', 'profile_link_color': '0084B4', 'profile_sidebar_border_color': 'FFFFFF', 'profile_sidebar_fill_color': 'DDEEF6', 'profile_text_color': '333333', 'profile_use_background_image': True, 'has_extended_profile': False, 'default_profile': False, 'default_profile_image': False, 'following': False, 'follow_request_sent': False, 'notifications': False, 'translator_type': 'none'}, id=297315854, id_str='297315854', name='UniversityCopenhagen', screen_name='uni_copenhagen', location='Copenhagen, Denmark', profile_location=None, description='About science and innovation at #ucph | Tweets in Danish @koebenhavns_uni | #scicomm', url='https://t.co/UGnmcIZRCV', entities={'url': {'urls': [{'url': 'https://t.co/UGnmcIZRCV', 'expanded_url': 'http://ku.dk/english/', 'display_url': 'ku.dk/english/', 'indices': [0, 23]}]}, 'description': {'urls': []}}, protected=False, followers_count=9038, friends_count=35, listed_count=187, created_at=datetime.datetime(2011, 5, 12, 9, 31, 2), favourites_count=297, utc_offset=None, time_zone=None, geo_enabled=True, verified=False, statuses_count=666, lang=None, status=Status(_api=<tweepy.api.API object at 0x0000016060639488>, _json={'created_at': 'Fri Feb 21 14:42:56 +0000 2020', 'id': 1230865493789216768, 'id_str': '1230865493789216768', 'text': 'Research and education is an international matter. 70 researchers from #UCPH and our five partner universities in… https://t.co/X6ZzR11HqI', 'truncated': True, 'entities': {'hashtags': [{'text': 'UCPH', 'indices': [71, 76]}], 'symbols': [], 'user_mentions': [], 'urls': [{'url': 'https://t.co/X6ZzR11HqI', 'expanded_url': 'https://twitter.com/i/web/status/1230865493789216768', 'display_url': 'twitter.com/i/web/status/1…', 'indices': [115, 138]}]}, 'source': '<a href=\"https://mobile.twitter.com\" rel=\"nofollow\">Twitter Web App</a>', 'in_reply_to_status_id': None, 'in_reply_to_status_id_str': None, 'in_reply_to_user_id': None, 'in_reply_to_user_id_str': None, 'in_reply_to_screen_name': None, 'geo': None, 'coordinates': None, 'place': None, 'contributors': None, 'is_quote_status': False, 'retweet_count': 4, 'favorite_count': 18, 'favorited': False, 'retweeted': False, 'possibly_sensitive': False, 'lang': 'en'}, created_at=datetime.datetime(2020, 2, 21, 14, 42, 56), id=1230865493789216768, id_str='1230865493789216768', text='Research and education is an international matter. 70 researchers from #UCPH and our five partner universities in… https://t.co/X6ZzR11HqI', truncated=True, entities={'hashtags': [{'text': 'UCPH', 'indices': [71, 76]}], 'symbols': [], 'user_mentions': [], 'urls': [{'url': 'https://t.co/X6ZzR11HqI', 'expanded_url': 'https://twitter.com/i/web/status/1230865493789216768', 'display_url': 'twitter.com/i/web/status/1…', 'indices': [115, 138]}]}, source='Twitter Web App', source_url='https://mobile.twitter.com', in_reply_to_status_id=None, in_reply_to_status_id_str=None, in_reply_to_user_id=None, in_reply_to_user_id_str=None, in_reply_to_screen_name=None, geo=None, coordinates=None, place=None, contributors=None, is_quote_status=False, retweet_count=4, favorite_count=18, favorited=False, retweeted=False, possibly_sensitive=False, lang='en'), contributors_enabled=False, is_translator=False, is_translation_enabled=False, profile_background_color='901A1E', profile_background_image_url='http://abs.twimg.com/images/themes/theme1/bg.png', profile_background_image_url_https='https://abs.twimg.com/images/themes/theme1/bg.png', profile_background_tile=True, profile_image_url='http://pbs.twimg.com/profile_images/918209277680062466/J7On-j_X_normal.jpg', profile_image_url_https='https://pbs.twimg.com/profile_images/918209277680062466/J7On-j_X_normal.jpg', profile_banner_url='https://pbs.twimg.com/profile_banners/297315854/1393427377', profile_link_color='0084B4', profile_sidebar_border_color='FFFFFF', profile_sidebar_fill_color='DDEEF6', profile_text_color='333333', profile_use_background_image=True, has_extended_profile=False, default_profile=False, default_profile_image=False, following=False, follow_request_sent=False, notifications=False, translator_type='none')"
      ]
     },
     "execution_count": 32,
     "metadata": {},
     "output_type": "execute_result"
    }
   ],
   "source": [
    "example_user"
   ]
  },
  {
   "cell_type": "code",
   "execution_count": 37,
   "metadata": {},
   "outputs": [
    {
     "name": "stdout",
     "output_type": "stream",
     "text": [
      "The account is located at: Copenhagen, Denmark and the account has 9038 followers\n"
     ]
    }
   ],
   "source": [
    "print(\"The account is located at: \"+str(example_user.location)+\" and the account has \"+str(example_user.followers_count)+\" followers\")"
   ]
  },
  {
   "cell_type": "code",
   "execution_count": 63,
   "metadata": {},
   "outputs": [],
   "source": [
    "ny_user = api.get_user(\"mfroman\")"
   ]
  },
  {
   "cell_type": "code",
   "execution_count": 64,
   "metadata": {},
   "outputs": [
    {
     "ename": "TweepError",
     "evalue": "Not authorized.",
     "output_type": "error",
     "traceback": [
      "\u001b[1;31m---------------------------------------------------------------------------\u001b[0m",
      "\u001b[1;31mTweepError\u001b[0m                                Traceback (most recent call last)",
      "\u001b[1;32m<ipython-input-64-03f13696d29f>\u001b[0m in \u001b[0;36m<module>\u001b[1;34m\u001b[0m\n\u001b[1;32m----> 1\u001b[1;33m \u001b[0mny_user_timeline\u001b[0m \u001b[1;33m=\u001b[0m \u001b[0mapi\u001b[0m\u001b[1;33m.\u001b[0m\u001b[0muser_timeline\u001b[0m\u001b[1;33m(\u001b[0m\u001b[1;34m\"mfroman\"\u001b[0m\u001b[1;33m)\u001b[0m\u001b[1;33m\u001b[0m\u001b[1;33m\u001b[0m\u001b[0m\n\u001b[0m",
      "\u001b[1;32m~\\Anaconda3\\lib\\site-packages\\tweepy\\binder.py\u001b[0m in \u001b[0;36m_call\u001b[1;34m(*args, **kwargs)\u001b[0m\n\u001b[0;32m    248\u001b[0m                 \u001b[1;32mreturn\u001b[0m \u001b[0mmethod\u001b[0m\u001b[1;33m\u001b[0m\u001b[1;33m\u001b[0m\u001b[0m\n\u001b[0;32m    249\u001b[0m             \u001b[1;32melse\u001b[0m\u001b[1;33m:\u001b[0m\u001b[1;33m\u001b[0m\u001b[1;33m\u001b[0m\u001b[0m\n\u001b[1;32m--> 250\u001b[1;33m                 \u001b[1;32mreturn\u001b[0m \u001b[0mmethod\u001b[0m\u001b[1;33m.\u001b[0m\u001b[0mexecute\u001b[0m\u001b[1;33m(\u001b[0m\u001b[1;33m)\u001b[0m\u001b[1;33m\u001b[0m\u001b[1;33m\u001b[0m\u001b[0m\n\u001b[0m\u001b[0;32m    251\u001b[0m         \u001b[1;32mfinally\u001b[0m\u001b[1;33m:\u001b[0m\u001b[1;33m\u001b[0m\u001b[1;33m\u001b[0m\u001b[0m\n\u001b[0;32m    252\u001b[0m             \u001b[0mmethod\u001b[0m\u001b[1;33m.\u001b[0m\u001b[0msession\u001b[0m\u001b[1;33m.\u001b[0m\u001b[0mclose\u001b[0m\u001b[1;33m(\u001b[0m\u001b[1;33m)\u001b[0m\u001b[1;33m\u001b[0m\u001b[1;33m\u001b[0m\u001b[0m\n",
      "\u001b[1;32m~\\Anaconda3\\lib\\site-packages\\tweepy\\binder.py\u001b[0m in \u001b[0;36mexecute\u001b[1;34m(self)\u001b[0m\n\u001b[0;32m    231\u001b[0m                     \u001b[1;32mraise\u001b[0m \u001b[0mRateLimitError\u001b[0m\u001b[1;33m(\u001b[0m\u001b[0merror_msg\u001b[0m\u001b[1;33m,\u001b[0m \u001b[0mresp\u001b[0m\u001b[1;33m)\u001b[0m\u001b[1;33m\u001b[0m\u001b[1;33m\u001b[0m\u001b[0m\n\u001b[0;32m    232\u001b[0m                 \u001b[1;32melse\u001b[0m\u001b[1;33m:\u001b[0m\u001b[1;33m\u001b[0m\u001b[1;33m\u001b[0m\u001b[0m\n\u001b[1;32m--> 233\u001b[1;33m                     \u001b[1;32mraise\u001b[0m \u001b[0mTweepError\u001b[0m\u001b[1;33m(\u001b[0m\u001b[0merror_msg\u001b[0m\u001b[1;33m,\u001b[0m \u001b[0mresp\u001b[0m\u001b[1;33m,\u001b[0m \u001b[0mapi_code\u001b[0m\u001b[1;33m=\u001b[0m\u001b[0mapi_error_code\u001b[0m\u001b[1;33m)\u001b[0m\u001b[1;33m\u001b[0m\u001b[1;33m\u001b[0m\u001b[0m\n\u001b[0m\u001b[0;32m    234\u001b[0m \u001b[1;33m\u001b[0m\u001b[0m\n\u001b[0;32m    235\u001b[0m             \u001b[1;31m# Parse the response payload\u001b[0m\u001b[1;33m\u001b[0m\u001b[1;33m\u001b[0m\u001b[1;33m\u001b[0m\u001b[0m\n",
      "\u001b[1;31mTweepError\u001b[0m: Not authorized."
     ]
    }
   ],
   "source": [
    "ny_user_timeline = api.user_timeline(\"mfroman\")"
   ]
  },
  {
   "cell_type": "code",
   "execution_count": 65,
   "metadata": {},
   "outputs": [],
   "source": [
    "cph_sodas = api.user_timeline(\"CPH_sodas\")"
   ]
  },
  {
   "cell_type": "code",
   "execution_count": 66,
   "metadata": {},
   "outputs": [
    {
     "data": {
      "text/plain": [
       "20"
      ]
     },
     "execution_count": 66,
     "metadata": {},
     "output_type": "execute_result"
    }
   ],
   "source": [
    "len(cph_sodas)"
   ]
  },
  {
   "cell_type": "code",
   "execution_count": 74,
   "metadata": {},
   "outputs": [],
   "source": [
    "def user_gist_ny(user_timeline):\n",
    "    \n",
    "    # set up empty containers we will need throughout the loop\n",
    "    word_freq = {}\n",
    "    word_list = []\n",
    "    gist = []\n",
    "    \n",
    "    # FIRST, loop through tweets in the timeline\n",
    "    for tweet in user_timeline:\n",
    "        # split up tweets into lists of words\n",
    "        tweet_words = tweet.text.split()\n",
    "        # and combine into one big list using `extend` command\n",
    "        word_list.extend(tweet_words)\n",
    "        \n",
    "    \n",
    "    # SECOND, loop through list of words in tweets\n",
    "    for w in word_list:\n",
    "        # add each unique word and its `count` to the dictionary `word_frequency`\n",
    "        if w not in word_freq:\n",
    "            word_freq[w] = word_list.count(w)\n",
    "\n",
    "    #looping through the dictionary and adding each value, key pair to the list\n",
    "    for key in word_freq:\n",
    "        gist.append((word_freq[key], key))\n",
    "\n",
    "    #sorting the list\n",
    "    gist.sort()\n",
    "    #reversing the sort to be largest to smallest\n",
    "    gist.reverse()\n",
    "\n",
    "    #returning the list\n",
    "    return gist"
   ]
  },
  {
   "cell_type": "code",
   "execution_count": 76,
   "metadata": {},
   "outputs": [
    {
     "data": {
      "text/plain": [
       "[(10, 'RT'),\n",
       " (5, '@distractdenmark:'),\n",
       " (5, '#machineanthropology'),\n",
       " (4, 'workshop'),\n",
       " (3, 'social'),\n",
       " (3, 'series'),\n",
       " (3, 'first'),\n",
       " (3, 'Morten'),\n",
       " (3, 'Axel'),\n",
       " (3, '@suneman'),\n",
       " (3, '&amp;'),\n",
       " (2, 'the…'),\n",
       " (2, 'talk'),\n",
       " (2, 'stage'),\n",
       " (2, 'science'),\n",
       " (2, 'new'),\n",
       " (2, 'media'),\n",
       " (2, 'commenting'),\n",
       " (2, 'The'),\n",
       " (2, 'Pedersen'),\n",
       " (2, 'Machine'),\n",
       " (2, 'MSc'),\n",
       " (2, 'Join'),\n",
       " (2, 'In'),\n",
       " (2, '@andbjn:'),\n",
       " (2, '@RebAdlerNissen'),\n",
       " (2, '@CPH_SODAS'),\n",
       " (1, \"📲'Politikere\"),\n",
       " (1, 'widely'),\n",
       " (1, 'well-off'),\n",
       " (1, 'want'),\n",
       " (1, 'visited'),\n",
       " (1, 'verdens'),\n",
       " (1, 'various'),\n",
       " (1, 'using'),\n",
       " (1, 'use'),\n",
       " (1, 'us'),\n",
       " (1, 'two'),\n",
       " (1, 'transfer'),\n",
       " (1, 'tools?'),\n",
       " (1, 'thing'),\n",
       " (1, 'talks'),\n",
       " (1, 'surrounding'),\n",
       " (1, 'study'),\n",
       " (1, 'spring'),\n",
       " (1, 'spread'),\n",
       " (1, 'speakers'),\n",
       " (1, 'social…'),\n",
       " (1, 'second'),\n",
       " (1, 'scientist'),\n",
       " (1, 'school'),\n",
       " (1, 'revolves'),\n",
       " (1, 'research.'),\n",
       " (1, 'redrawing'),\n",
       " (1, 'reactions'),\n",
       " (1, 'questio…'),\n",
       " (1, 'question'),\n",
       " (1, 'på'),\n",
       " (1, 'project'),\n",
       " (1, 'prog…'),\n",
       " (1, 'program'),\n",
       " (1, 'professor'),\n",
       " (1, 'problem?'),\n",
       " (1, 'presentations'),\n",
       " (1, 'pres'),\n",
       " (1, 'predicting'),\n",
       " (1, 'politics'),\n",
       " (1, 'piece'),\n",
       " (1, 'perspectives'),\n",
       " (1, 'people'),\n",
       " (1, 'participated'),\n",
       " (1, 'og'),\n",
       " (1, 'next'),\n",
       " (1, 'neighborh…'),\n",
       " (1, 'mobil'),\n",
       " (1, 'mixing'),\n",
       " (1, 'miss'),\n",
       " (1, 'misinformation?'),\n",
       " (1, 'might'),\n",
       " (1, 'meth…'),\n",
       " (1, 'methods.'),\n",
       " (1, 'lecture'),\n",
       " (1, 'kids'),\n",
       " (1, 'joint'),\n",
       " (1, 'it?'),\n",
       " (1, 'issue).'),\n",
       " (1, 'invited'),\n",
       " (1, 'international'),\n",
       " (1, 'interesting'),\n",
       " (1, 'images,'),\n",
       " (1, 'https://t.co/hi2vClmf3e'),\n",
       " (1, 'https://t.co/b54dD3HmjC'),\n",
       " (1, 'https://t.co/YvqlQOqFsR'),\n",
       " (1, 'https://t.co/XvslIriVf4'),\n",
       " (1, 'https://t.co/VE1Q1BQsrW'),\n",
       " (1, 'https://t.co/UWN9LsZccd'),\n",
       " (1, 'https://t.co/KaoRrJUG0e'),\n",
       " (1, 'https://t.co/EKO5wosjo1'),\n",
       " (1, 'https://t.co/Arg6Mbg8ms'),\n",
       " (1, 'https://t.co/72RDrSqX…'),\n",
       " (1, 'https://t.co/62KsL3j8cY'),\n",
       " (1, 'https://t.co/5Emhm5xdNx'),\n",
       " (1, 'https://t.co/2FGpnRtu6Y'),\n",
       " (1, 'host'),\n",
       " (1, 'hele'),\n",
       " (1, 'grant!'),\n",
       " (1, 'good'),\n",
       " (1, 'front'),\n",
       " (1, 'forhandlingsrummet'),\n",
       " (1, 'forhandler'),\n",
       " (1, 'foran'),\n",
       " (1, 'fellow'),\n",
       " (1, 'even'),\n",
       " (1, 'episode'),\n",
       " (1, 'emotions'),\n",
       " (1, 'emojis,'),\n",
       " (1, 'diplomats'),\n",
       " (1, 'developments'),\n",
       " (1, 'decrease'),\n",
       " (1, 'dealing'),\n",
       " (1, 'de'),\n",
       " (1, 'day’s'),\n",
       " (1, 'days'),\n",
       " (1, 'data'),\n",
       " (1, 'co…'),\n",
       " (1, 'computational'),\n",
       " (1, 'compa…'),\n",
       " (1, 'combining'),\n",
       " (1, 'colleague…'),\n",
       " (1, 'colleagues.'),\n",
       " (1, 'co-organized'),\n",
       " (1, 'centered'),\n",
       " (1, 'både'),\n",
       " (1, 'boundaries'),\n",
       " (1, 'bots'),\n",
       " (1, 'befolkning'),\n",
       " (1, 'be?'),\n",
       " (1, 'back'),\n",
       " (1, 'awarded'),\n",
       " (1, 'attendance'),\n",
       " (1, 'aspects'),\n",
       " (1, 'article'),\n",
       " (1, 'aroun…'),\n",
       " (1, 'around'),\n",
       " (1, 'are…'),\n",
       " (1, 'ans…'),\n",
       " (1, 'affect'),\n",
       " (1, 'address'),\n",
       " (1, 'Willadsen'),\n",
       " (1, 'Why'),\n",
       " (1, 'Who'),\n",
       " (1, 'What'),\n",
       " (1, 'Vincent'),\n",
       " (1, 'UCPH'),\n",
       " (1, 'Turns'),\n",
       " (1, 'This'),\n",
       " (1, 'Thick'),\n",
       " (1, 'Testing'),\n",
       " (1, 'Sune'),\n",
       " (1, 'Spring'),\n",
       " (1, 'Social'),\n",
       " (1, 'Series'),\n",
       " (1, 'Say'),\n",
       " (1, 'Sapienza'),\n",
       " (1, 'SODAS'),\n",
       " (1, 'Rebecca'),\n",
       " (1, 'Ray…'),\n",
       " (1, 'Prof.'),\n",
       " (1, 'Phillip'),\n",
       " (1, 'PhD'),\n",
       " (1, 'Peter'),\n",
       " (1, 'Pedersen,'),\n",
       " (1, 'Passionate'),\n",
       " (1, 'Our'),\n",
       " (1, 'Nicolajsen'),\n",
       " (1, 'News'),\n",
       " (1, 'Networks'),\n",
       " (1, 'Nature'),\n",
       " (1, 'Monday.'),\n",
       " (1, 'Monday'),\n",
       " (1, 'Lehmann'),\n",
       " (1, 'Kristin'),\n",
       " (1, 'Kelton'),\n",
       " (1, 'I❤️@RISjnl'),\n",
       " (1, 'Information'),\n",
       " (1, 'Hendricks'),\n",
       " (1, 'Helene'),\n",
       " (1, 'Hear'),\n",
       " (1, 'Halkier'),\n",
       " (1, 'For'),\n",
       " (1, \"Don't\"),\n",
       " (1, 'Discussion'),\n",
       " (1, 'December'),\n",
       " (1, 'Data+'),\n",
       " (1, 'Data'),\n",
       " (1, 'DISTRACT'),\n",
       " (1, 'Copenhagen.…'),\n",
       " (1, 'Chinese'),\n",
       " (1, 'Check'),\n",
       " (1, 'Can'),\n",
       " (1, 'Bubbles'),\n",
       " (1, 'Brooker'),\n",
       " (1, 'Anthropology'),\n",
       " (1, 'Anna'),\n",
       " (1, 'And'),\n",
       " (1, 'Anabel'),\n",
       " (1, 'Adler-Nissen'),\n",
       " (1, 'AI,'),\n",
       " (1, 'A'),\n",
       " (1, '@fmerhout'),\n",
       " (1, '@daviddlassen,'),\n",
       " (1, '@daviddlassen'),\n",
       " (1, '@TANTlab:'),\n",
       " (1, '@RebAdlerNissen:'),\n",
       " (1, '@RebAdlerNissen,'),\n",
       " (1, \"@It_vest's\"),\n",
       " (1, '@Golovchenko_Yev'),\n",
       " (1, '@DIP…'),\n",
       " (1, '@Carlsbergfondet:'),\n",
       " (1, '@CPH_SODAS.'),\n",
       " (1, '@AndersKMunk'),\n",
       " (1, '2020'),\n",
       " (1, '(and'),\n",
       " (1, '(1/7)'),\n",
       " (1, \"'thick'…\"),\n",
       " (1, '#thickmachine'),\n",
       " (1, '#segregation?')]"
      ]
     },
     "execution_count": 76,
     "metadata": {},
     "output_type": "execute_result"
    }
   ],
   "source": [
    "user_gist(cph_sodas)"
   ]
  },
  {
   "cell_type": "code",
   "execution_count": 83,
   "metadata": {},
   "outputs": [],
   "source": [
    "search_pattern = \"Braithwaite\"\n",
    "\n",
    "new_tweets = api.search(search_pattern, count = 10)\n",
    "\n",
    "users_data = []\n",
    "\n",
    "for tweet in new_tweets:\n",
    "    users_data.append((tweet.created_at, tweet.text))"
   ]
  },
  {
   "cell_type": "code",
   "execution_count": 84,
   "metadata": {},
   "outputs": [
    {
     "data": {
      "text/plain": [
       "[(datetime.datetime(2020, 2, 22, 19, 7, 21),\n",
       "  'RT @brfootball: Martin Braithwaite makes his Barca debut 🔵🔴 https://t.co/PSlKtLHd7L'),\n",
       " (datetime.datetime(2020, 2, 22, 19, 7, 20),\n",
       "  'RT @EdmundOris: Martin Braithwaite just wants to play for Barça\\nSpend time with The goat 🐐, learn a thing or two from him,play football, sc…'),\n",
       " (datetime.datetime(2020, 2, 22, 19, 7, 18),\n",
       "  'RT @totalBarca: Incredible debut.\\n\\nEnergy, energy and energy.\\n\\nMartin Braithwaite, take a bow. https://t.co/A4MfLZ58jS'),\n",
       " (datetime.datetime(2020, 2, 22, 19, 7, 18),\n",
       "  \"RT @WinamaxSport: Messi quand Braithwaite l'a checké dans le vestiaire pour le féliciter. https://t.co/LUyiDq5b3K\"),\n",
       " (datetime.datetime(2020, 2, 22, 19, 7, 17),\n",
       "  'RT @FrenkismoFCB: Fuera coñas, Braithwaite es bueno y nos va ayudar muchísimo.'),\n",
       " (datetime.datetime(2020, 2, 22, 19, 7, 17),\n",
       "  \"RT @WinamaxSport: Messi quand Braithwaite l'a checké dans le vestiaire pour le féliciter. https://t.co/LUyiDq5b3K\"),\n",
       " (datetime.datetime(2020, 2, 22, 19, 7, 14),\n",
       "  'RT @goal: ⚽️ Messi\\n⚽️ Messi\\n⚽️ Messi\\n⚽️ Messi\\n\\n🅰️ Braithwaite\\n🅰️ Braithwaite\\n\\nDream team 🌟 https://t.co/35TmFmzk7R'),\n",
       " (datetime.datetime(2020, 2, 22, 19, 7, 14),\n",
       "  'RT @Joshua_Ubeku: No one believed in Chris Brown Braithwaite but less that 15 minutes of playing, he assisted Messi’s 4th goal. Funny how i…'),\n",
       " (datetime.datetime(2020, 2, 22, 19, 7, 10),\n",
       "  'RT @BarcaBot10: Braithwaite has the same amount of assists as ronaldo all season now. It’s only taken him 1 game. goat https://t.co/Q7kZhFj…'),\n",
       " (datetime.datetime(2020, 2, 22, 19, 7, 9),\n",
       "  'RT @brfootball: 2 assists in 18 minutes\\n\\nMartin Braithwaite got right to work on his debut 🤝 https://t.co/7HU9ie5Wym')]"
      ]
     },
     "execution_count": 84,
     "metadata": {},
     "output_type": "execute_result"
    }
   ],
   "source": [
    "users_data"
   ]
  }
 ],
 "metadata": {
  "kernelspec": {
   "display_name": "Python 3",
   "language": "python",
   "name": "python3"
  },
  "language_info": {
   "codemirror_mode": {
    "name": "ipython",
    "version": 3
   },
   "file_extension": ".py",
   "mimetype": "text/x-python",
   "name": "python",
   "nbconvert_exporter": "python",
   "pygments_lexer": "ipython3",
   "version": "3.7.4"
  }
 },
 "nbformat": 4,
 "nbformat_minor": 2
}
